{
 "cells": [
  {
   "cell_type": "code",
   "execution_count": 1,
   "metadata": {},
   "outputs": [],
   "source": [
    "import pandas as pd"
   ]
  },
  {
   "cell_type": "code",
   "execution_count": 3,
   "metadata": {},
   "outputs": [],
   "source": [
    "df = pd.read_csv('Automobile_data.csv')"
   ]
  },
  {
   "cell_type": "code",
   "execution_count": 4,
   "metadata": {
    "scrolled": true
   },
   "outputs": [
    {
     "name": "stdout",
     "output_type": "stream",
     "text": [
      "     symboling normalized-losses           make fuel-type aspiration num-of-doors   body-style drive-wheels engine-location  wheel-base  length  width  height  curb-weight engine-type num-of-cylinders  engine-size fuel-system  bore stroke  compression-ratio horsepower peak-rpm  city-mpg  highway-mpg  price\n",
      "0            3                 ?    alfa-romero       gas        std          two  convertible          rwd           front        88.6   168.8   64.1    48.8         2548        dohc             four          130        mpfi  3.47   2.68               9.00        111     5000        21           27  13495\n",
      "1            3                 ?    alfa-romero       gas        std          two  convertible          rwd           front        88.6   168.8   64.1    48.8         2548        dohc             four          130        mpfi  3.47   2.68               9.00        111     5000        21           27  16500\n",
      "2            1                 ?    alfa-romero       gas        std          two    hatchback          rwd           front        94.5   171.2   65.5    52.4         2823        ohcv              six          152        mpfi  2.68   3.47               9.00        154     5000        19           26  16500\n",
      "3            2               164           audi       gas        std         four        sedan          fwd           front        99.8   176.6   66.2    54.3         2337         ohc             four          109        mpfi  3.19    3.4              10.00        102     5500        24           30  13950\n",
      "4            2               164           audi       gas        std         four        sedan          4wd           front        99.4   176.6   66.4    54.3         2824         ohc             five          136        mpfi  3.19    3.4               8.00        115     5500        18           22  17450\n",
      "5            2                 ?           audi       gas        std          two        sedan          fwd           front        99.8   177.3   66.3    53.1         2507         ohc             five          136        mpfi  3.19    3.4               8.50        110     5500        19           25  15250\n",
      "6            1               158           audi       gas        std         four        sedan          fwd           front       105.8   192.7   71.4    55.7         2844         ohc             five          136        mpfi  3.19    3.4               8.50        110     5500        19           25  17710\n",
      "7            1                 ?           audi       gas        std         four        wagon          fwd           front       105.8   192.7   71.4    55.7         2954         ohc             five          136        mpfi  3.19    3.4               8.50        110     5500        19           25  18920\n",
      "8            1               158           audi       gas      turbo         four        sedan          fwd           front       105.8   192.7   71.4    55.9         3086         ohc             five          131        mpfi  3.13    3.4               8.30        140     5500        17           20  23875\n",
      "9            0                 ?           audi       gas      turbo          two    hatchback          4wd           front        99.5   178.2   67.9    52.0         3053         ohc             five          131        mpfi  3.13    3.4               7.00        160     5500        16           22      ?\n",
      "10           2               192            bmw       gas        std          two        sedan          rwd           front       101.2   176.8   64.8    54.3         2395         ohc             four          108        mpfi   3.5    2.8               8.80        101     5800        23           29  16430\n",
      "11           0               192            bmw       gas        std         four        sedan          rwd           front       101.2   176.8   64.8    54.3         2395         ohc             four          108        mpfi   3.5    2.8               8.80        101     5800        23           29  16925\n",
      "12           0               188            bmw       gas        std          two        sedan          rwd           front       101.2   176.8   64.8    54.3         2710         ohc              six          164        mpfi  3.31   3.19               9.00        121     4250        21           28  20970\n",
      "13           0               188            bmw       gas        std         four        sedan          rwd           front       101.2   176.8   64.8    54.3         2765         ohc              six          164        mpfi  3.31   3.19               9.00        121     4250        21           28  21105\n",
      "14           1                 ?            bmw       gas        std         four        sedan          rwd           front       103.5   189.0   66.9    55.7         3055         ohc              six          164        mpfi  3.31   3.19               9.00        121     4250        20           25  24565\n",
      "15           0                 ?            bmw       gas        std         four        sedan          rwd           front       103.5   189.0   66.9    55.7         3230         ohc              six          209        mpfi  3.62   3.39               8.00        182     5400        16           22  30760\n",
      "16           0                 ?            bmw       gas        std          two        sedan          rwd           front       103.5   193.8   67.9    53.7         3380         ohc              six          209        mpfi  3.62   3.39               8.00        182     5400        16           22  41315\n",
      "17           0                 ?            bmw       gas        std         four        sedan          rwd           front       110.0   197.0   70.9    56.3         3505         ohc              six          209        mpfi  3.62   3.39               8.00        182     5400        15           20  36880\n",
      "18           2               121      chevrolet       gas        std          two    hatchback          fwd           front        88.4   141.1   60.3    53.2         1488           l            three           61        2bbl  2.91   3.03               9.50         48     5100        47           53   5151\n",
      "19           1                98      chevrolet       gas        std          two    hatchback          fwd           front        94.5   155.9   63.6    52.0         1874         ohc             four           90        2bbl  3.03   3.11               9.60         70     5400        38           43   6295\n",
      "20           0                81      chevrolet       gas        std         four        sedan          fwd           front        94.5   158.8   63.6    52.0         1909         ohc             four           90        2bbl  3.03   3.11               9.60         70     5400        38           43   6575\n",
      "21           1               118          dodge       gas        std          two    hatchback          fwd           front        93.7   157.3   63.8    50.8         1876         ohc             four           90        2bbl  2.97   3.23               9.41         68     5500        37           41   5572\n",
      "22           1               118          dodge       gas        std          two    hatchback          fwd           front        93.7   157.3   63.8    50.8         1876         ohc             four           90        2bbl  2.97   3.23               9.40         68     5500        31           38   6377\n",
      "23           1               118          dodge       gas      turbo          two    hatchback          fwd           front        93.7   157.3   63.8    50.8         2128         ohc             four           98        mpfi  3.03   3.39               7.60        102     5500        24           30   7957\n",
      "24           1               148          dodge       gas        std         four    hatchback          fwd           front        93.7   157.3   63.8    50.6         1967         ohc             four           90        2bbl  2.97   3.23               9.40         68     5500        31           38   6229\n",
      "25           1               148          dodge       gas        std         four        sedan          fwd           front        93.7   157.3   63.8    50.6         1989         ohc             four           90        2bbl  2.97   3.23               9.40         68     5500        31           38   6692\n",
      "26           1               148          dodge       gas        std         four        sedan          fwd           front        93.7   157.3   63.8    50.6         1989         ohc             four           90        2bbl  2.97   3.23               9.40         68     5500        31           38   7609\n",
      "27           1               148          dodge       gas      turbo            ?        sedan          fwd           front        93.7   157.3   63.8    50.6         2191         ohc             four           98        mpfi  3.03   3.39               7.60        102     5500        24           30   8558\n",
      "28          -1               110          dodge       gas        std         four        wagon          fwd           front       103.3   174.6   64.6    59.8         2535         ohc             four          122        2bbl  3.34   3.46               8.50         88     5000        24           30   8921\n",
      "29           3               145          dodge       gas      turbo          two    hatchback          fwd           front        95.9   173.2   66.3    50.2         2811         ohc             four          156         mfi   3.6    3.9               7.00        145     5000        19           24  12964\n",
      "30           2               137          honda       gas        std          two    hatchback          fwd           front        86.6   144.6   63.9    50.8         1713         ohc             four           92        1bbl  2.91   3.41               9.60         58     4800        49           54   6479\n",
      "31           2               137          honda       gas        std          two    hatchback          fwd           front        86.6   144.6   63.9    50.8         1819         ohc             four           92        1bbl  2.91   3.41               9.20         76     6000        31           38   6855\n",
      "32           1               101          honda       gas        std          two    hatchback          fwd           front        93.7   150.0   64.0    52.6         1837         ohc             four           79        1bbl  2.91   3.07              10.10         60     5500        38           42   5399\n",
      "33           1               101          honda       gas        std          two    hatchback          fwd           front        93.7   150.0   64.0    52.6         1940         ohc             four           92        1bbl  2.91   3.41               9.20         76     6000        30           34   6529\n",
      "34           1               101          honda       gas        std          two    hatchback          fwd           front        93.7   150.0   64.0    52.6         1956         ohc             four           92        1bbl  2.91   3.41               9.20         76     6000        30           34   7129\n",
      "35           0               110          honda       gas        std         four        sedan          fwd           front        96.5   163.4   64.0    54.5         2010         ohc             four           92        1bbl  2.91   3.41               9.20         76     6000        30           34   7295\n",
      "36           0                78          honda       gas        std         four        wagon          fwd           front        96.5   157.1   63.9    58.3         2024         ohc             four           92        1bbl  2.92   3.41               9.20         76     6000        30           34   7295\n",
      "37           0               106          honda       gas        std          two    hatchback          fwd           front        96.5   167.5   65.2    53.3         2236         ohc             four          110        1bbl  3.15   3.58               9.00         86     5800        27           33   7895\n",
      "38           0               106          honda       gas        std          two    hatchback          fwd           front        96.5   167.5   65.2    53.3         2289         ohc             four          110        1bbl  3.15   3.58               9.00         86     5800        27           33   9095\n",
      "39           0                85          honda       gas        std         four        sedan          fwd           front        96.5   175.4   65.2    54.1         2304         ohc             four          110        1bbl  3.15   3.58               9.00         86     5800        27           33   8845\n",
      "40           0                85          honda       gas        std         four        sedan          fwd           front        96.5   175.4   62.5    54.1         2372         ohc             four          110        1bbl  3.15   3.58               9.00         86     5800        27           33  10295\n",
      "41           0                85          honda       gas        std         four        sedan          fwd           front        96.5   175.4   65.2    54.1         2465         ohc             four          110        mpfi  3.15   3.58               9.00        101     5800        24           28  12945\n",
      "42           1               107          honda       gas        std          two        sedan          fwd           front        96.5   169.1   66.0    51.0         2293         ohc             four          110        2bbl  3.15   3.58               9.10        100     5500        25           31  10345\n",
      "43           0                 ?          isuzu       gas        std         four        sedan          rwd           front        94.3   170.7   61.8    53.5         2337         ohc             four          111        2bbl  3.31   3.23               8.50         78     4800        24           29   6785\n",
      "44           1                 ?          isuzu       gas        std          two        sedan          fwd           front        94.5   155.9   63.6    52.0         1874         ohc             four           90        2bbl  3.03   3.11               9.60         70     5400        38           43      ?\n",
      "45           0                 ?          isuzu       gas        std         four        sedan          fwd           front        94.5   155.9   63.6    52.0         1909         ohc             four           90        2bbl  3.03   3.11               9.60         70     5400        38           43      ?\n",
      "46           2                 ?          isuzu       gas        std          two    hatchback          rwd           front        96.0   172.6   65.2    51.4         2734         ohc             four          119        spfi  3.43   3.23               9.20         90     5000        24           29  11048\n",
      "47           0               145         jaguar       gas        std         four        sedan          rwd           front       113.0   199.6   69.6    52.8         4066        dohc              six          258        mpfi  3.63   4.17               8.10        176     4750        15           19  32250\n",
      "48           0                 ?         jaguar       gas        std         four        sedan          rwd           front       113.0   199.6   69.6    52.8         4066        dohc              six          258        mpfi  3.63   4.17               8.10        176     4750        15           19  35550\n",
      "49           0                 ?         jaguar       gas        std          two        sedan          rwd           front       102.0   191.7   70.6    47.8         3950        ohcv           twelve          326        mpfi  3.54   2.76              11.50        262     5000        13           17  36000\n",
      "50           1               104          mazda       gas        std          two    hatchback          fwd           front        93.1   159.1   64.2    54.1         1890         ohc             four           91        2bbl  3.03   3.15               9.00         68     5000        30           31   5195\n",
      "51           1               104          mazda       gas        std          two    hatchback          fwd           front        93.1   159.1   64.2    54.1         1900         ohc             four           91        2bbl  3.03   3.15               9.00         68     5000        31           38   6095\n",
      "52           1               104          mazda       gas        std          two    hatchback          fwd           front        93.1   159.1   64.2    54.1         1905         ohc             four           91        2bbl  3.03   3.15               9.00         68     5000        31           38   6795\n",
      "53           1               113          mazda       gas        std         four        sedan          fwd           front        93.1   166.8   64.2    54.1         1945         ohc             four           91        2bbl  3.03   3.15               9.00         68     5000        31           38   6695\n",
      "54           1               113          mazda       gas        std         four        sedan          fwd           front        93.1   166.8   64.2    54.1         1950         ohc             four           91        2bbl  3.08   3.15               9.00         68     5000        31           38   7395\n",
      "55           3               150          mazda       gas        std          two    hatchback          rwd           front        95.3   169.0   65.7    49.6         2380       rotor              two           70        4bbl     ?      ?               9.40        101     6000        17           23  10945\n",
      "56           3               150          mazda       gas        std          two    hatchback          rwd           front        95.3   169.0   65.7    49.6         2380       rotor              two           70        4bbl     ?      ?               9.40        101     6000        17           23  11845\n",
      "57           3               150          mazda       gas        std          two    hatchback          rwd           front        95.3   169.0   65.7    49.6         2385       rotor              two           70        4bbl     ?      ?               9.40        101     6000        17           23  13645\n",
      "58           3               150          mazda       gas        std          two    hatchback          rwd           front        95.3   169.0   65.7    49.6         2500       rotor              two           80        mpfi     ?      ?               9.40        135     6000        16           23  15645\n",
      "59           1               129          mazda       gas        std          two    hatchback          fwd           front        98.8   177.8   66.5    53.7         2385         ohc             four          122        2bbl  3.39   3.39               8.60         84     4800        26           32   8845\n",
      "60           0               115          mazda       gas        std         four        sedan          fwd           front        98.8   177.8   66.5    55.5         2410         ohc             four          122        2bbl  3.39   3.39               8.60         84     4800        26           32   8495\n",
      "61           1               129          mazda       gas        std          two    hatchback          fwd           front        98.8   177.8   66.5    53.7         2385         ohc             four          122        2bbl  3.39   3.39               8.60         84     4800        26           32  10595\n",
      "62           0               115          mazda       gas        std         four        sedan          fwd           front        98.8   177.8   66.5    55.5         2410         ohc             four          122        2bbl  3.39   3.39               8.60         84     4800        26           32  10245\n",
      "63           0                 ?          mazda    diesel        std            ?        sedan          fwd           front        98.8   177.8   66.5    55.5         2443         ohc             four          122         idi  3.39   3.39              22.70         64     4650        36           42  10795\n",
      "64           0               115          mazda       gas        std         four    hatchback          fwd           front        98.8   177.8   66.5    55.5         2425         ohc             four          122        2bbl  3.39   3.39               8.60         84     4800        26           32  11245\n",
      "65           0               118          mazda       gas        std         four        sedan          rwd           front       104.9   175.0   66.1    54.4         2670         ohc             four          140        mpfi  3.76   3.16               8.00        120     5000        19           27  18280\n",
      "66           0                 ?          mazda    diesel        std         four        sedan          rwd           front       104.9   175.0   66.1    54.4         2700         ohc             four          134         idi  3.43   3.64              22.00         72     4200        31           39  18344\n",
      "67          -1                93  mercedes-benz    diesel      turbo         four        sedan          rwd           front       110.0   190.9   70.3    56.5         3515         ohc             five          183         idi  3.58   3.64              21.50        123     4350        22           25  25552\n",
      "68          -1                93  mercedes-benz    diesel      turbo         four        wagon          rwd           front       110.0   190.9   70.3    58.7         3750         ohc             five          183         idi  3.58   3.64              21.50        123     4350        22           25  28248\n",
      "69           0                93  mercedes-benz    diesel      turbo          two      hardtop          rwd           front       106.7   187.5   70.3    54.9         3495         ohc             five          183         idi  3.58   3.64              21.50        123     4350        22           25  28176\n",
      "70          -1                93  mercedes-benz    diesel      turbo         four        sedan          rwd           front       115.6   202.6   71.7    56.3         3770         ohc             five          183         idi  3.58   3.64              21.50        123     4350        22           25  31600\n",
      "71          -1                 ?  mercedes-benz       gas        std         four        sedan          rwd           front       115.6   202.6   71.7    56.5         3740        ohcv            eight          234        mpfi  3.46    3.1               8.30        155     4750        16           18  34184\n",
      "72           3               142  mercedes-benz       gas        std          two  convertible          rwd           front        96.6   180.3   70.5    50.8         3685        ohcv            eight          234        mpfi  3.46    3.1               8.30        155     4750        16           18  35056\n",
      "73           0                 ?  mercedes-benz       gas        std         four        sedan          rwd           front       120.9   208.1   71.7    56.7         3900        ohcv            eight          308        mpfi   3.8   3.35               8.00        184     4500        14           16  40960\n",
      "74           1                 ?  mercedes-benz       gas        std          two      hardtop          rwd           front       112.0   199.2   72.0    55.4         3715        ohcv            eight          304        mpfi   3.8   3.35               8.00        184     4500        14           16  45400\n",
      "75           1                 ?        mercury       gas      turbo          two    hatchback          rwd           front       102.7   178.4   68.0    54.8         2910         ohc             four          140        mpfi  3.78   3.12               8.00        175     5000        19           24  16503\n",
      "76           2               161     mitsubishi       gas        std          two    hatchback          fwd           front        93.7   157.3   64.4    50.8         1918         ohc             four           92        2bbl  2.97   3.23               9.40         68     5500        37           41   5389\n",
      "77           2               161     mitsubishi       gas        std          two    hatchback          fwd           front        93.7   157.3   64.4    50.8         1944         ohc             four           92        2bbl  2.97   3.23               9.40         68     5500        31           38   6189\n",
      "78           2               161     mitsubishi       gas        std          two    hatchback          fwd           front        93.7   157.3   64.4    50.8         2004         ohc             four           92        2bbl  2.97   3.23               9.40         68     5500        31           38   6669\n",
      "79           1               161     mitsubishi       gas      turbo          two    hatchback          fwd           front        93.0   157.3   63.8    50.8         2145         ohc             four           98        spdi  3.03   3.39               7.60        102     5500        24           30   7689\n",
      "80           3               153     mitsubishi       gas      turbo          two    hatchback          fwd           front        96.3   173.0   65.4    49.4         2370         ohc             four          110        spdi  3.17   3.46               7.50        116     5500        23           30   9959\n",
      "81           3               153     mitsubishi       gas        std          two    hatchback          fwd           front        96.3   173.0   65.4    49.4         2328         ohc             four          122        2bbl  3.35   3.46               8.50         88     5000        25           32   8499\n",
      "82           3                 ?     mitsubishi       gas      turbo          two    hatchback          fwd           front        95.9   173.2   66.3    50.2         2833         ohc             four          156        spdi  3.58   3.86               7.00        145     5000        19           24  12629\n",
      "83           3                 ?     mitsubishi       gas      turbo          two    hatchback          fwd           front        95.9   173.2   66.3    50.2         2921         ohc             four          156        spdi  3.59   3.86               7.00        145     5000        19           24  14869\n",
      "84           3                 ?     mitsubishi       gas      turbo          two    hatchback          fwd           front        95.9   173.2   66.3    50.2         2926         ohc             four          156        spdi  3.59   3.86               7.00        145     5000        19           24  14489\n",
      "85           1               125     mitsubishi       gas        std         four        sedan          fwd           front        96.3   172.4   65.4    51.6         2365         ohc             four          122        2bbl  3.35   3.46               8.50         88     5000        25           32   6989\n",
      "86           1               125     mitsubishi       gas        std         four        sedan          fwd           front        96.3   172.4   65.4    51.6         2405         ohc             four          122        2bbl  3.35   3.46               8.50         88     5000        25           32   8189\n",
      "87           1               125     mitsubishi       gas      turbo         four        sedan          fwd           front        96.3   172.4   65.4    51.6         2403         ohc             four          110        spdi  3.17   3.46               7.50        116     5500        23           30   9279\n",
      "88          -1               137     mitsubishi       gas        std         four        sedan          fwd           front        96.3   172.4   65.4    51.6         2403         ohc             four          110        spdi  3.17   3.46               7.50        116     5500        23           30   9279\n",
      "89           1               128         nissan       gas        std          two        sedan          fwd           front        94.5   165.3   63.8    54.5         1889         ohc             four           97        2bbl  3.15   3.29               9.40         69     5200        31           37   5499\n",
      "90           1               128         nissan    diesel        std          two        sedan          fwd           front        94.5   165.3   63.8    54.5         2017         ohc             four          103         idi  2.99   3.47              21.90         55     4800        45           50   7099\n",
      "91           1               128         nissan       gas        std          two        sedan          fwd           front        94.5   165.3   63.8    54.5         1918         ohc             four           97        2bbl  3.15   3.29               9.40         69     5200        31           37   6649\n",
      "92           1               122         nissan       gas        std         four        sedan          fwd           front        94.5   165.3   63.8    54.5         1938         ohc             four           97        2bbl  3.15   3.29               9.40         69     5200        31           37   6849\n",
      "93           1               103         nissan       gas        std         four        wagon          fwd           front        94.5   170.2   63.8    53.5         2024         ohc             four           97        2bbl  3.15   3.29               9.40         69     5200        31           37   7349\n",
      "94           1               128         nissan       gas        std          two        sedan          fwd           front        94.5   165.3   63.8    54.5         1951         ohc             four           97        2bbl  3.15   3.29               9.40         69     5200        31           37   7299\n",
      "95           1               128         nissan       gas        std          two    hatchback          fwd           front        94.5   165.6   63.8    53.3         2028         ohc             four           97        2bbl  3.15   3.29               9.40         69     5200        31           37   7799\n",
      "96           1               122         nissan       gas        std         four        sedan          fwd           front        94.5   165.3   63.8    54.5         1971         ohc             four           97        2bbl  3.15   3.29               9.40         69     5200        31           37   7499\n",
      "97           1               103         nissan       gas        std         four        wagon          fwd           front        94.5   170.2   63.8    53.5         2037         ohc             four           97        2bbl  3.15   3.29               9.40         69     5200        31           37   7999\n",
      "98           2               168         nissan       gas        std          two      hardtop          fwd           front        95.1   162.4   63.8    53.3         2008         ohc             four           97        2bbl  3.15   3.29               9.40         69     5200        31           37   8249\n",
      "99           0               106         nissan       gas        std         four    hatchback          fwd           front        97.2   173.4   65.2    54.7         2324         ohc             four          120        2bbl  3.33   3.47               8.50         97     5200        27           34   8949\n",
      "100          0               106         nissan       gas        std         four        sedan          fwd           front        97.2   173.4   65.2    54.7         2302         ohc             four          120        2bbl  3.33   3.47               8.50         97     5200        27           34   9549\n",
      "101          0               128         nissan       gas        std         four        sedan          fwd           front       100.4   181.7   66.5    55.1         3095        ohcv              six          181        mpfi  3.43   3.27               9.00        152     5200        17           22  13499\n",
      "102          0               108         nissan       gas        std         four        wagon          fwd           front       100.4   184.6   66.5    56.1         3296        ohcv              six          181        mpfi  3.43   3.27               9.00        152     5200        17           22  14399\n",
      "103          0               108         nissan       gas        std         four        sedan          fwd           front       100.4   184.6   66.5    55.1         3060        ohcv              six          181        mpfi  3.43   3.27               9.00        152     5200        19           25  13499\n",
      "104          3               194         nissan       gas        std          two    hatchback          rwd           front        91.3   170.7   67.9    49.7         3071        ohcv              six          181        mpfi  3.43   3.27               9.00        160     5200        19           25  17199\n",
      "105          3               194         nissan       gas      turbo          two    hatchback          rwd           front        91.3   170.7   67.9    49.7         3139        ohcv              six          181        mpfi  3.43   3.27               7.80        200     5200        17           23  19699\n",
      "106          1               231         nissan       gas        std          two    hatchback          rwd           front        99.2   178.5   67.9    49.7         3139        ohcv              six          181        mpfi  3.43   3.27               9.00        160     5200        19           25  18399\n",
      "107          0               161         peugot       gas        std         four        sedan          rwd           front       107.9   186.7   68.4    56.7         3020           l             four          120        mpfi  3.46   3.19               8.40         97     5000        19           24  11900\n",
      "108          0               161         peugot    diesel      turbo         four        sedan          rwd           front       107.9   186.7   68.4    56.7         3197           l             four          152         idi   3.7   3.52              21.00         95     4150        28           33  13200\n",
      "109          0                 ?         peugot       gas        std         four        wagon          rwd           front       114.2   198.9   68.4    58.7         3230           l             four          120        mpfi  3.46   3.19               8.40         97     5000        19           24  12440\n",
      "110          0                 ?         peugot    diesel      turbo         four        wagon          rwd           front       114.2   198.9   68.4    58.7         3430           l             four          152         idi   3.7   3.52              21.00         95     4150        25           25  13860\n",
      "111          0               161         peugot       gas        std         four        sedan          rwd           front       107.9   186.7   68.4    56.7         3075           l             four          120        mpfi  3.46   2.19               8.40         95     5000        19           24  15580\n",
      "112          0               161         peugot    diesel      turbo         four        sedan          rwd           front       107.9   186.7   68.4    56.7         3252           l             four          152         idi   3.7   3.52              21.00         95     4150        28           33  16900\n",
      "113          0                 ?         peugot       gas        std         four        wagon          rwd           front       114.2   198.9   68.4    56.7         3285           l             four          120        mpfi  3.46   2.19               8.40         95     5000        19           24  16695\n",
      "114          0                 ?         peugot    diesel      turbo         four        wagon          rwd           front       114.2   198.9   68.4    58.7         3485           l             four          152         idi   3.7   3.52              21.00         95     4150        25           25  17075\n",
      "115          0               161         peugot       gas        std         four        sedan          rwd           front       107.9   186.7   68.4    56.7         3075           l             four          120        mpfi  3.46   3.19               8.40         97     5000        19           24  16630\n",
      "116          0               161         peugot    diesel      turbo         four        sedan          rwd           front       107.9   186.7   68.4    56.7         3252           l             four          152         idi   3.7   3.52              21.00         95     4150        28           33  17950\n",
      "117          0               161         peugot       gas      turbo         four        sedan          rwd           front       108.0   186.7   68.3    56.0         3130           l             four          134        mpfi  3.61   3.21               7.00        142     5600        18           24  18150\n",
      "118          1               119       plymouth       gas        std          two    hatchback          fwd           front        93.7   157.3   63.8    50.8         1918         ohc             four           90        2bbl  2.97   3.23               9.40         68     5500        37           41   5572\n",
      "119          1               119       plymouth       gas      turbo          two    hatchback          fwd           front        93.7   157.3   63.8    50.8         2128         ohc             four           98        spdi  3.03   3.39               7.60        102     5500        24           30   7957\n",
      "120          1               154       plymouth       gas        std         four    hatchback          fwd           front        93.7   157.3   63.8    50.6         1967         ohc             four           90        2bbl  2.97   3.23               9.40         68     5500        31           38   6229\n",
      "121          1               154       plymouth       gas        std         four        sedan          fwd           front        93.7   167.3   63.8    50.8         1989         ohc             four           90        2bbl  2.97   3.23               9.40         68     5500        31           38   6692\n",
      "122          1               154       plymouth       gas        std         four        sedan          fwd           front        93.7   167.3   63.8    50.8         2191         ohc             four           98        2bbl  2.97   3.23               9.40         68     5500        31           38   7609\n",
      "123         -1                74       plymouth       gas        std         four        wagon          fwd           front       103.3   174.6   64.6    59.8         2535         ohc             four          122        2bbl  3.35   3.46               8.50         88     5000        24           30   8921\n",
      "124          3                 ?       plymouth       gas      turbo          two    hatchback          rwd           front        95.9   173.2   66.3    50.2         2818         ohc             four          156        spdi  3.59   3.86               7.00        145     5000        19           24  12764\n",
      "125          3               186        porsche       gas        std          two    hatchback          rwd           front        94.5   168.9   68.3    50.2         2778         ohc             four          151        mpfi  3.94   3.11               9.50        143     5500        19           27  22018\n",
      "126          3                 ?        porsche       gas        std          two      hardtop          rwd            rear        89.5   168.9   65.0    51.6         2756        ohcf              six          194        mpfi  3.74    2.9               9.50        207     5900        17           25  32528\n",
      "127          3                 ?        porsche       gas        std          two      hardtop          rwd            rear        89.5   168.9   65.0    51.6         2756        ohcf              six          194        mpfi  3.74    2.9               9.50        207     5900        17           25  34028\n",
      "128          3                 ?        porsche       gas        std          two  convertible          rwd            rear        89.5   168.9   65.0    51.6         2800        ohcf              six          194        mpfi  3.74    2.9               9.50        207     5900        17           25  37028\n",
      "129          1                 ?        porsche       gas        std          two    hatchback          rwd           front        98.4   175.7   72.3    50.5         3366       dohcv            eight          203        mpfi  3.94   3.11              10.00        288     5750        17           28      ?\n",
      "130          0                 ?        renault       gas        std         four        wagon          fwd           front        96.1   181.5   66.5    55.2         2579         ohc             four          132        mpfi  3.46    3.9               8.70          ?        ?        23           31   9295\n",
      "131          2                 ?        renault       gas        std          two    hatchback          fwd           front        96.1   176.8   66.6    50.5         2460         ohc             four          132        mpfi  3.46    3.9               8.70          ?        ?        23           31   9895\n",
      "132          3               150           saab       gas        std          two    hatchback          fwd           front        99.1   186.6   66.5    56.1         2658         ohc             four          121        mpfi  3.54   3.07               9.31        110     5250        21           28  11850\n",
      "133          2               104           saab       gas        std         four        sedan          fwd           front        99.1   186.6   66.5    56.1         2695         ohc             four          121        mpfi  3.54   3.07               9.30        110     5250        21           28  12170\n",
      "134          3               150           saab       gas        std          two    hatchback          fwd           front        99.1   186.6   66.5    56.1         2707         ohc             four          121        mpfi  2.54   2.07               9.30        110     5250        21           28  15040\n",
      "135          2               104           saab       gas        std         four        sedan          fwd           front        99.1   186.6   66.5    56.1         2758         ohc             four          121        mpfi  3.54   3.07               9.30        110     5250        21           28  15510\n",
      "136          3               150           saab       gas      turbo          two    hatchback          fwd           front        99.1   186.6   66.5    56.1         2808        dohc             four          121        mpfi  3.54   3.07               9.00        160     5500        19           26  18150\n",
      "137          2               104           saab       gas      turbo         four        sedan          fwd           front        99.1   186.6   66.5    56.1         2847        dohc             four          121        mpfi  3.54   3.07               9.00        160     5500        19           26  18620\n",
      "138          2                83         subaru       gas        std          two    hatchback          fwd           front        93.7   156.9   63.4    53.7         2050        ohcf             four           97        2bbl  3.62   2.36               9.00         69     4900        31           36   5118\n",
      "139          2                83         subaru       gas        std          two    hatchback          fwd           front        93.7   157.9   63.6    53.7         2120        ohcf             four          108        2bbl  3.62   2.64               8.70         73     4400        26           31   7053\n",
      "140          2                83         subaru       gas        std          two    hatchback          4wd           front        93.3   157.3   63.8    55.7         2240        ohcf             four          108        2bbl  3.62   2.64               8.70         73     4400        26           31   7603\n",
      "141          0               102         subaru       gas        std         four        sedan          fwd           front        97.2   172.0   65.4    52.5         2145        ohcf             four          108        2bbl  3.62   2.64               9.50         82     4800        32           37   7126\n",
      "142          0               102         subaru       gas        std         four        sedan          fwd           front        97.2   172.0   65.4    52.5         2190        ohcf             four          108        2bbl  3.62   2.64               9.50         82     4400        28           33   7775\n",
      "143          0               102         subaru       gas        std         four        sedan          fwd           front        97.2   172.0   65.4    52.5         2340        ohcf             four          108        mpfi  3.62   2.64               9.00         94     5200        26           32   9960\n",
      "144          0               102         subaru       gas        std         four        sedan          4wd           front        97.0   172.0   65.4    54.3         2385        ohcf             four          108        2bbl  3.62   2.64               9.00         82     4800        24           25   9233\n",
      "145          0               102         subaru       gas      turbo         four        sedan          4wd           front        97.0   172.0   65.4    54.3         2510        ohcf             four          108        mpfi  3.62   2.64               7.70        111     4800        24           29  11259\n",
      "146          0                89         subaru       gas        std         four        wagon          fwd           front        97.0   173.5   65.4    53.0         2290        ohcf             four          108        2bbl  3.62   2.64               9.00         82     4800        28           32   7463\n",
      "147          0                89         subaru       gas        std         four        wagon          fwd           front        97.0   173.5   65.4    53.0         2455        ohcf             four          108        mpfi  3.62   2.64               9.00         94     5200        25           31  10198\n",
      "148          0                85         subaru       gas        std         four        wagon          4wd           front        96.9   173.6   65.4    54.9         2420        ohcf             four          108        2bbl  3.62   2.64               9.00         82     4800        23           29   8013\n",
      "149          0                85         subaru       gas      turbo         four        wagon          4wd           front        96.9   173.6   65.4    54.9         2650        ohcf             four          108        mpfi  3.62   2.64               7.70        111     4800        23           23  11694\n",
      "150          1                87         toyota       gas        std          two    hatchback          fwd           front        95.7   158.7   63.6    54.5         1985         ohc             four           92        2bbl  3.05   3.03               9.00         62     4800        35           39   5348\n",
      "151          1                87         toyota       gas        std          two    hatchback          fwd           front        95.7   158.7   63.6    54.5         2040         ohc             four           92        2bbl  3.05   3.03               9.00         62     4800        31           38   6338\n",
      "152          1                74         toyota       gas        std         four    hatchback          fwd           front        95.7   158.7   63.6    54.5         2015         ohc             four           92        2bbl  3.05   3.03               9.00         62     4800        31           38   6488\n",
      "153          0                77         toyota       gas        std         four        wagon          fwd           front        95.7   169.7   63.6    59.1         2280         ohc             four           92        2bbl  3.05   3.03               9.00         62     4800        31           37   6918\n",
      "154          0                81         toyota       gas        std         four        wagon          4wd           front        95.7   169.7   63.6    59.1         2290         ohc             four           92        2bbl  3.05   3.03               9.00         62     4800        27           32   7898\n",
      "155          0                91         toyota       gas        std         four        wagon          4wd           front        95.7   169.7   63.6    59.1         3110         ohc             four           92        2bbl  3.05   3.03               9.00         62     4800        27           32   8778\n",
      "156          0                91         toyota       gas        std         four        sedan          fwd           front        95.7   166.3   64.4    53.0         2081         ohc             four           98        2bbl  3.19   3.03               9.00         70     4800        30           37   6938\n",
      "157          0                91         toyota       gas        std         four    hatchback          fwd           front        95.7   166.3   64.4    52.8         2109         ohc             four           98        2bbl  3.19   3.03               9.00         70     4800        30           37   7198\n",
      "158          0                91         toyota    diesel        std         four        sedan          fwd           front        95.7   166.3   64.4    53.0         2275         ohc             four          110         idi  3.27   3.35              22.50         56     4500        34           36   7898\n",
      "159          0                91         toyota    diesel        std         four    hatchback          fwd           front        95.7   166.3   64.4    52.8         2275         ohc             four          110         idi  3.27   3.35              22.50         56     4500        38           47   7788\n",
      "160          0                91         toyota       gas        std         four        sedan          fwd           front        95.7   166.3   64.4    53.0         2094         ohc             four           98        2bbl  3.19   3.03               9.00         70     4800        38           47   7738\n",
      "161          0                91         toyota       gas        std         four    hatchback          fwd           front        95.7   166.3   64.4    52.8         2122         ohc             four           98        2bbl  3.19   3.03               9.00         70     4800        28           34   8358\n",
      "162          0                91         toyota       gas        std         four        sedan          fwd           front        95.7   166.3   64.4    52.8         2140         ohc             four           98        2bbl  3.19   3.03               9.00         70     4800        28           34   9258\n",
      "163          1               168         toyota       gas        std          two        sedan          rwd           front        94.5   168.7   64.0    52.6         2169         ohc             four           98        2bbl  3.19   3.03               9.00         70     4800        29           34   8058\n",
      "164          1               168         toyota       gas        std          two    hatchback          rwd           front        94.5   168.7   64.0    52.6         2204         ohc             four           98        2bbl  3.19   3.03               9.00         70     4800        29           34   8238\n",
      "165          1               168         toyota       gas        std          two        sedan          rwd           front        94.5   168.7   64.0    52.6         2265        dohc             four           98        mpfi  3.24   3.08               9.40        112     6600        26           29   9298\n",
      "166          1               168         toyota       gas        std          two    hatchback          rwd           front        94.5   168.7   64.0    52.6         2300        dohc             four           98        mpfi  3.24   3.08               9.40        112     6600        26           29   9538\n",
      "167          2               134         toyota       gas        std          two      hardtop          rwd           front        98.4   176.2   65.6    52.0         2540         ohc             four          146        mpfi  3.62    3.5               9.30        116     4800        24           30   8449\n",
      "168          2               134         toyota       gas        std          two      hardtop          rwd           front        98.4   176.2   65.6    52.0         2536         ohc             four          146        mpfi  3.62    3.5               9.30        116     4800        24           30   9639\n",
      "169          2               134         toyota       gas        std          two    hatchback          rwd           front        98.4   176.2   65.6    52.0         2551         ohc             four          146        mpfi  3.62    3.5               9.30        116     4800        24           30   9989\n",
      "170          2               134         toyota       gas        std          two      hardtop          rwd           front        98.4   176.2   65.6    52.0         2679         ohc             four          146        mpfi  3.62    3.5               9.30        116     4800        24           30  11199\n",
      "171          2               134         toyota       gas        std          two    hatchback          rwd           front        98.4   176.2   65.6    52.0         2714         ohc             four          146        mpfi  3.62    3.5               9.30        116     4800        24           30  11549\n",
      "172          2               134         toyota       gas        std          two  convertible          rwd           front        98.4   176.2   65.6    53.0         2975         ohc             four          146        mpfi  3.62    3.5               9.30        116     4800        24           30  17669\n",
      "173         -1                65         toyota       gas        std         four        sedan          fwd           front       102.4   175.6   66.5    54.9         2326         ohc             four          122        mpfi  3.31   3.54               8.70         92     4200        29           34   8948\n",
      "174         -1                65         toyota    diesel      turbo         four        sedan          fwd           front       102.4   175.6   66.5    54.9         2480         ohc             four          110         idi  3.27   3.35              22.50         73     4500        30           33  10698\n",
      "175         -1                65         toyota       gas        std         four    hatchback          fwd           front       102.4   175.6   66.5    53.9         2414         ohc             four          122        mpfi  3.31   3.54               8.70         92     4200        27           32   9988\n",
      "176         -1                65         toyota       gas        std         four        sedan          fwd           front       102.4   175.6   66.5    54.9         2414         ohc             four          122        mpfi  3.31   3.54               8.70         92     4200        27           32  10898\n",
      "177         -1                65         toyota       gas        std         four    hatchback          fwd           front       102.4   175.6   66.5    53.9         2458         ohc             four          122        mpfi  3.31   3.54               8.70         92     4200        27           32  11248\n",
      "178          3               197         toyota       gas        std          two    hatchback          rwd           front       102.9   183.5   67.7    52.0         2976        dohc              six          171        mpfi  3.27   3.35               9.30        161     5200        20           24  16558\n",
      "179          3               197         toyota       gas        std          two    hatchback          rwd           front       102.9   183.5   67.7    52.0         3016        dohc              six          171        mpfi  3.27   3.35               9.30        161     5200        19           24  15998\n",
      "180         -1                90         toyota       gas        std         four        sedan          rwd           front       104.5   187.8   66.5    54.1         3131        dohc              six          171        mpfi  3.27   3.35               9.20        156     5200        20           24  15690\n",
      "181         -1                 ?         toyota       gas        std         four        wagon          rwd           front       104.5   187.8   66.5    54.1         3151        dohc              six          161        mpfi  3.27   3.35               9.20        156     5200        19           24  15750\n",
      "182          2               122     volkswagen    diesel        std          two        sedan          fwd           front        97.3   171.7   65.5    55.7         2261         ohc             four           97         idi  3.01    3.4              23.00         52     4800        37           46   7775\n",
      "183          2               122     volkswagen       gas        std          two        sedan          fwd           front        97.3   171.7   65.5    55.7         2209         ohc             four          109        mpfi  3.19    3.4               9.00         85     5250        27           34   7975\n",
      "184          2                94     volkswagen    diesel        std         four        sedan          fwd           front        97.3   171.7   65.5    55.7         2264         ohc             four           97         idi  3.01    3.4              23.00         52     4800        37           46   7995\n",
      "185          2                94     volkswagen       gas        std         four        sedan          fwd           front        97.3   171.7   65.5    55.7         2212         ohc             four          109        mpfi  3.19    3.4               9.00         85     5250        27           34   8195\n",
      "186          2                94     volkswagen       gas        std         four        sedan          fwd           front        97.3   171.7   65.5    55.7         2275         ohc             four          109        mpfi  3.19    3.4               9.00         85     5250        27           34   8495\n",
      "187          2                94     volkswagen    diesel      turbo         four        sedan          fwd           front        97.3   171.7   65.5    55.7         2319         ohc             four           97         idi  3.01    3.4              23.00         68     4500        37           42   9495\n",
      "188          2                94     volkswagen       gas        std         four        sedan          fwd           front        97.3   171.7   65.5    55.7         2300         ohc             four          109        mpfi  3.19    3.4              10.00        100     5500        26           32   9995\n",
      "189          3                 ?     volkswagen       gas        std          two  convertible          fwd           front        94.5   159.3   64.2    55.6         2254         ohc             four          109        mpfi  3.19    3.4               8.50         90     5500        24           29  11595\n",
      "190          3               256     volkswagen       gas        std          two    hatchback          fwd           front        94.5   165.7   64.0    51.4         2221         ohc             four          109        mpfi  3.19    3.4               8.50         90     5500        24           29   9980\n",
      "191          0                 ?     volkswagen       gas        std         four        sedan          fwd           front       100.4   180.2   66.9    55.1         2661         ohc             five          136        mpfi  3.19    3.4               8.50        110     5500        19           24  13295\n",
      "192          0                 ?     volkswagen    diesel      turbo         four        sedan          fwd           front       100.4   180.2   66.9    55.1         2579         ohc             four           97         idi  3.01    3.4              23.00         68     4500        33           38  13845\n",
      "193          0                 ?     volkswagen       gas        std         four        wagon          fwd           front       100.4   183.1   66.9    55.1         2563         ohc             four          109        mpfi  3.19    3.4               9.00         88     5500        25           31  12290\n",
      "194         -2               103          volvo       gas        std         four        sedan          rwd           front       104.3   188.8   67.2    56.2         2912         ohc             four          141        mpfi  3.78   3.15               9.50        114     5400        23           28  12940\n",
      "195         -1                74          volvo       gas        std         four        wagon          rwd           front       104.3   188.8   67.2    57.5         3034         ohc             four          141        mpfi  3.78   3.15               9.50        114     5400        23           28  13415\n",
      "196         -2               103          volvo       gas        std         four        sedan          rwd           front       104.3   188.8   67.2    56.2         2935         ohc             four          141        mpfi  3.78   3.15               9.50        114     5400        24           28  15985\n",
      "197         -1                74          volvo       gas        std         four        wagon          rwd           front       104.3   188.8   67.2    57.5         3042         ohc             four          141        mpfi  3.78   3.15               9.50        114     5400        24           28  16515\n",
      "198         -2               103          volvo       gas      turbo         four        sedan          rwd           front       104.3   188.8   67.2    56.2         3045         ohc             four          130        mpfi  3.62   3.15               7.50        162     5100        17           22  18420\n",
      "199         -1                74          volvo       gas      turbo         four        wagon          rwd           front       104.3   188.8   67.2    57.5         3157         ohc             four          130        mpfi  3.62   3.15               7.50        162     5100        17           22  18950\n",
      "200         -1                95          volvo       gas        std         four        sedan          rwd           front       109.1   188.8   68.9    55.5         2952         ohc             four          141        mpfi  3.78   3.15               9.50        114     5400        23           28  16845\n",
      "201         -1                95          volvo       gas      turbo         four        sedan          rwd           front       109.1   188.8   68.8    55.5         3049         ohc             four          141        mpfi  3.78   3.15               8.70        160     5300        19           25  19045\n",
      "202         -1                95          volvo       gas        std         four        sedan          rwd           front       109.1   188.8   68.9    55.5         3012        ohcv              six          173        mpfi  3.58   2.87               8.80        134     5500        18           23  21485\n",
      "203         -1                95          volvo    diesel      turbo         four        sedan          rwd           front       109.1   188.8   68.9    55.5         3217         ohc              six          145         idi  3.01    3.4              23.00        106     4800        26           27  22470\n",
      "204         -1                95          volvo       gas      turbo         four        sedan          rwd           front       109.1   188.8   68.9    55.5         3062         ohc             four          141        mpfi  3.78   3.15               9.50        114     5400        19           25  22625\n"
     ]
    }
   ],
   "source": [
    "print(df.to_string())"
   ]
  },
  {
   "cell_type": "code",
   "execution_count": 6,
   "metadata": {},
   "outputs": [
    {
     "data": {
      "text/html": [
       "<div>\n",
       "<style scoped>\n",
       "    .dataframe tbody tr th:only-of-type {\n",
       "        vertical-align: middle;\n",
       "    }\n",
       "\n",
       "    .dataframe tbody tr th {\n",
       "        vertical-align: top;\n",
       "    }\n",
       "\n",
       "    .dataframe thead th {\n",
       "        text-align: right;\n",
       "    }\n",
       "</style>\n",
       "<table border=\"1\" class=\"dataframe\">\n",
       "  <thead>\n",
       "    <tr style=\"text-align: right;\">\n",
       "      <th></th>\n",
       "      <th>Name</th>\n",
       "      <th>Class</th>\n",
       "    </tr>\n",
       "  </thead>\n",
       "  <tbody>\n",
       "    <tr>\n",
       "      <th>0</th>\n",
       "      <td>Prem</td>\n",
       "      <td>1</td>\n",
       "    </tr>\n",
       "    <tr>\n",
       "      <th>1</th>\n",
       "      <td>Sipun</td>\n",
       "      <td>2</td>\n",
       "    </tr>\n",
       "  </tbody>\n",
       "</table>\n",
       "</div>"
      ],
      "text/plain": [
       "    Name  Class\n",
       "0   Prem      1\n",
       "1  Sipun      2"
      ]
     },
     "execution_count": 6,
     "metadata": {},
     "output_type": "execute_result"
    }
   ],
   "source": [
    "#DataFrame\n",
    "my_data = {\n",
    "    'Name' : ['Prem', 'Sipun'],\n",
    "    'Class' : [1,2]\n",
    "}\n",
    "\n",
    "df = pd.DataFrame(my_data)\n",
    "df"
   ]
  },
  {
   "cell_type": "markdown",
   "metadata": {},
   "source": [
    "## Series"
   ]
  },
  {
   "cell_type": "markdown",
   "metadata": {},
   "source": [
    "A Pandas Series is like a column in a table.\n",
    "\n",
    "It is a one-dimensional array holding data of any type."
   ]
  },
  {
   "cell_type": "code",
   "execution_count": 8,
   "metadata": {},
   "outputs": [
    {
     "data": {
      "text/plain": [
       "Name     [Prem, Sipun]\n",
       "Class           [1, 2]\n",
       "dtype: object"
      ]
     },
     "execution_count": 8,
     "metadata": {},
     "output_type": "execute_result"
    }
   ],
   "source": [
    "#Series\n",
    "df = pd.Series(my_data)\n",
    "df"
   ]
  },
  {
   "cell_type": "code",
   "execution_count": 11,
   "metadata": {},
   "outputs": [
    {
     "data": {
      "text/plain": [
       "0    1\n",
       "1    2\n",
       "2    4\n",
       "dtype: int64"
      ]
     },
     "execution_count": 11,
     "metadata": {},
     "output_type": "execute_result"
    }
   ],
   "source": [
    "a = [1,2,4]\n",
    "df = pd.Series(a)\n",
    "df"
   ]
  },
  {
   "cell_type": "code",
   "execution_count": 12,
   "metadata": {},
   "outputs": [
    {
     "name": "stdout",
     "output_type": "stream",
     "text": [
      "1\n"
     ]
    }
   ],
   "source": [
    "print(df[0])"
   ]
  },
  {
   "cell_type": "code",
   "execution_count": 14,
   "metadata": {},
   "outputs": [
    {
     "name": "stdout",
     "output_type": "stream",
     "text": [
      "x    1\n",
      "y    2\n",
      "z    4\n",
      "dtype: int64\n"
     ]
    }
   ],
   "source": [
    "#changing index\n",
    "df = pd.Series(a, index=['x','y','z'])\n",
    "print(df)"
   ]
  },
  {
   "cell_type": "code",
   "execution_count": 15,
   "metadata": {},
   "outputs": [
    {
     "data": {
      "text/plain": [
       "4"
      ]
     },
     "execution_count": 15,
     "metadata": {},
     "output_type": "execute_result"
    }
   ],
   "source": [
    "df['z']"
   ]
  },
  {
   "cell_type": "code",
   "execution_count": 18,
   "metadata": {},
   "outputs": [
    {
     "name": "stdout",
     "output_type": "stream",
     "text": [
      "Name     [Prem, Sipun]\n",
      "Class           [1, 2]\n",
      "dtype: object\n",
      "Here, keys become label of the Series\n"
     ]
    }
   ],
   "source": [
    "#Series using Dictionary\n",
    "dict1 = {\n",
    "    'Name' : ['Prem', 'Sipun'],\n",
    "    'Class' : [1,2]\n",
    "}\n",
    "\n",
    "df = pd.Series(dict1)\n",
    "print(df)\n",
    "print('Here, keys become label of the Series')"
   ]
  },
  {
   "cell_type": "code",
   "execution_count": 19,
   "metadata": {},
   "outputs": [
    {
     "name": "stdout",
     "output_type": "stream",
     "text": [
      "day1    420\n",
      "day2    380\n",
      "dtype: int64\n"
     ]
    }
   ],
   "source": [
    "calories = {\"day1\": 420, \"day2\": 380, \"day3\": 390}\n",
    "\n",
    "myvar = pd.Series(calories, index = [\"day1\", \"day2\"])\n",
    "\n",
    "print(myvar)"
   ]
  },
  {
   "cell_type": "markdown",
   "metadata": {},
   "source": [
    "## DataFrame\n",
    "Series is like a column, a DataFrame is the whole table."
   ]
  },
  {
   "cell_type": "code",
   "execution_count": 20,
   "metadata": {},
   "outputs": [
    {
     "name": "stdout",
     "output_type": "stream",
     "text": [
      "   calories  duration\n",
      "0       420        50\n",
      "1       380        40\n",
      "2       390        45\n"
     ]
    }
   ],
   "source": [
    "data = {\n",
    "  \"calories\": [420, 380, 390],\n",
    "  \"duration\": [50, 40, 45]\n",
    "}\n",
    "\n",
    "myvar = pd.DataFrame(data)\n",
    "\n",
    "print(myvar)"
   ]
  },
  {
   "cell_type": "code",
   "execution_count": 25,
   "metadata": {},
   "outputs": [
    {
     "name": "stdout",
     "output_type": "stream",
     "text": [
      "calories    420\n",
      "duration     50\n",
      "Name: 0, dtype: int64\n",
      "returns a Pandas Series.\n"
     ]
    }
   ],
   "source": [
    "print(myvar.loc[0])\n",
    "print('returns a Pandas Series.')"
   ]
  },
  {
   "cell_type": "code",
   "execution_count": 31,
   "metadata": {},
   "outputs": [
    {
     "name": "stdout",
     "output_type": "stream",
     "text": [
      "Dataframe\n",
      "   calories  duration\n",
      "0       420        50\n",
      "1       380        40\n"
     ]
    }
   ],
   "source": [
    "print(\"Dataframe\")\n",
    "print(myvar.loc[[0,1]])"
   ]
  },
  {
   "cell_type": "code",
   "execution_count": 32,
   "metadata": {},
   "outputs": [
    {
     "name": "stdout",
     "output_type": "stream",
     "text": [
      "      calories  duration\n",
      "day1       420        50\n",
      "day2       380        40\n",
      "day3       390        45\n"
     ]
    }
   ],
   "source": [
    "data = {\n",
    "  \"calories\": [420, 380, 390],\n",
    "  \"duration\": [50, 40, 45]\n",
    "}\n",
    "\n",
    "df = pd.DataFrame(data, index = [\"day1\", \"day2\", \"day3\"])\n",
    "\n",
    "print(df) "
   ]
  },
  {
   "cell_type": "code",
   "execution_count": 33,
   "metadata": {},
   "outputs": [
    {
     "name": "stdout",
     "output_type": "stream",
     "text": [
      "calories    380\n",
      "duration     40\n",
      "Name: day2, dtype: int64\n"
     ]
    }
   ],
   "source": [
    "print(df.loc[\"day2\"])"
   ]
  },
  {
   "cell_type": "code",
   "execution_count": 45,
   "metadata": {},
   "outputs": [
    {
     "data": {
      "text/html": [
       "<div>\n",
       "<style scoped>\n",
       "    .dataframe tbody tr th:only-of-type {\n",
       "        vertical-align: middle;\n",
       "    }\n",
       "\n",
       "    .dataframe tbody tr th {\n",
       "        vertical-align: top;\n",
       "    }\n",
       "\n",
       "    .dataframe thead th {\n",
       "        text-align: right;\n",
       "    }\n",
       "</style>\n",
       "<table border=\"1\" class=\"dataframe\">\n",
       "  <thead>\n",
       "    <tr style=\"text-align: right;\">\n",
       "      <th></th>\n",
       "      <th>Loan_ID</th>\n",
       "      <th>Gender</th>\n",
       "      <th>Married</th>\n",
       "      <th>Dependents</th>\n",
       "      <th>Education</th>\n",
       "      <th>Self_Employed</th>\n",
       "      <th>ApplicantIncome</th>\n",
       "      <th>CoapplicantIncome</th>\n",
       "      <th>LoanAmount</th>\n",
       "      <th>Loan_Amount_Term</th>\n",
       "      <th>Credit_History</th>\n",
       "      <th>Property_Area</th>\n",
       "      <th>Loan_Status</th>\n",
       "    </tr>\n",
       "  </thead>\n",
       "  <tbody>\n",
       "    <tr>\n",
       "      <th>0</th>\n",
       "      <td>LP001002</td>\n",
       "      <td>Male</td>\n",
       "      <td>No</td>\n",
       "      <td>0</td>\n",
       "      <td>Graduate</td>\n",
       "      <td>No</td>\n",
       "      <td>5849</td>\n",
       "      <td>0.0</td>\n",
       "      <td>NaN</td>\n",
       "      <td>360.0</td>\n",
       "      <td>1.0</td>\n",
       "      <td>Urban</td>\n",
       "      <td>Y</td>\n",
       "    </tr>\n",
       "    <tr>\n",
       "      <th>1</th>\n",
       "      <td>LP001003</td>\n",
       "      <td>Male</td>\n",
       "      <td>Yes</td>\n",
       "      <td>1</td>\n",
       "      <td>Graduate</td>\n",
       "      <td>No</td>\n",
       "      <td>4583</td>\n",
       "      <td>1508.0</td>\n",
       "      <td>128.0</td>\n",
       "      <td>360.0</td>\n",
       "      <td>1.0</td>\n",
       "      <td>Rural</td>\n",
       "      <td>N</td>\n",
       "    </tr>\n",
       "    <tr>\n",
       "      <th>2</th>\n",
       "      <td>LP001005</td>\n",
       "      <td>Male</td>\n",
       "      <td>Yes</td>\n",
       "      <td>0</td>\n",
       "      <td>Graduate</td>\n",
       "      <td>Yes</td>\n",
       "      <td>3000</td>\n",
       "      <td>0.0</td>\n",
       "      <td>66.0</td>\n",
       "      <td>360.0</td>\n",
       "      <td>1.0</td>\n",
       "      <td>Urban</td>\n",
       "      <td>Y</td>\n",
       "    </tr>\n",
       "  </tbody>\n",
       "</table>\n",
       "</div>"
      ],
      "text/plain": [
       "    Loan_ID Gender Married Dependents Education Self_Employed  \\\n",
       "0  LP001002   Male      No          0  Graduate            No   \n",
       "1  LP001003   Male     Yes          1  Graduate            No   \n",
       "2  LP001005   Male     Yes          0  Graduate           Yes   \n",
       "\n",
       "   ApplicantIncome  CoapplicantIncome  LoanAmount  Loan_Amount_Term  \\\n",
       "0             5849                0.0         NaN             360.0   \n",
       "1             4583             1508.0       128.0             360.0   \n",
       "2             3000                0.0        66.0             360.0   \n",
       "\n",
       "   Credit_History Property_Area Loan_Status  \n",
       "0             1.0         Urban           Y  \n",
       "1             1.0         Rural           N  \n",
       "2             1.0         Urban           Y  "
      ]
     },
     "execution_count": 45,
     "metadata": {},
     "output_type": "execute_result"
    }
   ],
   "source": [
    "df = pd.read_csv('Loan+Approval+Prediction.csv')\n",
    "df.head(3)   #or df.head() => returns top 5"
   ]
  },
  {
   "cell_type": "code",
   "execution_count": 46,
   "metadata": {},
   "outputs": [
    {
     "data": {
      "text/html": [
       "<div>\n",
       "<style scoped>\n",
       "    .dataframe tbody tr th:only-of-type {\n",
       "        vertical-align: middle;\n",
       "    }\n",
       "\n",
       "    .dataframe tbody tr th {\n",
       "        vertical-align: top;\n",
       "    }\n",
       "\n",
       "    .dataframe thead th {\n",
       "        text-align: right;\n",
       "    }\n",
       "</style>\n",
       "<table border=\"1\" class=\"dataframe\">\n",
       "  <thead>\n",
       "    <tr style=\"text-align: right;\">\n",
       "      <th></th>\n",
       "      <th>Loan_ID</th>\n",
       "      <th>Gender</th>\n",
       "      <th>Married</th>\n",
       "      <th>Dependents</th>\n",
       "      <th>Education</th>\n",
       "      <th>Self_Employed</th>\n",
       "      <th>ApplicantIncome</th>\n",
       "      <th>CoapplicantIncome</th>\n",
       "      <th>LoanAmount</th>\n",
       "      <th>Loan_Amount_Term</th>\n",
       "      <th>Credit_History</th>\n",
       "      <th>Property_Area</th>\n",
       "      <th>Loan_Status</th>\n",
       "    </tr>\n",
       "  </thead>\n",
       "  <tbody>\n",
       "    <tr>\n",
       "      <th>609</th>\n",
       "      <td>LP002978</td>\n",
       "      <td>Female</td>\n",
       "      <td>No</td>\n",
       "      <td>0</td>\n",
       "      <td>Graduate</td>\n",
       "      <td>No</td>\n",
       "      <td>2900</td>\n",
       "      <td>0.0</td>\n",
       "      <td>71.0</td>\n",
       "      <td>360.0</td>\n",
       "      <td>1.0</td>\n",
       "      <td>Rural</td>\n",
       "      <td>Y</td>\n",
       "    </tr>\n",
       "    <tr>\n",
       "      <th>610</th>\n",
       "      <td>LP002979</td>\n",
       "      <td>Male</td>\n",
       "      <td>Yes</td>\n",
       "      <td>3+</td>\n",
       "      <td>Graduate</td>\n",
       "      <td>No</td>\n",
       "      <td>4106</td>\n",
       "      <td>0.0</td>\n",
       "      <td>40.0</td>\n",
       "      <td>180.0</td>\n",
       "      <td>1.0</td>\n",
       "      <td>Rural</td>\n",
       "      <td>Y</td>\n",
       "    </tr>\n",
       "    <tr>\n",
       "      <th>611</th>\n",
       "      <td>LP002983</td>\n",
       "      <td>Male</td>\n",
       "      <td>Yes</td>\n",
       "      <td>1</td>\n",
       "      <td>Graduate</td>\n",
       "      <td>No</td>\n",
       "      <td>8072</td>\n",
       "      <td>240.0</td>\n",
       "      <td>253.0</td>\n",
       "      <td>360.0</td>\n",
       "      <td>1.0</td>\n",
       "      <td>Urban</td>\n",
       "      <td>Y</td>\n",
       "    </tr>\n",
       "    <tr>\n",
       "      <th>612</th>\n",
       "      <td>LP002984</td>\n",
       "      <td>Male</td>\n",
       "      <td>Yes</td>\n",
       "      <td>2</td>\n",
       "      <td>Graduate</td>\n",
       "      <td>No</td>\n",
       "      <td>7583</td>\n",
       "      <td>0.0</td>\n",
       "      <td>187.0</td>\n",
       "      <td>360.0</td>\n",
       "      <td>1.0</td>\n",
       "      <td>Urban</td>\n",
       "      <td>Y</td>\n",
       "    </tr>\n",
       "    <tr>\n",
       "      <th>613</th>\n",
       "      <td>LP002990</td>\n",
       "      <td>Female</td>\n",
       "      <td>No</td>\n",
       "      <td>0</td>\n",
       "      <td>Graduate</td>\n",
       "      <td>Yes</td>\n",
       "      <td>4583</td>\n",
       "      <td>0.0</td>\n",
       "      <td>133.0</td>\n",
       "      <td>360.0</td>\n",
       "      <td>0.0</td>\n",
       "      <td>Semiurban</td>\n",
       "      <td>N</td>\n",
       "    </tr>\n",
       "  </tbody>\n",
       "</table>\n",
       "</div>"
      ],
      "text/plain": [
       "      Loan_ID  Gender Married Dependents Education Self_Employed  \\\n",
       "609  LP002978  Female      No          0  Graduate            No   \n",
       "610  LP002979    Male     Yes         3+  Graduate            No   \n",
       "611  LP002983    Male     Yes          1  Graduate            No   \n",
       "612  LP002984    Male     Yes          2  Graduate            No   \n",
       "613  LP002990  Female      No          0  Graduate           Yes   \n",
       "\n",
       "     ApplicantIncome  CoapplicantIncome  LoanAmount  Loan_Amount_Term  \\\n",
       "609             2900                0.0        71.0             360.0   \n",
       "610             4106                0.0        40.0             180.0   \n",
       "611             8072              240.0       253.0             360.0   \n",
       "612             7583                0.0       187.0             360.0   \n",
       "613             4583                0.0       133.0             360.0   \n",
       "\n",
       "     Credit_History Property_Area Loan_Status  \n",
       "609             1.0         Rural           Y  \n",
       "610             1.0         Rural           Y  \n",
       "611             1.0         Urban           Y  \n",
       "612             1.0         Urban           Y  \n",
       "613             0.0     Semiurban           N  "
      ]
     },
     "execution_count": 46,
     "metadata": {},
     "output_type": "execute_result"
    }
   ],
   "source": [
    "df.tail()"
   ]
  },
  {
   "cell_type": "code",
   "execution_count": 47,
   "metadata": {},
   "outputs": [
    {
     "name": "stdout",
     "output_type": "stream",
     "text": [
      "<class 'pandas.core.frame.DataFrame'>\n",
      "RangeIndex: 614 entries, 0 to 613\n",
      "Data columns (total 13 columns):\n",
      " #   Column             Non-Null Count  Dtype  \n",
      "---  ------             --------------  -----  \n",
      " 0   Loan_ID            614 non-null    object \n",
      " 1   Gender             601 non-null    object \n",
      " 2   Married            611 non-null    object \n",
      " 3   Dependents         599 non-null    object \n",
      " 4   Education          614 non-null    object \n",
      " 5   Self_Employed      582 non-null    object \n",
      " 6   ApplicantIncome    614 non-null    int64  \n",
      " 7   CoapplicantIncome  614 non-null    float64\n",
      " 8   LoanAmount         592 non-null    float64\n",
      " 9   Loan_Amount_Term   600 non-null    float64\n",
      " 10  Credit_History     564 non-null    float64\n",
      " 11  Property_Area      614 non-null    object \n",
      " 12  Loan_Status        614 non-null    object \n",
      "dtypes: float64(4), int64(1), object(8)\n",
      "memory usage: 62.5+ KB\n"
     ]
    }
   ],
   "source": [
    "df.info()"
   ]
  },
  {
   "cell_type": "markdown",
   "metadata": {},
   "source": [
    "# Data Cleaning\n",
    "Data cleaning means fixing bad data in your data set.\n",
    "\n",
    "Bad data could be:\n",
    "\n",
    "Empty cells<br>\n",
    "Data in wrong format<br>\n",
    "Wrong data<br>\n",
    "Duplicates<br>"
   ]
  },
  {
   "cell_type": "markdown",
   "metadata": {},
   "source": [
    "### remove rows with NaN values"
   ]
  },
  {
   "cell_type": "code",
   "execution_count": 48,
   "metadata": {},
   "outputs": [
    {
     "name": "stdout",
     "output_type": "stream",
     "text": [
      "<class 'pandas.core.frame.DataFrame'>\n",
      "Int64Index: 480 entries, 1 to 613\n",
      "Data columns (total 13 columns):\n",
      " #   Column             Non-Null Count  Dtype  \n",
      "---  ------             --------------  -----  \n",
      " 0   Loan_ID            480 non-null    object \n",
      " 1   Gender             480 non-null    object \n",
      " 2   Married            480 non-null    object \n",
      " 3   Dependents         480 non-null    object \n",
      " 4   Education          480 non-null    object \n",
      " 5   Self_Employed      480 non-null    object \n",
      " 6   ApplicantIncome    480 non-null    int64  \n",
      " 7   CoapplicantIncome  480 non-null    float64\n",
      " 8   LoanAmount         480 non-null    float64\n",
      " 9   Loan_Amount_Term   480 non-null    float64\n",
      " 10  Credit_History     480 non-null    float64\n",
      " 11  Property_Area      480 non-null    object \n",
      " 12  Loan_Status        480 non-null    object \n",
      "dtypes: float64(4), int64(1), object(8)\n",
      "memory usage: 52.5+ KB\n",
      "None\n"
     ]
    }
   ],
   "source": [
    "new_df = df.dropna()\n",
    "print(new_df.info())"
   ]
  },
  {
   "cell_type": "code",
   "execution_count": 49,
   "metadata": {},
   "outputs": [
    {
     "name": "stdout",
     "output_type": "stream",
     "text": [
      "<class 'pandas.core.frame.DataFrame'>\n",
      "Int64Index: 480 entries, 1 to 613\n",
      "Data columns (total 13 columns):\n",
      " #   Column             Non-Null Count  Dtype  \n",
      "---  ------             --------------  -----  \n",
      " 0   Loan_ID            480 non-null    object \n",
      " 1   Gender             480 non-null    object \n",
      " 2   Married            480 non-null    object \n",
      " 3   Dependents         480 non-null    object \n",
      " 4   Education          480 non-null    object \n",
      " 5   Self_Employed      480 non-null    object \n",
      " 6   ApplicantIncome    480 non-null    int64  \n",
      " 7   CoapplicantIncome  480 non-null    float64\n",
      " 8   LoanAmount         480 non-null    float64\n",
      " 9   Loan_Amount_Term   480 non-null    float64\n",
      " 10  Credit_History     480 non-null    float64\n",
      " 11  Property_Area      480 non-null    object \n",
      " 12  Loan_Status        480 non-null    object \n",
      "dtypes: float64(4), int64(1), object(8)\n",
      "memory usage: 52.5+ KB\n",
      "None\n"
     ]
    }
   ],
   "source": [
    "# we use inplace = True when want to make changes in original dataset\n",
    "df.dropna(inplace=True)\n",
    "print(df.info())"
   ]
  },
  {
   "cell_type": "markdown",
   "metadata": {},
   "source": [
    "### Fill some values in empty values"
   ]
  },
  {
   "cell_type": "code",
   "execution_count": 50,
   "metadata": {},
   "outputs": [
    {
     "name": "stdout",
     "output_type": "stream",
     "text": [
      "<class 'pandas.core.frame.DataFrame'>\n",
      "Int64Index: 480 entries, 1 to 613\n",
      "Data columns (total 13 columns):\n",
      " #   Column             Non-Null Count  Dtype  \n",
      "---  ------             --------------  -----  \n",
      " 0   Loan_ID            480 non-null    object \n",
      " 1   Gender             480 non-null    object \n",
      " 2   Married            480 non-null    object \n",
      " 3   Dependents         480 non-null    object \n",
      " 4   Education          480 non-null    object \n",
      " 5   Self_Employed      480 non-null    object \n",
      " 6   ApplicantIncome    480 non-null    int64  \n",
      " 7   CoapplicantIncome  480 non-null    float64\n",
      " 8   LoanAmount         480 non-null    float64\n",
      " 9   Loan_Amount_Term   480 non-null    float64\n",
      " 10  Credit_History     480 non-null    float64\n",
      " 11  Property_Area      480 non-null    object \n",
      " 12  Loan_Status        480 non-null    object \n",
      "dtypes: float64(4), int64(1), object(8)\n",
      "memory usage: 52.5+ KB\n"
     ]
    }
   ],
   "source": [
    "df.info()"
   ]
  },
  {
   "cell_type": "code",
   "execution_count": 51,
   "metadata": {},
   "outputs": [
    {
     "name": "stdout",
     "output_type": "stream",
     "text": [
      "<class 'pandas.core.frame.DataFrame'>\n",
      "Int64Index: 480 entries, 1 to 613\n",
      "Data columns (total 13 columns):\n",
      " #   Column             Non-Null Count  Dtype  \n",
      "---  ------             --------------  -----  \n",
      " 0   Loan_ID            480 non-null    object \n",
      " 1   Gender             480 non-null    object \n",
      " 2   Married            480 non-null    object \n",
      " 3   Dependents         480 non-null    object \n",
      " 4   Education          480 non-null    object \n",
      " 5   Self_Employed      480 non-null    object \n",
      " 6   ApplicantIncome    480 non-null    int64  \n",
      " 7   CoapplicantIncome  480 non-null    float64\n",
      " 8   LoanAmount         480 non-null    float64\n",
      " 9   Loan_Amount_Term   480 non-null    float64\n",
      " 10  Credit_History     480 non-null    float64\n",
      " 11  Property_Area      480 non-null    object \n",
      " 12  Loan_Status        480 non-null    object \n",
      "dtypes: float64(4), int64(1), object(8)\n",
      "memory usage: 52.5+ KB\n",
      "None\n",
      "    Loan_ID Gender Married Dependents     Education Self_Employed  \\\n",
      "1  LP001003   Male     Yes          1      Graduate            No   \n",
      "2  LP001005   Male     Yes          0      Graduate           Yes   \n",
      "3  LP001006   Male     Yes          0  Not Graduate            No   \n",
      "4  LP001008   Male      No          0      Graduate            No   \n",
      "5  LP001011   Male     Yes          2      Graduate           Yes   \n",
      "\n",
      "   ApplicantIncome  CoapplicantIncome  LoanAmount  Loan_Amount_Term  \\\n",
      "1             4583             1508.0       128.0             360.0   \n",
      "2             3000                0.0        66.0             360.0   \n",
      "3             2583             2358.0       120.0             360.0   \n",
      "4             6000                0.0       141.0             360.0   \n",
      "5             5417             4196.0       267.0             360.0   \n",
      "\n",
      "   Credit_History Property_Area Loan_Status  \n",
      "1             1.0         Rural           N  \n",
      "2             1.0         Urban           Y  \n",
      "3             1.0         Urban           Y  \n",
      "4             1.0         Urban           Y  \n",
      "5             1.0         Urban           Y  \n"
     ]
    }
   ],
   "source": [
    "new_df = df.fillna(130)\n",
    "print(new_df.info())\n",
    "print(new_df.head())"
   ]
  },
  {
   "cell_type": "code",
   "execution_count": 52,
   "metadata": {},
   "outputs": [
    {
     "name": "stdout",
     "output_type": "stream",
     "text": [
      "1      128.0\n",
      "2       66.0\n",
      "3      120.0\n",
      "4      141.0\n",
      "5      267.0\n",
      "       ...  \n",
      "609     71.0\n",
      "610     40.0\n",
      "611    253.0\n",
      "612    187.0\n",
      "613    133.0\n",
      "Name: LoanAmount, Length: 480, dtype: float64\n"
     ]
    }
   ],
   "source": [
    "# replace for specified column \n",
    "print(df['LoanAmount'].fillna(130))"
   ]
  },
  {
   "cell_type": "markdown",
   "metadata": {},
   "source": [
    "### Replace using Mean, Median and Mode"
   ]
  },
  {
   "cell_type": "code",
   "execution_count": 53,
   "metadata": {},
   "outputs": [
    {
     "name": "stdout",
     "output_type": "stream",
     "text": [
      "1      128.0\n",
      "2       66.0\n",
      "3      120.0\n",
      "4      141.0\n",
      "5      267.0\n",
      "       ...  \n",
      "609     71.0\n",
      "610     40.0\n",
      "611    253.0\n",
      "612    187.0\n",
      "613    133.0\n",
      "Name: LoanAmount, Length: 480, dtype: float64\n"
     ]
    }
   ],
   "source": [
    "x = df['LoanAmount'].mode()[0]  #median() or mean()\n",
    "df['LoanAmount'].fillna(x, inplace=True)  \n",
    "print(df['LoanAmount'])"
   ]
  },
  {
   "cell_type": "markdown",
   "metadata": {},
   "source": [
    "### Changing Format"
   ]
  },
  {
   "cell_type": "markdown",
   "metadata": {},
   "source": [
    "You have four main options for converting types in pandas:\n",
    "\n",
    "**to_numeric()** - provides functionality to safely convert non-numeric types (e.g. strings) to a suitable numeric type. (See also to_datetime() and to_timedelta().)\n",
    "\n",
    "**astype()** - convert (almost) any type to (almost) any other type (even if it's not necessarily sensible to do so). Also allows you to convert to categorial types (very useful).\n",
    "\n",
    "**infer_objects()** - a utility method to convert object columns holding Python objects to a pandas type if possible.\n",
    "\n",
    "**convert_dtypes()** - convert DataFrame columns to the \"best possible\" dtype that supports pd.NA (pandas' object to indicate a  missing value)."
   ]
  },
  {
   "cell_type": "code",
   "execution_count": 57,
   "metadata": {},
   "outputs": [
    {
     "data": {
      "text/plain": [
       "Loan_ID               object\n",
       "Gender                object\n",
       "Married               object\n",
       "Dependents            object\n",
       "Education             object\n",
       "Self_Employed         object\n",
       "ApplicantIncome        int64\n",
       "CoapplicantIncome    float64\n",
       "LoanAmount           float64\n",
       "Loan_Amount_Term     float64\n",
       "Credit_History       float64\n",
       "Property_Area         object\n",
       "Loan_Status           object\n",
       "dtype: object"
      ]
     },
     "execution_count": 57,
     "metadata": {},
     "output_type": "execute_result"
    }
   ],
   "source": [
    "df.dtypes"
   ]
  },
  {
   "cell_type": "code",
   "execution_count": 61,
   "metadata": {},
   "outputs": [
    {
     "data": {
      "text/plain": [
       "Loan_ID               object\n",
       "Gender                object\n",
       "Married               object\n",
       "Dependents            object\n",
       "Education             object\n",
       "Self_Employed         object\n",
       "ApplicantIncome        int64\n",
       "CoapplicantIncome    float64\n",
       "LoanAmount           float64\n",
       "Loan_Amount_Term     float64\n",
       "Credit_History       float64\n",
       "Property_Area         object\n",
       "Loan_Status           object\n",
       "dtype: object"
      ]
     },
     "execution_count": 61,
     "metadata": {},
     "output_type": "execute_result"
    }
   ],
   "source": [
    "#changing objects into string type but Dependents into int32 except Loan_ID\n",
    "df['Dependents'] = df['Dependents'].astype('str')\n",
    "df.dtypes"
   ]
  },
  {
   "cell_type": "code",
   "execution_count": 62,
   "metadata": {},
   "outputs": [
    {
     "data": {
      "text/plain": [
       "Loan_ID               object\n",
       "Gender                object\n",
       "Married               object\n",
       "Dependents            object\n",
       "Education             object\n",
       "Self_Employed         object\n",
       "ApplicantIncome        int64\n",
       "CoapplicantIncome    float64\n",
       "LoanAmount           float64\n",
       "Loan_Amount_Term     float64\n",
       "Credit_History       float64\n",
       "Property_Area         object\n",
       "Loan_Status           object\n",
       "dtype: object"
      ]
     },
     "execution_count": 62,
     "metadata": {},
     "output_type": "execute_result"
    }
   ],
   "source": [
    "df['Dependents'] = str(df['Dependents'])\n",
    "df.dtypes"
   ]
  },
  {
   "cell_type": "markdown",
   "metadata": {},
   "source": [
    "### Removing Duplicate values"
   ]
  },
  {
   "cell_type": "code",
   "execution_count": 68,
   "metadata": {},
   "outputs": [
    {
     "data": {
      "text/plain": [
       "1      False\n",
       "2      False\n",
       "3      False\n",
       "4      False\n",
       "5      False\n",
       "       ...  \n",
       "609    False\n",
       "610    False\n",
       "611    False\n",
       "612    False\n",
       "613    False\n",
       "Length: 480, dtype: bool"
      ]
     },
     "execution_count": 68,
     "metadata": {},
     "output_type": "execute_result"
    }
   ],
   "source": [
    "#Returns True for every row that is a duplicate, othwerwise False:\n",
    "df.duplicated()"
   ]
  },
  {
   "cell_type": "code",
   "execution_count": 71,
   "metadata": {},
   "outputs": [
    {
     "data": {
      "text/plain": [
       "480"
      ]
     },
     "execution_count": 71,
     "metadata": {},
     "output_type": "execute_result"
    }
   ],
   "source": [
    "# To remove duplicates, use the drop_duplicates() method.\n",
    "df.drop_duplicates(inplace=True)\n",
    "len(df)"
   ]
  },
  {
   "cell_type": "markdown",
   "metadata": {},
   "source": [
    "## Correlation"
   ]
  },
  {
   "cell_type": "code",
   "execution_count": 72,
   "metadata": {},
   "outputs": [
    {
     "data": {
      "text/html": [
       "<div>\n",
       "<style scoped>\n",
       "    .dataframe tbody tr th:only-of-type {\n",
       "        vertical-align: middle;\n",
       "    }\n",
       "\n",
       "    .dataframe tbody tr th {\n",
       "        vertical-align: top;\n",
       "    }\n",
       "\n",
       "    .dataframe thead th {\n",
       "        text-align: right;\n",
       "    }\n",
       "</style>\n",
       "<table border=\"1\" class=\"dataframe\">\n",
       "  <thead>\n",
       "    <tr style=\"text-align: right;\">\n",
       "      <th></th>\n",
       "      <th>ApplicantIncome</th>\n",
       "      <th>CoapplicantIncome</th>\n",
       "      <th>LoanAmount</th>\n",
       "      <th>Loan_Amount_Term</th>\n",
       "      <th>Credit_History</th>\n",
       "    </tr>\n",
       "  </thead>\n",
       "  <tbody>\n",
       "    <tr>\n",
       "      <th>ApplicantIncome</th>\n",
       "      <td>1.000000</td>\n",
       "      <td>-0.112588</td>\n",
       "      <td>0.495310</td>\n",
       "      <td>-0.010838</td>\n",
       "      <td>-0.056152</td>\n",
       "    </tr>\n",
       "    <tr>\n",
       "      <th>CoapplicantIncome</th>\n",
       "      <td>-0.112588</td>\n",
       "      <td>1.000000</td>\n",
       "      <td>0.190740</td>\n",
       "      <td>-0.005775</td>\n",
       "      <td>-0.008692</td>\n",
       "    </tr>\n",
       "    <tr>\n",
       "      <th>LoanAmount</th>\n",
       "      <td>0.495310</td>\n",
       "      <td>0.190740</td>\n",
       "      <td>1.000000</td>\n",
       "      <td>0.050867</td>\n",
       "      <td>-0.040773</td>\n",
       "    </tr>\n",
       "    <tr>\n",
       "      <th>Loan_Amount_Term</th>\n",
       "      <td>-0.010838</td>\n",
       "      <td>-0.005775</td>\n",
       "      <td>0.050867</td>\n",
       "      <td>1.000000</td>\n",
       "      <td>0.032937</td>\n",
       "    </tr>\n",
       "    <tr>\n",
       "      <th>Credit_History</th>\n",
       "      <td>-0.056152</td>\n",
       "      <td>-0.008692</td>\n",
       "      <td>-0.040773</td>\n",
       "      <td>0.032937</td>\n",
       "      <td>1.000000</td>\n",
       "    </tr>\n",
       "  </tbody>\n",
       "</table>\n",
       "</div>"
      ],
      "text/plain": [
       "                   ApplicantIncome  CoapplicantIncome  LoanAmount  \\\n",
       "ApplicantIncome           1.000000          -0.112588    0.495310   \n",
       "CoapplicantIncome        -0.112588           1.000000    0.190740   \n",
       "LoanAmount                0.495310           0.190740    1.000000   \n",
       "Loan_Amount_Term         -0.010838          -0.005775    0.050867   \n",
       "Credit_History           -0.056152          -0.008692   -0.040773   \n",
       "\n",
       "                   Loan_Amount_Term  Credit_History  \n",
       "ApplicantIncome           -0.010838       -0.056152  \n",
       "CoapplicantIncome         -0.005775       -0.008692  \n",
       "LoanAmount                 0.050867       -0.040773  \n",
       "Loan_Amount_Term           1.000000        0.032937  \n",
       "Credit_History             0.032937        1.000000  "
      ]
     },
     "execution_count": 72,
     "metadata": {},
     "output_type": "execute_result"
    }
   ],
   "source": [
    "df.corr()"
   ]
  },
  {
   "cell_type": "markdown",
   "metadata": {},
   "source": [
    "Result Explained\n",
    "The Result of the corr() method is a table with a lot of numbers that represents how well the relationship is between two columns.\n",
    "\n",
    "The number varies from -1 to 1.\n",
    "\n",
    "1 means that there is a 1 to 1 relationship (a perfect correlation), and for this data set, each time a value went up in the first column, the other one went up as well.\n",
    "\n",
    "0.9 is also a good relationship, and if you increase one value, the other will probably increase as well.\n",
    "\n",
    "-0.9 would be just as good relationship as 0.9, but if you increase one value, the other will probably go down.\n",
    "\n",
    "0.2 means NOT a good relationship, meaning that if one value goes up does not mean that the other will."
   ]
  },
  {
   "cell_type": "markdown",
   "metadata": {},
   "source": [
    "## Ploting"
   ]
  },
  {
   "cell_type": "markdown",
   "metadata": {},
   "source": [
    "### Ploting"
   ]
  },
  {
   "cell_type": "code",
   "execution_count": 76,
   "metadata": {},
   "outputs": [
    {
     "data": {
      "text/plain": [
       "<matplotlib.axes._subplots.AxesSubplot at 0x1c0c93bf6a0>"
      ]
     },
     "execution_count": 76,
     "metadata": {},
     "output_type": "execute_result"
    },
    {
     "data": {
      "image/png": "[encoded data removed]",
      "text/plain": [
       "<Figure size 432x288 with 1 Axes>"
      ]
     },
     "metadata": {
      "needs_background": "light"
     },
     "output_type": "display_data"
    }
   ],
   "source": [
    "df.plot()"
   ]
  },
  {
   "cell_type": "code",
   "execution_count": 81,
   "metadata": {},
   "outputs": [
    {
     "data": {
      "text/plain": [
       "<matplotlib.axes._subplots.AxesSubplot at 0x1c0c93528b0>"
      ]
     },
     "execution_count": 81,
     "metadata": {},
     "output_type": "execute_result"
    },
    {
     "data": {
      "image/png": "[encoded data removed]",
      "text/plain": [
       "<Figure size 432x288 with 1 Axes>"
      ]
     },
     "metadata": {
      "needs_background": "light"
     },
     "output_type": "display_data"
    }
   ],
   "source": [
    "df.plot(x='Loan_Amount_Term', y='LoanAmount')"
   ]
  },
  {
   "cell_type": "markdown",
   "metadata": {},
   "source": [
    "## Scattter Plot"
   ]
  },
  {
   "cell_type": "code",
   "execution_count": 83,
   "metadata": {},
   "outputs": [
    {
     "data": {
      "text/plain": [
       "<matplotlib.axes._subplots.AxesSubplot at 0x1c0ca726a30>"
      ]
     },
     "execution_count": 83,
     "metadata": {},
     "output_type": "execute_result"
    },
    {
     "data": {
      "image/png": "[encoded data removed]",
      "text/plain": [
       "<Figure size 432x288 with 1 Axes>"
      ]
     },
     "metadata": {
      "needs_background": "light"
     },
     "output_type": "display_data"
    }
   ],
   "source": [
    "df.plot(kind='scatter', x='ApplicantIncome',  y='LoanAmount', color='Red')"
   ]
  },
  {
   "cell_type": "markdown",
   "metadata": {},
   "source": [
    "## Histogram"
   ]
  },
  {
   "cell_type": "code",
   "execution_count": 86,
   "metadata": {},
   "outputs": [
    {
     "data": {
      "text/plain": [
       "<matplotlib.axes._subplots.AxesSubplot at 0x1c0ca832640>"
      ]
     },
     "execution_count": 86,
     "metadata": {},
     "output_type": "execute_result"
    },
    {
     "data": {
      "image/png": "[encoded data removed]",
      "text/plain": [
       "<Figure size 432x288 with 1 Axes>"
      ]
     },
     "metadata": {
      "needs_background": "light"
     },
     "output_type": "display_data"
    }
   ],
   "source": [
    "df['LoanAmount'].plot(kind='hist')"
   ]
  },
  {
   "cell_type": "code",
   "execution_count": null,
   "metadata": {},
   "outputs": [],
   "source": []
  }
 ],
 "metadata": {
  "kernelspec": {
   "display_name": "Python 3",
   "language": "python",
   "name": "python3"
  },
  "language_info": {
   "codemirror_mode": {
    "name": "ipython",
    "version": 3
   },
   "file_extension": ".py",
   "mimetype": "text/x-python",
   "name": "python",
   "nbconvert_exporter": "python",
   "pygments_lexer": "ipython3",
   "version": "3.8.3"
  }
 },
 "nbformat": 4,
 "nbformat_minor": 4
}
