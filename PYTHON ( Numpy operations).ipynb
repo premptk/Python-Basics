{
 "cells": [
  {
   "cell_type": "code",
   "execution_count": 1,
   "metadata": {},
   "outputs": [],
   "source": [
    "import numpy as np"
   ]
  },
  {
   "cell_type": "code",
   "execution_count": 3,
   "metadata": {},
   "outputs": [
    {
     "data": {
      "text/plain": [
       "'1.18.5'"
      ]
     },
     "execution_count": 3,
     "metadata": {},
     "output_type": "execute_result"
    }
   ],
   "source": [
    "np.__version__"
   ]
  },
  {
   "cell_type": "code",
   "execution_count": 4,
   "metadata": {},
   "outputs": [
    {
     "name": "stdout",
     "output_type": "stream",
     "text": [
      "<class 'numpy.ndarray'>\n",
      "[12  3 45 76]\n"
     ]
    }
   ],
   "source": [
    "arr = np.array([12, 3, 45, 76])\n",
    "print(type(arr))\n",
    "print(arr)"
   ]
  },
  {
   "cell_type": "code",
   "execution_count": 5,
   "metadata": {},
   "outputs": [
    {
     "name": "stdout",
     "output_type": "stream",
     "text": [
      "<class 'numpy.ndarray'>\n",
      "[12 23 45 56]\n"
     ]
    }
   ],
   "source": [
    "arr = np.array((12, 23 ,45, 56))\n",
    "print(type(arr))\n",
    "print(arr)"
   ]
  },
  {
   "cell_type": "code",
   "execution_count": 6,
   "metadata": {},
   "outputs": [
    {
     "name": "stdout",
     "output_type": "stream",
     "text": [
      "<class 'numpy.ndarray'>\n",
      "[ 1 32 23  2]\n"
     ]
    }
   ],
   "source": [
    "li = [1, 32, 23, 2]\n",
    "arr = np.array(li)\n",
    "print(type(arr))\n",
    "print(arr)"
   ]
  },
  {
   "cell_type": "markdown",
   "metadata": {},
   "source": [
    "### 0-D Array"
   ]
  },
  {
   "cell_type": "code",
   "execution_count": 12,
   "metadata": {},
   "outputs": [
    {
     "name": "stdout",
     "output_type": "stream",
     "text": [
      "<class 'numpy.ndarray'>\n",
      "45\n"
     ]
    }
   ],
   "source": [
    "arr0D = np.array(45)\n",
    "print(type(arr0D))\n",
    "print(arr0D)"
   ]
  },
  {
   "cell_type": "markdown",
   "metadata": {},
   "source": [
    "### 1-D Array"
   ]
  },
  {
   "cell_type": "code",
   "execution_count": 13,
   "metadata": {},
   "outputs": [
    {
     "name": "stdout",
     "output_type": "stream",
     "text": [
      "<class 'numpy.ndarray'>\n",
      "[12 23 45 23  2]\n"
     ]
    }
   ],
   "source": [
    "arr1D = np.array([12,23,45,23,2])\n",
    "print(type(arr1D))\n",
    "print(arr1D)"
   ]
  },
  {
   "cell_type": "markdown",
   "metadata": {},
   "source": [
    "### 2-D Array\n",
    "NumPy has a whole sub module dedicated towards matrix operations called **numpy.mat**"
   ]
  },
  {
   "cell_type": "code",
   "execution_count": 15,
   "metadata": {},
   "outputs": [
    {
     "name": "stdout",
     "output_type": "stream",
     "text": [
      "<class 'numpy.ndarray'>\n",
      "[[ 2 12  4 34]\n",
      " [13  2 43 21]]\n"
     ]
    }
   ],
   "source": [
    "arr2D = np.array([[2, 12, 4, 34], [13, 2, 43, 21]])\n",
    "print(type(arr2D))\n",
    "print(arr2D)"
   ]
  },
  {
   "cell_type": "code",
   "execution_count": 16,
   "metadata": {},
   "outputs": [
    {
     "name": "stdout",
     "output_type": "stream",
     "text": [
      "<class 'numpy.ndarray'>\n",
      "[[[12 23 32 12]\n",
      "  [32 56  4 12]]\n",
      "\n",
      " [[21 43 32  5]\n",
      "  [54 78  3 21]]]\n"
     ]
    }
   ],
   "source": [
    "arr3D = np.array([[[12, 23, 32, 12], [32, 56, 4, 12]],  [[21, 43, 32, 5], [54, 78, 3, 21]]])\n",
    "print(type(arr3D))\n",
    "print(arr3D)"
   ]
  },
  {
   "cell_type": "markdown",
   "metadata": {},
   "source": [
    "## Dimension"
   ]
  },
  {
   "cell_type": "code",
   "execution_count": 18,
   "metadata": {},
   "outputs": [
    {
     "name": "stdout",
     "output_type": "stream",
     "text": [
      "0\n",
      "1\n",
      "2\n",
      "3\n"
     ]
    }
   ],
   "source": [
    "print(arr0D.ndim)\n",
    "print(arr1D.ndim)\n",
    "print(arr2D.ndim)\n",
    "print(arr3D.ndim)"
   ]
  },
  {
   "cell_type": "code",
   "execution_count": 19,
   "metadata": {},
   "outputs": [
    {
     "name": "stdout",
     "output_type": "stream",
     "text": [
      "[[[[[1 2 3 4]]]]]\n",
      "number of dimensions : 5\n"
     ]
    }
   ],
   "source": [
    "arr = np.array([1, 2, 3, 4], ndmin=5)\n",
    "\n",
    "print(arr)\n",
    "print('number of dimensions :', arr.ndim)"
   ]
  },
  {
   "cell_type": "markdown",
   "metadata": {},
   "source": [
    "# Accesing element"
   ]
  },
  {
   "cell_type": "code",
   "execution_count": 21,
   "metadata": {},
   "outputs": [
    {
     "data": {
      "text/plain": [
       "array([12, 23, 45, 23,  2])"
      ]
     },
     "execution_count": 21,
     "metadata": {},
     "output_type": "execute_result"
    }
   ],
   "source": [
    "arr1D"
   ]
  },
  {
   "cell_type": "code",
   "execution_count": 22,
   "metadata": {},
   "outputs": [
    {
     "data": {
      "text/plain": [
       "12"
      ]
     },
     "execution_count": 22,
     "metadata": {},
     "output_type": "execute_result"
    }
   ],
   "source": [
    "arr1D[0]"
   ]
  },
  {
   "cell_type": "code",
   "execution_count": 23,
   "metadata": {},
   "outputs": [
    {
     "data": {
      "text/plain": [
       "45"
      ]
     },
     "execution_count": 23,
     "metadata": {},
     "output_type": "execute_result"
    }
   ],
   "source": [
    "arr1D[2]"
   ]
  },
  {
   "cell_type": "code",
   "execution_count": 26,
   "metadata": {},
   "outputs": [
    {
     "data": {
      "text/plain": [
       "46"
      ]
     },
     "execution_count": 26,
     "metadata": {},
     "output_type": "execute_result"
    }
   ],
   "source": [
    "x = arr1D[1] + arr1D[3]\n",
    "x"
   ]
  },
  {
   "cell_type": "code",
   "execution_count": 27,
   "metadata": {},
   "outputs": [
    {
     "data": {
      "text/plain": [
       "array([[ 2, 12,  4, 34],\n",
       "       [13,  2, 43, 21]])"
      ]
     },
     "execution_count": 27,
     "metadata": {},
     "output_type": "execute_result"
    }
   ],
   "source": [
    "arr2D"
   ]
  },
  {
   "cell_type": "code",
   "execution_count": 32,
   "metadata": {},
   "outputs": [
    {
     "name": "stdout",
     "output_type": "stream",
     "text": [
      "2\n",
      "21\n",
      "4\n",
      "2\n"
     ]
    }
   ],
   "source": [
    "#accessing 2-D Array\n",
    "print(arr2D[0,0])\n",
    "print(arr2D[1,3])\n",
    "print(arr2D[0,2])\n",
    "print(arr2D[1,1])\n",
    "\n",
    "# print(arr2D[2,0])  index 2 is out of bounds for axis 0 with size 2"
   ]
  },
  {
   "cell_type": "code",
   "execution_count": 33,
   "metadata": {},
   "outputs": [
    {
     "data": {
      "text/plain": [
       "array([[[12, 23, 32, 12],\n",
       "        [32, 56,  4, 12]],\n",
       "\n",
       "       [[21, 43, 32,  5],\n",
       "        [54, 78,  3, 21]]])"
      ]
     },
     "execution_count": 33,
     "metadata": {},
     "output_type": "execute_result"
    }
   ],
   "source": [
    "arr3D"
   ]
  },
  {
   "cell_type": "code",
   "execution_count": 37,
   "metadata": {},
   "outputs": [
    {
     "name": "stdout",
     "output_type": "stream",
     "text": [
      "12\n",
      "21\n",
      "56\n",
      "32\n"
     ]
    }
   ],
   "source": [
    "#accessing 3-D Array\n",
    "print(arr3D[0,0,0])\n",
    "print(arr3D[1,1,3])\n",
    "print(arr3D[0,1,1])\n",
    "print(arr3D[1,0,2])"
   ]
  },
  {
   "cell_type": "code",
   "execution_count": 42,
   "metadata": {},
   "outputs": [
    {
     "name": "stdout",
     "output_type": "stream",
     "text": [
      "[13  2 43 21]\n",
      "21\n",
      "2\n",
      "[[21 43 32  5]\n",
      " [54 78  3 21]]\n",
      "[54 78  3 21]\n",
      "3\n"
     ]
    }
   ],
   "source": [
    "#Negative indexing\n",
    "print(arr2D[-1])         #last row\n",
    "print(arr2D[-1, -1])     #last element\n",
    "print(arr2D[-1, -3])\n",
    "print(arr3D[-1])\n",
    "print(arr3D[-1, -1])\n",
    "print(arr3D[-1, -1, -2])"
   ]
  },
  {
   "cell_type": "markdown",
   "metadata": {},
   "source": [
    "# Slicing Arrays"
   ]
  },
  {
   "cell_type": "code",
   "execution_count": 52,
   "metadata": {},
   "outputs": [
    {
     "data": {
      "text/plain": [
       "array([ 1,  2, 34, 21, 45, 32,  4, 56, 76])"
      ]
     },
     "execution_count": 52,
     "metadata": {},
     "output_type": "execute_result"
    }
   ],
   "source": [
    "arr1D = np.array([1, 2, 34, 21, 45, 32, 4, 56, 76])\n",
    "arr1D"
   ]
  },
  {
   "cell_type": "code",
   "execution_count": 57,
   "metadata": {},
   "outputs": [
    {
     "name": "stdout",
     "output_type": "stream",
     "text": [
      "[34 21 45 32  4 56 76]\n",
      "[ 1  2 34 21 45]\n"
     ]
    }
   ],
   "source": [
    "print(arr1D[2:])\n",
    "print(arr1D[:5])"
   ]
  },
  {
   "cell_type": "code",
   "execution_count": 58,
   "metadata": {},
   "outputs": [
    {
     "name": "stdout",
     "output_type": "stream",
     "text": [
      "[34 21 45]\n"
     ]
    }
   ],
   "source": [
    "print(arr1D[2:5])"
   ]
  },
  {
   "cell_type": "code",
   "execution_count": 59,
   "metadata": {},
   "outputs": [
    {
     "name": "stdout",
     "output_type": "stream",
     "text": [
      "[45 32  4]\n"
     ]
    }
   ],
   "source": [
    "print(arr1D[-5:-2])"
   ]
  },
  {
   "cell_type": "code",
   "execution_count": 60,
   "metadata": {},
   "outputs": [
    {
     "name": "stdout",
     "output_type": "stream",
     "text": [
      "[34 45  4]\n"
     ]
    }
   ],
   "source": [
    "print(arr1D[2:7:2])"
   ]
  },
  {
   "cell_type": "code",
   "execution_count": 61,
   "metadata": {},
   "outputs": [
    {
     "name": "stdout",
     "output_type": "stream",
     "text": [
      "[ 1 34 45  4 76]\n"
     ]
    }
   ],
   "source": [
    "print(arr1D[::2])  #every other element"
   ]
  },
  {
   "cell_type": "code",
   "execution_count": 62,
   "metadata": {},
   "outputs": [
    {
     "data": {
      "text/plain": [
       "array([[ 2, 12,  4, 34],\n",
       "       [13,  2, 43, 21]])"
      ]
     },
     "execution_count": 62,
     "metadata": {},
     "output_type": "execute_result"
    }
   ],
   "source": [
    "arr2D"
   ]
  },
  {
   "cell_type": "code",
   "execution_count": 65,
   "metadata": {},
   "outputs": [
    {
     "name": "stdout",
     "output_type": "stream",
     "text": [
      "[ 2 43]\n"
     ]
    }
   ],
   "source": [
    "print(arr2D[1, 1:3])"
   ]
  },
  {
   "cell_type": "code",
   "execution_count": 68,
   "metadata": {},
   "outputs": [
    {
     "name": "stdout",
     "output_type": "stream",
     "text": [
      "[ 4 43]\n"
     ]
    }
   ],
   "source": [
    "print(arr2D[0:2, 2])   #from both rows(0:2) return index 2"
   ]
  },
  {
   "cell_type": "code",
   "execution_count": 69,
   "metadata": {},
   "outputs": [
    {
     "name": "stdout",
     "output_type": "stream",
     "text": [
      "[12  2]\n"
     ]
    }
   ],
   "source": [
    "print(arr2D[0:2, 1])"
   ]
  },
  {
   "cell_type": "code",
   "execution_count": 72,
   "metadata": {},
   "outputs": [
    {
     "name": "stdout",
     "output_type": "stream",
     "text": [
      "[[ 2 12]\n",
      " [13  2]]\n"
     ]
    }
   ],
   "source": [
    "print(arr2D[0:2, 0:2])"
   ]
  },
  {
   "cell_type": "code",
   "execution_count": 73,
   "metadata": {},
   "outputs": [
    {
     "name": "stdout",
     "output_type": "stream",
     "text": [
      "[[[12 23 32 12]\n",
      "  [32 56  4 12]]\n",
      "\n",
      " [[21 43 32  5]\n",
      "  [54 78  3 21]]]\n"
     ]
    }
   ],
   "source": [
    "print(arr3D)"
   ]
  },
  {
   "cell_type": "code",
   "execution_count": 77,
   "metadata": {},
   "outputs": [
    {
     "name": "stdout",
     "output_type": "stream",
     "text": [
      "[54 78  3]\n"
     ]
    }
   ],
   "source": [
    "print(arr3D[1, 1, 0:3])"
   ]
  },
  {
   "cell_type": "code",
   "execution_count": 78,
   "metadata": {},
   "outputs": [
    {
     "name": "stdout",
     "output_type": "stream",
     "text": [
      "[32  3]\n"
     ]
    }
   ],
   "source": [
    "print(arr3D[1, 0:2, 2])"
   ]
  },
  {
   "cell_type": "code",
   "execution_count": 79,
   "metadata": {},
   "outputs": [
    {
     "name": "stdout",
     "output_type": "stream",
     "text": [
      "[[32  4]\n",
      " [32  3]]\n"
     ]
    }
   ],
   "source": [
    "print(arr3D[0:2, 0:2, 2])"
   ]
  },
  {
   "cell_type": "markdown",
   "metadata": {},
   "source": [
    "# Data Types in NumPy\n",
    "NumPy has some extra data types, and refer to data types with one character, like i for integers, u for unsigned integers etc.<br>\n",
    "\n",
    "Below is a list of all data types in NumPy and the characters used to represent them.<br>\n",
    "\n",
    "* i - integer\n",
    "* b - boolean\n",
    "* u - unsigned integer\n",
    "* f - float\n",
    "* c - complex float\n",
    "* m - timedelta\n",
    "* M - datetime\n",
    "* O - object\n",
    "* S - string\n",
    "* U - unicode string\n",
    "* V - fixed chunk of memory for other type ( void )"
   ]
  },
  {
   "cell_type": "code",
   "execution_count": 3,
   "metadata": {},
   "outputs": [
    {
     "name": "stdout",
     "output_type": "stream",
     "text": [
      "int32\n"
     ]
    }
   ],
   "source": [
    "arr = np.array([12, 23, 32, 21])\n",
    "print(arr.dtype)"
   ]
  },
  {
   "cell_type": "code",
   "execution_count": 4,
   "metadata": {},
   "outputs": [
    {
     "name": "stdout",
     "output_type": "stream",
     "text": [
      "<U5\n"
     ]
    }
   ],
   "source": [
    "arr = np.array([\"Prem\" , \"Sipun\" , \"Glass\"])\n",
    "print(arr.dtype)"
   ]
  },
  {
   "cell_type": "code",
   "execution_count": 10,
   "metadata": {},
   "outputs": [
    {
     "name": "stdout",
     "output_type": "stream",
     "text": [
      "|S5\n",
      "[b'Prem' b'Sipun' b'Glass']\n"
     ]
    }
   ],
   "source": [
    "arr = np.array([\"Prem\" , \"Sipun\" , \"Glass\"], dtype = \"S\")\n",
    "print(arr.dtype)\n",
    "print(arr)"
   ]
  },
  {
   "cell_type": "code",
   "execution_count": 12,
   "metadata": {},
   "outputs": [
    {
     "name": "stdout",
     "output_type": "stream",
     "text": [
      "|S4\n",
      "[b'Prem' b'Sipu' b'Glas']\n"
     ]
    }
   ],
   "source": [
    "arr = np.array([\"Prem\" , \"Sipun\" , \"Glass\"], dtype = \"S4\")  #S=> String  4=> size\n",
    "print(arr.dtype)\n",
    "print(arr)"
   ]
  },
  {
   "cell_type": "code",
   "execution_count": 16,
   "metadata": {},
   "outputs": [
    {
     "name": "stdout",
     "output_type": "stream",
     "text": [
      "[1.1 2.3 4.3]\n",
      "float64\n",
      "[1 2 4]\n",
      "int32\n"
     ]
    }
   ],
   "source": [
    "arr = np.array([1.1, 2.3, 4.3])\n",
    "print(arr)\n",
    "print(arr.dtype)\n",
    "new_arr = arr.astype('i')  #converting into integer type\n",
    "print(new_arr)\n",
    "print(new_arr.dtype)"
   ]
  },
  {
   "cell_type": "code",
   "execution_count": 17,
   "metadata": {},
   "outputs": [
    {
     "name": "stdout",
     "output_type": "stream",
     "text": [
      "[1 2 4]\n",
      "int32\n",
      "[1. 2. 4.]\n",
      "float64\n"
     ]
    }
   ],
   "source": [
    "arr = np.array([1, 2, 4])\n",
    "print(arr)\n",
    "print(arr.dtype)\n",
    "new_arr = arr.astype(float)  #converting into integer type\n",
    "print(new_arr)\n",
    "print(new_arr.dtype)"
   ]
  },
  {
   "cell_type": "code",
   "execution_count": 20,
   "metadata": {},
   "outputs": [
    {
     "name": "stdout",
     "output_type": "stream",
     "text": [
      "[ 1  0 -4]\n",
      "int32\n",
      "[ True False  True]\n",
      "bool\n"
     ]
    }
   ],
   "source": [
    "arr = np.array([1, 0, -4])\n",
    "print(arr)\n",
    "print(arr.dtype)\n",
    "new_arr = arr.astype(bool)  #converting into integer type\n",
    "print(new_arr)\n",
    "print(new_arr.dtype)"
   ]
  },
  {
   "cell_type": "markdown",
   "metadata": {},
   "source": [
    "# NumPy Array Copy vs View\n",
    "The main difference between a copy and a view of an array is that the copy is a new array, and the view is just a view of the original array.\n",
    "\n",
    "The copy owns the data and any changes made to the copy will not affect original array, and any changes made to the original array will not affect the copy.\n",
    "\n",
    "The view does not own the data and any changes made to the view will affect the original array, and any changes made to the original array will affect the view."
   ]
  },
  {
   "cell_type": "code",
   "execution_count": 24,
   "metadata": {},
   "outputs": [
    {
     "name": "stdout",
     "output_type": "stream",
     "text": [
      "[12 23 54 23  6 74 22]\n",
      "[42 23 54 23  6 74 22]\n",
      "[12 23 54 23  6 74 22]\n"
     ]
    }
   ],
   "source": [
    "arr = np.array([12, 23, 54,23, 6,74,22])\n",
    "print(arr)\n",
    "x = arr.copy()\n",
    "arr[0] = 42\n",
    "print(arr)\n",
    "print(x)"
   ]
  },
  {
   "cell_type": "code",
   "execution_count": 27,
   "metadata": {},
   "outputs": [
    {
     "name": "stdout",
     "output_type": "stream",
     "text": [
      "[12 23 54 23  6 74 22]\n",
      "[42 23 54 23  6 74 22]\n",
      "[42 23 54 23  6 74 22]\n",
      "  Changes made to x\n",
      "[42  1 54 23  6 74 22]\n",
      "[42  1 54 23  6 74 22]\n"
     ]
    }
   ],
   "source": [
    "arr = np.array([12, 23, 54,23, 6,74,22])\n",
    "print(arr)\n",
    "x = arr.view()\n",
    "arr[0] = 42\n",
    "print(arr)\n",
    "print(x)\n",
    "\n",
    "#changes made to x\n",
    "x[1] = 1\n",
    "print(\"  Changes made to x\")\n",
    "print(arr)\n",
    "print(x)"
   ]
  },
  {
   "cell_type": "code",
   "execution_count": 28,
   "metadata": {},
   "outputs": [
    {
     "name": "stdout",
     "output_type": "stream",
     "text": [
      "None\n",
      "[ 3  5  6 21]\n"
     ]
    }
   ],
   "source": [
    "arr = np.array([3, 5, 6, 21])\n",
    "\n",
    "x = arr.copy()\n",
    "y = arr.view()\n",
    "\n",
    "# Every NumPy array has the attribute base that returns None if the array owns the data.\n",
    "# Otherwise, the base  attribute refers to the original object.\n",
    "print(x.base)\n",
    "print(y.base)"
   ]
  },
  {
   "cell_type": "markdown",
   "metadata": {},
   "source": [
    "# Shape & Reshape"
   ]
  },
  {
   "cell_type": "code",
   "execution_count": 7,
   "metadata": {},
   "outputs": [
    {
     "name": "stdout",
     "output_type": "stream",
     "text": [
      "[[ 1  2  3  4  5]\n",
      " [ 2  5 23 45 12]]\n",
      "(2, 5)\n",
      "2\n"
     ]
    }
   ],
   "source": [
    "arr = np.array([[1,2,3,4,5], [2,5,23,45,12]])\n",
    "print(arr)\n",
    "print(arr.shape)\n",
    "print(arr.ndim)"
   ]
  },
  {
   "cell_type": "code",
   "execution_count": 8,
   "metadata": {},
   "outputs": [
    {
     "name": "stdout",
     "output_type": "stream",
     "text": [
      "[[ 1  2  3  4  5]\n",
      " [ 2  5 23 45 12]\n",
      " [21 34 56 86 34]]\n",
      "(3, 5)\n",
      "2\n"
     ]
    }
   ],
   "source": [
    "arr1 = np.array([[1,2,3,4,5], [2,5,23,45,12], [21,34,56,86,34]])\n",
    "print(arr1)\n",
    "print(arr1.shape)\n",
    "print(arr1.ndim)"
   ]
  },
  {
   "cell_type": "code",
   "execution_count": 9,
   "metadata": {},
   "outputs": [
    {
     "name": "stdout",
     "output_type": "stream",
     "text": [
      "[list([1, 2, 3, 4, 5]) list([2, 5, 23, 12]) list([21, 34, 56, 86, 34])]\n",
      "(3,)\n",
      "1\n"
     ]
    }
   ],
   "source": [
    "arr1 = np.array([[1,2,3,4,5], [2,5,23,12], [21,34,56,86,34]])\n",
    "print(arr1)\n",
    "print(arr1.shape)\n",
    "print(arr1.ndim)"
   ]
  },
  {
   "cell_type": "code",
   "execution_count": 10,
   "metadata": {},
   "outputs": [
    {
     "name": "stdout",
     "output_type": "stream",
     "text": [
      "[[[[[1 2 3 4]]]]]\n",
      "shape of array : (1, 1, 1, 1, 4)\n",
      "5\n"
     ]
    }
   ],
   "source": [
    "arr2 = np.array([1, 2, 3, 4], ndmin=5)\n",
    "\n",
    "print(arr2)\n",
    "print('shape of array :', arr2.shape)\n",
    "print(arr2.ndim)"
   ]
  },
  {
   "cell_type": "code",
   "execution_count": 11,
   "metadata": {},
   "outputs": [
    {
     "name": "stdout",
     "output_type": "stream",
     "text": [
      "[12 32 43  3]\n",
      "(4,)\n",
      "1\n"
     ]
    }
   ],
   "source": [
    "arr3 = np.array([12, 32, 43, 3])\n",
    "\n",
    "print(arr3)\n",
    "print(arr3.shape)\n",
    "print(arr3.ndim)"
   ]
  },
  {
   "cell_type": "code",
   "execution_count": 13,
   "metadata": {},
   "outputs": [
    {
     "name": "stdout",
     "output_type": "stream",
     "text": [
      "[[[1 2 3 4]\n",
      "  [2 3 4 5]]\n",
      "\n",
      " [[2 3 4 5]\n",
      "  [3 4 5 6]]]\n",
      "(2, 2, 4)\n",
      "3\n"
     ]
    }
   ],
   "source": [
    "arr4 = np.array([[[1,2,3,4],[2,3,4,5]], [[2,3,4,5],[3,4,5,6]]])\n",
    "print(arr4)\n",
    "print(arr4.shape)\n",
    "print(arr4.ndim)"
   ]
  },
  {
   "cell_type": "code",
   "execution_count": 16,
   "metadata": {},
   "outputs": [
    {
     "name": "stdout",
     "output_type": "stream",
     "text": [
      "[ 1  2  3  4  5  6  7  8  9 10 11 12]\n",
      "[[ 1  2  3]\n",
      " [ 4  5  6]\n",
      " [ 7  8  9]\n",
      " [10 11 12]]\n"
     ]
    }
   ],
   "source": [
    "arr = np.array([1,2,3,4,5,6,7,8,9,10,11,12])\n",
    "new_arr = arr.reshape(4,3)\n",
    "print(arr)\n",
    "print(new_arr)"
   ]
  },
  {
   "cell_type": "code",
   "execution_count": 21,
   "metadata": {},
   "outputs": [
    {
     "name": "stdout",
     "output_type": "stream",
     "text": [
      "[[[ 1  2]\n",
      "  [ 3  4]\n",
      "  [ 5  6]]\n",
      "\n",
      " [[ 7  8]\n",
      "  [ 9 10]\n",
      "  [11 12]]]\n",
      "3\n"
     ]
    }
   ],
   "source": [
    "arr = np.array([1,2,3,4,5,6,7,8,9,10,11,12])\n",
    "new_arr = arr.reshape(2,3,2)\n",
    "print(new_arr)\n",
    "print(new_arr.ndim)"
   ]
  },
  {
   "cell_type": "code",
   "execution_count": 22,
   "metadata": {},
   "outputs": [
    {
     "name": "stdout",
     "output_type": "stream",
     "text": [
      "[[[[ 1  2]\n",
      "   [ 3  4]\n",
      "   [ 5  6]]]\n",
      "\n",
      "\n",
      " [[[ 7  8]\n",
      "   [ 9 10]\n",
      "   [11 12]]]]\n",
      "4\n"
     ]
    }
   ],
   "source": [
    "arr = np.array([1,2,3,4,5,6,7,8,9,10,11,12])\n",
    "new_arr = arr.reshape(2,1,3,2)\n",
    "print(new_arr)\n",
    "print(new_arr.ndim)"
   ]
  },
  {
   "cell_type": "code",
   "execution_count": 26,
   "metadata": {},
   "outputs": [
    {
     "name": "stdout",
     "output_type": "stream",
     "text": [
      "[[1]\n",
      " [2]\n",
      " [3]]\n",
      "2\n"
     ]
    }
   ],
   "source": [
    "arr = np.array([1,2,3])\n",
    "new_arr = arr.reshape(3,1)\n",
    "print(new_arr)\n",
    "print(new_arr.ndim)"
   ]
  },
  {
   "cell_type": "code",
   "execution_count": 29,
   "metadata": {},
   "outputs": [
    {
     "name": "stdout",
     "output_type": "stream",
     "text": [
      "(2, 2, 3) 3\n"
     ]
    }
   ],
   "source": [
    "arr = np.array([[[1,2,3],[4,5,6]],[[2,3,1],[5,4,6]]])\n",
    "print(arr.shape,arr.ndim)"
   ]
  },
  {
   "cell_type": "code",
   "execution_count": 31,
   "metadata": {},
   "outputs": [
    {
     "data": {
      "text/plain": [
       "array([[[1, 2],\n",
       "        [3, 4],\n",
       "        [5, 6]],\n",
       "\n",
       "       [[2, 3],\n",
       "        [1, 5],\n",
       "        [4, 6]]])"
      ]
     },
     "execution_count": 31,
     "metadata": {},
     "output_type": "execute_result"
    }
   ],
   "source": [
    "arr.reshape(2,3,2)"
   ]
  },
  {
   "cell_type": "code",
   "execution_count": 32,
   "metadata": {},
   "outputs": [
    {
     "data": {
      "text/plain": [
       "array([[[1, 2],\n",
       "        [3, 4],\n",
       "        [5, 6],\n",
       "        [2, 3],\n",
       "        [1, 5],\n",
       "        [4, 6]]])"
      ]
     },
     "execution_count": 32,
     "metadata": {},
     "output_type": "execute_result"
    }
   ],
   "source": [
    "arr.reshape(1,6,2)"
   ]
  },
  {
   "cell_type": "code",
   "execution_count": 38,
   "metadata": {},
   "outputs": [
    {
     "data": {
      "text/plain": [
       "array([[1, 2, 3, 4, 5, 6, 2, 3, 1, 5, 4, 6]])"
      ]
     },
     "execution_count": 38,
     "metadata": {},
     "output_type": "execute_result"
    }
   ],
   "source": [
    "arr.reshape(1,12)"
   ]
  },
  {
   "cell_type": "code",
   "execution_count": 41,
   "metadata": {},
   "outputs": [
    {
     "name": "stdout",
     "output_type": "stream",
     "text": [
      "[[[1 2]\n",
      "  [3 4]]\n",
      "\n",
      " [[5 6]\n",
      "  [7 8]]]\n"
     ]
    }
   ],
   "source": [
    "#unknown dimension\n",
    "arr = np.array([1,2,3,4,5,6,7,8])\n",
    "print(arr.reshape(2,2,-1))"
   ]
  },
  {
   "cell_type": "code",
   "execution_count": 42,
   "metadata": {},
   "outputs": [
    {
     "name": "stdout",
     "output_type": "stream",
     "text": [
      "[1 2 3 4 5 6 2 3 1 5 4 6]\n"
     ]
    }
   ],
   "source": [
    "#Flattening Array\n",
    "arr = np.array([[[1,2,3],[4,5,6]],[[2,3,1],[5,4,6]]])\n",
    "print(arr.reshape(-1))"
   ]
  },
  {
   "cell_type": "markdown",
   "metadata": {},
   "source": [
    "# Iterating Arrays"
   ]
  },
  {
   "cell_type": "code",
   "execution_count": 46,
   "metadata": {},
   "outputs": [
    {
     "name": "stdout",
     "output_type": "stream",
     "text": [
      "1\n",
      "2\n",
      "3\n",
      "4\n",
      "5\n"
     ]
    }
   ],
   "source": [
    "arr1 = np.array([1,2,3,4,5])\n",
    "for x in arr1:\n",
    "    print(x)"
   ]
  },
  {
   "cell_type": "code",
   "execution_count": 48,
   "metadata": {},
   "outputs": [
    {
     "name": "stdout",
     "output_type": "stream",
     "text": [
      "[1 2 3 4]\n",
      "[3 4 5 6]\n"
     ]
    }
   ],
   "source": [
    "arr2 = np.array([[1,2,3,4],[3,4,5,6]])\n",
    "for x in arr2:\n",
    "    print(x)"
   ]
  },
  {
   "cell_type": "code",
   "execution_count": 49,
   "metadata": {},
   "outputs": [
    {
     "name": "stdout",
     "output_type": "stream",
     "text": [
      "1\n",
      "2\n",
      "3\n",
      "4\n",
      "3\n",
      "4\n",
      "5\n",
      "6\n"
     ]
    }
   ],
   "source": [
    "for x in arr2:\n",
    "    for y in x:\n",
    "        print(y)"
   ]
  },
  {
   "cell_type": "code",
   "execution_count": 51,
   "metadata": {},
   "outputs": [
    {
     "data": {
      "text/plain": [
       "(array([[[1, 2, 3],\n",
       "         [4, 5, 6]],\n",
       " \n",
       "        [[2, 3, 1],\n",
       "         [5, 4, 6]]]),\n",
       " 3)"
      ]
     },
     "execution_count": 51,
     "metadata": {},
     "output_type": "execute_result"
    }
   ],
   "source": [
    "arr,arr.ndim"
   ]
  },
  {
   "cell_type": "code",
   "execution_count": 52,
   "metadata": {},
   "outputs": [
    {
     "name": "stdout",
     "output_type": "stream",
     "text": [
      "[[1 2 3]\n",
      " [4 5 6]]\n",
      "[[2 3 1]\n",
      " [5 4 6]]\n"
     ]
    }
   ],
   "source": [
    "for x in arr:\n",
    "    print(x)"
   ]
  },
  {
   "cell_type": "code",
   "execution_count": 53,
   "metadata": {},
   "outputs": [
    {
     "name": "stdout",
     "output_type": "stream",
     "text": [
      "[1 2 3]\n",
      "[4 5 6]\n",
      "[2 3 1]\n",
      "[5 4 6]\n"
     ]
    }
   ],
   "source": [
    "for x in arr:\n",
    "    for y in x:\n",
    "        print(y)"
   ]
  },
  {
   "cell_type": "code",
   "execution_count": 54,
   "metadata": {},
   "outputs": [
    {
     "name": "stdout",
     "output_type": "stream",
     "text": [
      "1\n",
      "2\n",
      "3\n",
      "4\n",
      "5\n",
      "6\n",
      "2\n",
      "3\n",
      "1\n",
      "5\n",
      "4\n",
      "6\n"
     ]
    }
   ],
   "source": [
    "for x in arr:\n",
    "    for y in x:\n",
    "        for z in y:\n",
    "            print(z)"
   ]
  },
  {
   "cell_type": "code",
   "execution_count": 60,
   "metadata": {},
   "outputs": [
    {
     "name": "stdout",
     "output_type": "stream",
     "text": [
      "1\n",
      "2\n",
      "3\n",
      "4\n",
      "5\n",
      "6\n",
      "2\n",
      "3\n",
      "1\n",
      "5\n",
      "4\n",
      "6\n"
     ]
    }
   ],
   "source": [
    "#using np.nditer(arr) for higher dimensionality\n",
    "for x in np.nditer(arr):\n",
    "    print(x)"
   ]
  },
  {
   "cell_type": "code",
   "execution_count": 59,
   "metadata": {},
   "outputs": [
    {
     "name": "stdout",
     "output_type": "stream",
     "text": [
      "b'1'\n",
      "b'2'\n",
      "b'3'\n",
      "b'4'\n",
      "b'5'\n"
     ]
    }
   ],
   "source": [
    "#changing dtype while iterating       Also, buffer is used to provide some space for change in dtype to occur\n",
    "for x in np.nditer(arr1, flags=['buffered'], op_dtypes=['S']):\n",
    "    print(x)"
   ]
  },
  {
   "cell_type": "code",
   "execution_count": 62,
   "metadata": {},
   "outputs": [
    {
     "name": "stdout",
     "output_type": "stream",
     "text": [
      "1\n",
      "3\n",
      "5\n",
      "7\n"
     ]
    }
   ],
   "source": [
    "#skipping one element at a time\n",
    "arr = np.array([[1,2,3,4],[5,6,7,8]])\n",
    "for x in np.nditer(arr[:,::2]):\n",
    "    print(x)"
   ]
  },
  {
   "cell_type": "markdown",
   "metadata": {},
   "source": [
    "# Indexing array items"
   ]
  },
  {
   "cell_type": "code",
   "execution_count": 63,
   "metadata": {},
   "outputs": [
    {
     "name": "stdout",
     "output_type": "stream",
     "text": [
      "(0, 0) 1\n",
      "(0, 1) 2\n",
      "(0, 2) 3\n",
      "(0, 3) 4\n",
      "(1, 0) 5\n",
      "(1, 1) 6\n",
      "(1, 2) 7\n",
      "(1, 3) 8\n"
     ]
    }
   ],
   "source": [
    "for idx,x in np.ndenumerate(arr):\n",
    "    print(idx,x)"
   ]
  },
  {
   "cell_type": "code",
   "execution_count": 65,
   "metadata": {},
   "outputs": [
    {
     "name": "stdout",
     "output_type": "stream",
     "text": [
      "(0,) 1\n",
      "(1,) 2\n",
      "(2,) 3\n",
      "(3,) 4\n",
      "(4,) 5\n"
     ]
    }
   ],
   "source": [
    "for idx,x in np.ndenumerate(arr1):\n",
    "    print(idx,x)"
   ]
  },
  {
   "cell_type": "code",
   "execution_count": 66,
   "metadata": {},
   "outputs": [
    {
     "name": "stdout",
     "output_type": "stream",
     "text": [
      "(0, 0, 0) 1\n",
      "(0, 0, 1) 2\n",
      "(0, 0, 2) 3\n",
      "(0, 1, 0) 4\n",
      "(0, 1, 1) 5\n",
      "(0, 1, 2) 6\n",
      "(1, 0, 0) 2\n",
      "(1, 0, 1) 3\n",
      "(1, 0, 2) 1\n",
      "(1, 1, 0) 5\n",
      "(1, 1, 1) 4\n",
      "(1, 1, 2) 6\n"
     ]
    }
   ],
   "source": [
    "arr = np.array([[[1,2,3],[4,5,6]],[[2,3,1],[5,4,6]]])\n",
    "for idx,x in np.ndenumerate(arr):\n",
    "    print(idx,x)"
   ]
  },
  {
   "cell_type": "markdown",
   "metadata": {},
   "source": [
    "# Joining"
   ]
  },
  {
   "cell_type": "code",
   "execution_count": 3,
   "metadata": {},
   "outputs": [
    {
     "name": "stdout",
     "output_type": "stream",
     "text": [
      "[12 23 21 43  5  1  2  3  4  5]\n"
     ]
    }
   ],
   "source": [
    "arr1 = np.array([12,23,21,43,5])\n",
    "arr2 = np.array([1,2,3,4,5])\n",
    "\n",
    "arr = np.concatenate((arr1, arr2))  #1-D is little different\n",
    "\n",
    "print(arr)"
   ]
  },
  {
   "cell_type": "code",
   "execution_count": 4,
   "metadata": {
    "scrolled": true
   },
   "outputs": [
    {
     "name": "stdout",
     "output_type": "stream",
     "text": [
      "[[12 23]\n",
      " [21 43]\n",
      " [ 2  3]\n",
      " [ 4  5]]\n"
     ]
    }
   ],
   "source": [
    "arr1 = np.array([[12,23],\n",
    "                 [21,43]])\n",
    "\n",
    "arr2 = np.array([[2,3],\n",
    "                 [4,5]])\n",
    "\n",
    "arr = np.concatenate((arr1, arr2))  #row-wise\n",
    " \n",
    "print(arr)"
   ]
  },
  {
   "cell_type": "code",
   "execution_count": 5,
   "metadata": {},
   "outputs": [
    {
     "name": "stdout",
     "output_type": "stream",
     "text": [
      "[[12 23  2  3]\n",
      " [21 43  4  5]]\n"
     ]
    }
   ],
   "source": [
    "arr1 = np.array([[12,23],\n",
    "                 [21,43]])\n",
    "\n",
    "arr2 = np.array([[2,3],\n",
    "                 [4,5]])\n",
    "\n",
    "arr = np.concatenate((arr1, arr2), axis=1)  #column-wise\n",
    "\n",
    "print(arr)"
   ]
  },
  {
   "cell_type": "code",
   "execution_count": 7,
   "metadata": {},
   "outputs": [
    {
     "name": "stdout",
     "output_type": "stream",
     "text": [
      "[[12  1]\n",
      " [23  2]\n",
      " [21  3]\n",
      " [43  4]\n",
      " [ 5  5]]\n"
     ]
    }
   ],
   "source": [
    "#concatenate in 1-D array throws error therefore here we use np.stack\n",
    "arr1 = np.array([12,23,21,43,5])\n",
    "arr2 = np.array([1,2,3,4,5])\n",
    "\n",
    "arr = np.stack((arr1, arr2), axis=1)  \n",
    "\n",
    "print(arr)"
   ]
  },
  {
   "cell_type": "code",
   "execution_count": 8,
   "metadata": {},
   "outputs": [
    {
     "name": "stdout",
     "output_type": "stream",
     "text": [
      "[12 23 21 43  5  1  2  3  4  5]\n"
     ]
    }
   ],
   "source": [
    "arr1 = np.array([12,23,21,43,5])\n",
    "arr2 = np.array([1,2,3,4,5])\n",
    "\n",
    "arr = np.hstack((arr1, arr2))  \n",
    "\n",
    "print(arr)"
   ]
  },
  {
   "cell_type": "code",
   "execution_count": 9,
   "metadata": {},
   "outputs": [
    {
     "name": "stdout",
     "output_type": "stream",
     "text": [
      "[[12 23 21 43  5]\n",
      " [ 1  2  3  4  5]]\n"
     ]
    }
   ],
   "source": [
    "arr1 = np.array([12,23,21,43,5])\n",
    "arr2 = np.array([1,2,3,4,5])\n",
    "\n",
    "arr = np.vstack((arr1, arr2))  \n",
    "\n",
    "print(arr)"
   ]
  },
  {
   "cell_type": "code",
   "execution_count": 11,
   "metadata": {},
   "outputs": [
    {
     "name": "stdout",
     "output_type": "stream",
     "text": [
      "[[[12  1]\n",
      "  [23  2]\n",
      "  [21  3]\n",
      "  [43  4]\n",
      "  [ 5  5]]]\n"
     ]
    }
   ],
   "source": [
    "arr1 = np.array([12,23,21,43,5])\n",
    "arr2 = np.array([1,2,3,4,5])\n",
    "\n",
    "arr = np.dstack((arr1, arr2))  \n",
    "\n",
    "print(arr)"
   ]
  },
  {
   "cell_type": "code",
   "execution_count": 14,
   "metadata": {},
   "outputs": [
    {
     "name": "stdout",
     "output_type": "stream",
     "text": [
      "[[[ 1  2  3]\n",
      "  [ 4  5  6]]\n",
      "\n",
      " [[ 2  3  1]\n",
      "  [ 5  4  6]]\n",
      "\n",
      " [[21 22 30]\n",
      "  [45 56 63]]\n",
      "\n",
      " [[23 35 12]\n",
      "  [35 64 66]]]\n"
     ]
    }
   ],
   "source": [
    "#3-D Array\n",
    "arr1 = np.array([[[1,2,3],[4,5,6]],[[2,3,1],[5,4,6]]])\n",
    "arr2 = np.array([[[21,22,30],[45,56,63]],[[23,35,12],[35,64,66]]])\n",
    "\n",
    "arr = np.concatenate((arr1,arr2))  #similar to vstack\n",
    "\n",
    "print(arr)"
   ]
  },
  {
   "cell_type": "code",
   "execution_count": 19,
   "metadata": {},
   "outputs": [
    {
     "name": "stdout",
     "output_type": "stream",
     "text": [
      "[[[ 1  2  3]\n",
      "  [ 4  5  6]\n",
      "  [21 22 30]\n",
      "  [45 56 63]]\n",
      "\n",
      " [[ 2  3  1]\n",
      "  [ 5  4  6]\n",
      "  [23 35 12]\n",
      "  [35 64 66]]]\n"
     ]
    }
   ],
   "source": [
    "arr1 = np.array([[[1,2,3],[4,5,6]],\n",
    "                 [[2,3,1],[5,4,6]]])\n",
    "\n",
    "arr2 = np.array([[[21,22,30],[45,56,63]],\n",
    "                 [[23,35,12],[35,64,66]]])\n",
    "\n",
    "arr = np.concatenate((arr1,arr2), axis=1)  #similar to hstack\n",
    "\n",
    "print(arr)"
   ]
  },
  {
   "cell_type": "code",
   "execution_count": 20,
   "metadata": {},
   "outputs": [
    {
     "name": "stdout",
     "output_type": "stream",
     "text": [
      "[[[[ 1  2  3]\n",
      "   [ 4  5  6]]\n",
      "\n",
      "  [[21 22 30]\n",
      "   [45 56 63]]]\n",
      "\n",
      "\n",
      " [[[ 2  3  1]\n",
      "   [ 5  4  6]]\n",
      "\n",
      "  [[23 35 12]\n",
      "   [35 64 66]]]]\n"
     ]
    }
   ],
   "source": [
    "arr = np.stack((arr1,arr2), axis=1)\n",
    "\n",
    "print(arr)"
   ]
  },
  {
   "cell_type": "code",
   "execution_count": 21,
   "metadata": {},
   "outputs": [
    {
     "name": "stdout",
     "output_type": "stream",
     "text": [
      "[[[ 1  2  3]\n",
      "  [ 4  5  6]\n",
      "  [21 22 30]\n",
      "  [45 56 63]]\n",
      "\n",
      " [[ 2  3  1]\n",
      "  [ 5  4  6]\n",
      "  [23 35 12]\n",
      "  [35 64 66]]]\n"
     ]
    }
   ],
   "source": [
    "arr = np.hstack((arr1,arr2))  #axis =0 concatenate\n",
    "print(arr)"
   ]
  },
  {
   "cell_type": "code",
   "execution_count": 22,
   "metadata": {},
   "outputs": [
    {
     "name": "stdout",
     "output_type": "stream",
     "text": [
      "[[[ 1  2  3]\n",
      "  [ 4  5  6]]\n",
      "\n",
      " [[ 2  3  1]\n",
      "  [ 5  4  6]]\n",
      "\n",
      " [[21 22 30]\n",
      "  [45 56 63]]\n",
      "\n",
      " [[23 35 12]\n",
      "  [35 64 66]]]\n"
     ]
    }
   ],
   "source": [
    "arr = np.vstack((arr1,arr2))   #axis=1 concatenate\n",
    "print(arr)"
   ]
  },
  {
   "cell_type": "code",
   "execution_count": 23,
   "metadata": {},
   "outputs": [
    {
     "name": "stdout",
     "output_type": "stream",
     "text": [
      "[[[ 1  2  3 21 22 30]\n",
      "  [ 4  5  6 45 56 63]]\n",
      "\n",
      " [[ 2  3  1 23 35 12]\n",
      "  [ 5  4  6 35 64 66]]]\n"
     ]
    }
   ],
   "source": [
    "arr = np.dstack((arr1,arr2))   #Important\n",
    "print(arr)"
   ]
  },
  {
   "cell_type": "markdown",
   "metadata": {},
   "source": [
    "# Spliting"
   ]
  },
  {
   "cell_type": "code",
   "execution_count": 29,
   "metadata": {},
   "outputs": [
    {
     "name": "stdout",
     "output_type": "stream",
     "text": [
      "[array([1, 2]), array([3, 4]), array([5, 6])]\n",
      "[1 2]\n",
      "[3 4]\n",
      "[5 6]\n",
      "<class 'numpy.ndarray'>\n"
     ]
    }
   ],
   "source": [
    "arr = np.array([1,2,3,4,5,6])\n",
    "new_arr = np.array_split(arr,3)\n",
    "print(new_arr)\n",
    "print(new_arr[0])\n",
    "print(new_arr[1])\n",
    "print(new_arr[2])\n",
    "print(type(new_arr[2]))"
   ]
  },
  {
   "cell_type": "code",
   "execution_count": 25,
   "metadata": {},
   "outputs": [
    {
     "name": "stdout",
     "output_type": "stream",
     "text": [
      "[array([1, 2]), array([3, 4]), array([5]), array([6])]\n"
     ]
    }
   ],
   "source": [
    "#if elements are less, it will adjust\n",
    "new_arr = np.array_split(arr, 4)\n",
    "print(new_arr)"
   ]
  },
  {
   "cell_type": "code",
   "execution_count": 35,
   "metadata": {},
   "outputs": [
    {
     "name": "stdout",
     "output_type": "stream",
     "text": [
      "[array([[1, 2],\n",
      "       [3, 4]]), array([[5, 6],\n",
      "       [7, 8]])]\n",
      "[[1 2]\n",
      " [3 4]]\n",
      "[[5 6]\n",
      " [7 8]]\n"
     ]
    }
   ],
   "source": [
    "#spliting 2-D array\n",
    "arr = np.array([[1,2], [3,4], [5,6], [7,8]])\n",
    "new_arr = np.array_split(arr, 2)\n",
    "print(new_arr)\n",
    "print(new_arr[0])\n",
    "print(new_arr[1])"
   ]
  },
  {
   "cell_type": "code",
   "execution_count": 36,
   "metadata": {},
   "outputs": [
    {
     "name": "stdout",
     "output_type": "stream",
     "text": [
      "[array([[1, 2]]), array([[3, 4]]), array([[5, 6]]), array([[7, 8]])]\n",
      "[[1 2]]\n"
     ]
    }
   ],
   "source": [
    "new_arr = np.array_split(arr, 4)\n",
    "print(new_arr)\n",
    "print(new_arr[0])"
   ]
  },
  {
   "cell_type": "code",
   "execution_count": 37,
   "metadata": {},
   "outputs": [
    {
     "name": "stdout",
     "output_type": "stream",
     "text": [
      "[array([[1, 2, 3],\n",
      "       [4, 5, 6]]), array([[ 7,  8,  9],\n",
      "       [10, 11, 12]]), array([[13, 14, 15],\n",
      "       [16, 17, 18]])]\n"
     ]
    }
   ],
   "source": [
    "arr = np.array([[1, 2, 3], [4, 5, 6], [7, 8, 9], [10, 11, 12], [13, 14, 15], [16, 17, 18]])\n",
    "\n",
    "newarr = np.array_split(arr, 3)\n",
    "\n",
    "print(newarr)"
   ]
  },
  {
   "cell_type": "code",
   "execution_count": 39,
   "metadata": {},
   "outputs": [
    {
     "name": "stdout",
     "output_type": "stream",
     "text": [
      "[array([[ 1],\n",
      "       [ 4],\n",
      "       [ 7],\n",
      "       [10],\n",
      "       [13],\n",
      "       [16]]), array([[ 2],\n",
      "       [ 5],\n",
      "       [ 8],\n",
      "       [11],\n",
      "       [14],\n",
      "       [17]]), array([[ 3],\n",
      "       [ 6],\n",
      "       [ 9],\n",
      "       [12],\n",
      "       [15],\n",
      "       [18]])]\n",
      "[[ 1]\n",
      " [ 4]\n",
      " [ 7]\n",
      " [10]\n",
      " [13]\n",
      " [16]]\n"
     ]
    }
   ],
   "source": [
    "arr = np.array([[1, 2, 3], [4, 5, 6], [7, 8, 9], [10, 11, 12], [13, 14, 15], [16, 17, 18]])\n",
    "\n",
    "newarr = np.array_split(arr, 3 ,axis=1)\n",
    "\n",
    "print(newarr)\n",
    "print(newarr[0])"
   ]
  },
  {
   "cell_type": "code",
   "execution_count": 40,
   "metadata": {},
   "outputs": [
    {
     "name": "stdout",
     "output_type": "stream",
     "text": [
      "[array([[ 1],\n",
      "       [ 4],\n",
      "       [ 7],\n",
      "       [10],\n",
      "       [13],\n",
      "       [16]]), array([[ 2],\n",
      "       [ 5],\n",
      "       [ 8],\n",
      "       [11],\n",
      "       [14],\n",
      "       [17]]), array([[ 3],\n",
      "       [ 6],\n",
      "       [ 9],\n",
      "       [12],\n",
      "       [15],\n",
      "       [18]])]\n"
     ]
    }
   ],
   "source": [
    "arr = np.array([[1, 2, 3], [4, 5, 6], [7, 8, 9], [10, 11, 12], [13, 14, 15], [16, 17, 18]])\n",
    "\n",
    "newarr = np.hsplit(arr, 3)  #similar to axis = 1\n",
    "\n",
    "print(newarr)"
   ]
  },
  {
   "cell_type": "markdown",
   "metadata": {},
   "source": [
    "# Searching Array element"
   ]
  },
  {
   "cell_type": "code",
   "execution_count": 6,
   "metadata": {},
   "outputs": [
    {
     "name": "stdout",
     "output_type": "stream",
     "text": [
      "(array([3], dtype=int64),)\n"
     ]
    }
   ],
   "source": [
    "#returns index\n",
    "arr = np.array([1,2,3,4,5,6])\n",
    "x = np.where(arr==4)\n",
    "print(x)"
   ]
  },
  {
   "cell_type": "code",
   "execution_count": 7,
   "metadata": {},
   "outputs": [
    {
     "name": "stdout",
     "output_type": "stream",
     "text": [
      "(array([2, 4, 7], dtype=int64),)\n"
     ]
    }
   ],
   "source": [
    "arr = np.array([1,2,4,3,4,5,6,4])\n",
    "x = np.where(arr==4)\n",
    "print(x)"
   ]
  },
  {
   "cell_type": "code",
   "execution_count": 10,
   "metadata": {},
   "outputs": [
    {
     "name": "stdout",
     "output_type": "stream",
     "text": [
      "even=>  (array([1, 3, 5, 6], dtype=int64),)\n",
      "odd=>  (array([0, 2, 4], dtype=int64),)\n"
     ]
    }
   ],
   "source": [
    "#returns where arr is even\n",
    "arr = np.array([1,2,3,4,5,6,12])\n",
    "x = np.where(arr%2==0)\n",
    "print(\"even=> \",x)\n",
    "\n",
    "#returns where arr is odd\n",
    "y = np.where(arr%2==1)\n",
    "print(\"odd=> \",y)"
   ]
  },
  {
   "cell_type": "code",
   "execution_count": 24,
   "metadata": {},
   "outputs": [
    {
     "name": "stdout",
     "output_type": "stream",
     "text": [
      "3\n"
     ]
    }
   ],
   "source": [
    "#searchsorted()  There is a method called searchsorted() which performs a binary search in the array, \n",
    "# and returns the index where the specified value would be inserted to maintain the search order.\n",
    "\n",
    "#works on sorted array , preferably\n",
    "\n",
    "arr = np.array([1,2,4,5,6,12])\n",
    "x = np.searchsorted(arr,5)\n",
    "print(x)"
   ]
  },
  {
   "cell_type": "code",
   "execution_count": 25,
   "metadata": {},
   "outputs": [
    {
     "name": "stdout",
     "output_type": "stream",
     "text": [
      "4\n"
     ]
    }
   ],
   "source": [
    "#checks from right side\n",
    "x = np.searchsorted(arr, 5, side='right')\n",
    "print(x)"
   ]
  },
  {
   "cell_type": "code",
   "execution_count": 26,
   "metadata": {},
   "outputs": [
    {
     "name": "stdout",
     "output_type": "stream",
     "text": [
      "[1 2 3]\n"
     ]
    }
   ],
   "source": [
    "arr = np.array([1, 3, 5, 7])\n",
    "x = np.searchsorted(arr, [2, 4, 6])\n",
    "print(x)"
   ]
  },
  {
   "cell_type": "markdown",
   "metadata": {},
   "source": [
    "# Sorting Arrays"
   ]
  },
  {
   "cell_type": "code",
   "execution_count": 28,
   "metadata": {},
   "outputs": [
    {
     "data": {
      "text/plain": [
       "array([ 2,  2,  7, 12, 21, 54])"
      ]
     },
     "execution_count": 28,
     "metadata": {},
     "output_type": "execute_result"
    }
   ],
   "source": [
    "arr = np.array([12,54,2,7,2,21])\n",
    "x = np.sort(arr)\n",
    "x"
   ]
  },
  {
   "cell_type": "code",
   "execution_count": 30,
   "metadata": {},
   "outputs": [
    {
     "data": {
      "text/plain": [
       "array(['ABc', 'Prem', 'Sipun', 'Zebra'], dtype='<U5')"
      ]
     },
     "execution_count": 30,
     "metadata": {},
     "output_type": "execute_result"
    }
   ],
   "source": [
    "arrS = np.array([\"Prem\" , \"Sipun\" , \"ABc\", \"Zebra\"])\n",
    "x = np.sort(arrS)\n",
    "x"
   ]
  },
  {
   "cell_type": "code",
   "execution_count": 32,
   "metadata": {},
   "outputs": [
    {
     "data": {
      "text/plain": [
       "array([False, False,  True,  True])"
      ]
     },
     "execution_count": 32,
     "metadata": {},
     "output_type": "execute_result"
    }
   ],
   "source": [
    "arrB = np.array([True, False, True,False])\n",
    "x = np.sort(arrB)\n",
    "x"
   ]
  },
  {
   "cell_type": "code",
   "execution_count": 33,
   "metadata": {},
   "outputs": [
    {
     "data": {
      "text/plain": [
       "array([[2, 3, 4],\n",
       "       [0, 1, 5]])"
      ]
     },
     "execution_count": 33,
     "metadata": {},
     "output_type": "execute_result"
    }
   ],
   "source": [
    "#2-D array\n",
    "arr = np.array([[3, 2, 4], [5, 0, 1]])\n",
    "np.sort(arr)"
   ]
  },
  {
   "cell_type": "code",
   "execution_count": 34,
   "metadata": {},
   "outputs": [
    {
     "data": {
      "text/plain": [
       "array([[[1, 2, 3],\n",
       "        [4, 5, 6]],\n",
       "\n",
       "       [[1, 2, 3],\n",
       "        [4, 5, 6]]])"
      ]
     },
     "execution_count": 34,
     "metadata": {},
     "output_type": "execute_result"
    }
   ],
   "source": [
    "arr1 = np.array([[[1,2,3],[4,5,6]],\n",
    "                 [[2,3,1],[5,4,6]]])\n",
    "np.sort(arr1)"
   ]
  },
  {
   "cell_type": "markdown",
   "metadata": {},
   "source": [
    "# Filtering"
   ]
  },
  {
   "cell_type": "code",
   "execution_count": 4,
   "metadata": {},
   "outputs": [
    {
     "name": "stdout",
     "output_type": "stream",
     "text": [
      "[1 3 5]\n"
     ]
    }
   ],
   "source": [
    "arr = np.array([1,2,3,4,5])\n",
    "x = [True, False, True, False, True]\n",
    "new_arr = arr[x]\n",
    "print(new_arr)"
   ]
  },
  {
   "cell_type": "code",
   "execution_count": 8,
   "metadata": {},
   "outputs": [
    {
     "name": "stdout",
     "output_type": "stream",
     "text": [
      "[4 5]\n"
     ]
    }
   ],
   "source": [
    "#Example\n",
    "filter_arr = []\n",
    "for x in arr:\n",
    "    if x > 3:\n",
    "        filter_arr.append(True)\n",
    "    else:\n",
    "        filter_arr.append(False)\n",
    "\n",
    "new_arr = arr[filter_arr]\n",
    "print(new_arr)"
   ]
  },
  {
   "cell_type": "code",
   "execution_count": 9,
   "metadata": {},
   "outputs": [
    {
     "name": "stdout",
     "output_type": "stream",
     "text": [
      "[1 2 3]\n"
     ]
    }
   ],
   "source": [
    "#Or\n",
    "\n",
    "filter_arr = []\n",
    "filter_arr = arr < 4\n",
    "new_arr = arr[filter_arr]\n",
    "print(new_arr)"
   ]
  },
  {
   "cell_type": "code",
   "execution_count": 10,
   "metadata": {},
   "outputs": [
    {
     "name": "stdout",
     "output_type": "stream",
     "text": [
      "[2 4]\n"
     ]
    }
   ],
   "source": [
    "filter_arr = []\n",
    "filter_arr = arr%2==0\n",
    "new_arr = arr[filter_arr]\n",
    "print(new_arr)"
   ]
  },
  {
   "cell_type": "markdown",
   "metadata": {},
   "source": [
    "# Random Numbers in Numpy"
   ]
  },
  {
   "cell_type": "code",
   "execution_count": 2,
   "metadata": {},
   "outputs": [],
   "source": [
    "from numpy import random"
   ]
  },
  {
   "cell_type": "markdown",
   "metadata": {},
   "source": [
    "### Random"
   ]
  },
  {
   "cell_type": "code",
   "execution_count": 3,
   "metadata": {},
   "outputs": [
    {
     "data": {
      "text/plain": [
       "36"
      ]
     },
     "execution_count": 3,
     "metadata": {},
     "output_type": "execute_result"
    }
   ],
   "source": [
    "x = random.randint(100)\n",
    "x"
   ]
  },
  {
   "cell_type": "code",
   "execution_count": 7,
   "metadata": {},
   "outputs": [
    {
     "data": {
      "text/plain": [
       "0.7707035967156283"
      ]
     },
     "execution_count": 7,
     "metadata": {},
     "output_type": "execute_result"
    }
   ],
   "source": [
    "random.rand()"
   ]
  },
  {
   "cell_type": "code",
   "execution_count": 11,
   "metadata": {},
   "outputs": [
    {
     "data": {
      "text/plain": [
       "array([0.65388266, 0.88692447, 0.3846985 , 0.7614108 , 0.85079392])"
      ]
     },
     "execution_count": 11,
     "metadata": {},
     "output_type": "execute_result"
    }
   ],
   "source": [
    "random.rand(5)"
   ]
  },
  {
   "cell_type": "code",
   "execution_count": 5,
   "metadata": {},
   "outputs": [
    {
     "data": {
      "text/plain": [
       "array([22, 51, 43, 98,  0])"
      ]
     },
     "execution_count": 5,
     "metadata": {},
     "output_type": "execute_result"
    }
   ],
   "source": [
    "x = random.randint(100, size=(5))\n",
    "x"
   ]
  },
  {
   "cell_type": "code",
   "execution_count": 13,
   "metadata": {},
   "outputs": [
    {
     "data": {
      "text/plain": [
       "array([[[72,  0],\n",
       "        [64, 89],\n",
       "        [36, 21],\n",
       "        [53, 76],\n",
       "        [63, 80]],\n",
       "\n",
       "       [[ 5, 79],\n",
       "        [29, 72],\n",
       "        [34, 57],\n",
       "        [50, 54],\n",
       "        [ 4, 31]],\n",
       "\n",
       "       [[22, 60],\n",
       "        [94, 94],\n",
       "        [39, 28],\n",
       "        [80, 62],\n",
       "        [38, 46]]])"
      ]
     },
     "execution_count": 13,
     "metadata": {},
     "output_type": "execute_result"
    }
   ],
   "source": [
    "x = random.randint(100, size=(3,5,2))\n",
    "x"
   ]
  },
  {
   "cell_type": "code",
   "execution_count": 12,
   "metadata": {},
   "outputs": [
    {
     "data": {
      "text/plain": [
       "array([[0.69026531, 0.20891065, 0.12955126, 0.7761022 , 0.2766637 ],\n",
       "       [0.81419827, 0.24465009, 0.52594445, 0.33351676, 0.55772099],\n",
       "       [0.84984953, 0.81241839, 0.76045532, 0.57128704, 0.6807707 ]])"
      ]
     },
     "execution_count": 12,
     "metadata": {},
     "output_type": "execute_result"
    }
   ],
   "source": [
    "x = random.rand(3, 5)\n",
    "x"
   ]
  },
  {
   "cell_type": "markdown",
   "metadata": {},
   "source": [
    "### Choice"
   ]
  },
  {
   "cell_type": "code",
   "execution_count": 15,
   "metadata": {},
   "outputs": [
    {
     "data": {
      "text/plain": [
       "3"
      ]
     },
     "execution_count": 15,
     "metadata": {},
     "output_type": "execute_result"
    }
   ],
   "source": [
    "x = random.choice([3,2,6,9,10])\n",
    "x"
   ]
  },
  {
   "cell_type": "code",
   "execution_count": 18,
   "metadata": {},
   "outputs": [
    {
     "data": {
      "text/plain": [
       "array([[[4, 4, 4, 7, 3],\n",
       "        [3, 4, 6, 5, 7],\n",
       "        [4, 4, 7, 7, 5]],\n",
       "\n",
       "       [[4, 7, 7, 4, 6],\n",
       "        [7, 5, 6, 4, 3],\n",
       "        [6, 4, 3, 5, 7]]])"
      ]
     },
     "execution_count": 18,
     "metadata": {},
     "output_type": "execute_result"
    }
   ],
   "source": [
    "x = random.choice([3,4,5,6,7], size = (2,3, 5))\n",
    "x"
   ]
  },
  {
   "cell_type": "markdown",
   "metadata": {},
   "source": [
    "### Random Distribution\n",
    "A random distribution is a set of random numbers that follow a certain probability density function."
   ]
  },
  {
   "cell_type": "code",
   "execution_count": 23,
   "metadata": {},
   "outputs": [
    {
     "name": "stdout",
     "output_type": "stream",
     "text": [
      "[7 7 5 7 7 7 3 7 7 7 3 5 5 3 3 7 3 7 7 7 7 7 5 7 7 5 5 7 7 7 7 3 5 7 7 7 7\n",
      " 7 3 7 7 3 5 3 7 7 7 7 7 7 3 7 7 7 7 7 5 7 5 7 7 5 7 7 7 5 5 7 3 7 3 5 7 7\n",
      " 5 7 5 3 7 7 7 7 5 7 7 5 7 7 3 5 7 3 7 5 7 7 7 7 7 7]\n"
     ]
    }
   ],
   "source": [
    "x = random.choice([3, 5, 7, 9], p=[0.1, 0.3, 0.6, 0.0], size=(100))\n",
    "print(x)"
   ]
  },
  {
   "cell_type": "code",
   "execution_count": 24,
   "metadata": {},
   "outputs": [
    {
     "data": {
      "text/plain": [
       "array([6, 1, 3, 2, 2, 6, 2, 5, 6, 2, 5, 5, 1, 2, 6, 5, 2, 6, 1, 5, 1, 1,\n",
       "       2, 1, 1, 6, 5, 1, 1, 2, 6, 6, 1, 6, 5, 3, 2, 2, 6, 2, 1, 2, 1, 2,\n",
       "       5, 6, 5, 5, 2, 2, 3, 3, 6, 2, 1, 5, 1, 2, 2, 1, 5, 1, 2, 3, 5, 5,\n",
       "       1, 6, 5, 2, 2, 6, 2, 2, 1, 6, 5, 6, 2, 2, 1, 6, 6, 1, 5, 6, 1, 3,\n",
       "       5, 3, 2, 5, 1, 1, 3, 5, 6, 5, 2, 5])"
      ]
     },
     "execution_count": 24,
     "metadata": {},
     "output_type": "execute_result"
    }
   ],
   "source": [
    "x = random.choice([3,5,1,6,2], p=[0.1,0.2,0.3,0.2,0.2], size=(100))\n",
    "x"
   ]
  },
  {
   "cell_type": "code",
   "execution_count": 30,
   "metadata": {},
   "outputs": [
    {
     "name": "stdout",
     "output_type": "stream",
     "text": [
      "[3 2 5 1 7]\n"
     ]
    }
   ],
   "source": [
    "#shuffle element\n",
    "arr  = np.array([3,5,7,2,1])\n",
    "random.shuffle(arr)\n",
    "print(arr)"
   ]
  },
  {
   "cell_type": "code",
   "execution_count": 31,
   "metadata": {},
   "outputs": [
    {
     "data": {
      "text/plain": [
       "array([3, 7, 2, 1, 5])"
      ]
     },
     "execution_count": 31,
     "metadata": {},
     "output_type": "execute_result"
    }
   ],
   "source": [
    "#permutation\n",
    "arr  = np.array([3,5,7,2,1])\n",
    "random.permutation(arr)"
   ]
  },
  {
   "cell_type": "markdown",
   "metadata": {},
   "source": [
    "# Seaborn"
   ]
  },
  {
   "cell_type": "code",
   "execution_count": 3,
   "metadata": {},
   "outputs": [],
   "source": [
    "import matplotlib.pyplot as plt\n",
    "import seaborn as sns"
   ]
  },
  {
   "cell_type": "markdown",
   "metadata": {},
   "source": [
    "## Distribution Plot"
   ]
  },
  {
   "cell_type": "code",
   "execution_count": 35,
   "metadata": {},
   "outputs": [
    {
     "data": {
      "image/png": "[encoded data removed]",
      "text/plain": [
       "<Figure size 432x288 with 1 Axes>"
      ]
     },
     "metadata": {
      "needs_background": "light"
     },
     "output_type": "display_data"
    }
   ],
   "source": [
    "#distribution plot\n",
    "sns.distplot([0,1,2,3,4,5])\n",
    "plt.show()"
   ]
  },
  {
   "cell_type": "code",
   "execution_count": 36,
   "metadata": {},
   "outputs": [
    {
     "data": {
      "image/png": "[encoded data removed]",
      "text/plain": [
       "<Figure size 432x288 with 1 Axes>"
      ]
     },
     "metadata": {
      "needs_background": "light"
     },
     "output_type": "display_data"
    }
   ],
   "source": [
    "sns.distplot([0,1,2,3,4,5], hist=False)\n",
    "plt.show()"
   ]
  },
  {
   "cell_type": "code",
   "execution_count": 44,
   "metadata": {},
   "outputs": [
    {
     "data": {
      "image/png": "[encoded data removed]",
      "text/plain": [
       "<Figure size 432x288 with 1 Axes>"
      ]
     },
     "metadata": {
      "needs_background": "light"
     },
     "output_type": "display_data"
    }
   ],
   "source": [
    "sns.distplot([2,2,3,1,0,9,10,11,9])\n",
    "plt.show()"
   ]
  },
  {
   "cell_type": "markdown",
   "metadata": {},
   "source": [
    "## Normal Distribution"
   ]
  },
  {
   "cell_type": "markdown",
   "metadata": {},
   "source": [
    "**loc = mean**<br>\n",
    "**scale = standard deviation**<br>\n",
    "**size = shape of returned array**<br>"
   ]
  },
  {
   "cell_type": "code",
   "execution_count": 6,
   "metadata": {},
   "outputs": [
    {
     "data": {
      "text/plain": [
       "array([[ 0.48954343,  0.78426353, -0.85899208],\n",
       "       [ 0.8454716 ,  1.07128472, -0.06711549]])"
      ]
     },
     "execution_count": 6,
     "metadata": {},
     "output_type": "execute_result"
    }
   ],
   "source": [
    "x = random.normal(size=(2,3))\n",
    "x"
   ]
  },
  {
   "cell_type": "code",
   "execution_count": 7,
   "metadata": {},
   "outputs": [
    {
     "data": {
      "text/plain": [
       "array([[ 3.60383482,  7.05017242,  1.8934562 ],\n",
       "       [-1.13949679,  0.69203755,  0.27304808]])"
      ]
     },
     "execution_count": 7,
     "metadata": {},
     "output_type": "execute_result"
    }
   ],
   "source": [
    "x = random.normal(loc=1,scale=2,size=(2,3))\n",
    "x"
   ]
  },
  {
   "cell_type": "code",
   "execution_count": 13,
   "metadata": {},
   "outputs": [
    {
     "data": {
      "image/png": "[encoded data removed]",
      "text/plain": [
       "<Figure size 432x288 with 1 Axes>"
      ]
     },
     "metadata": {
      "needs_background": "light"
     },
     "output_type": "display_data"
    }
   ],
   "source": [
    "sns.distplot(random.normal(loc=1,scale=2,size=(2,3)),hist=False)\n",
    "plt.show()"
   ]
  },
  {
   "cell_type": "markdown",
   "metadata": {},
   "source": [
    "## Binomial Distribution"
   ]
  },
  {
   "cell_type": "markdown",
   "metadata": {},
   "source": [
    "**It describes the outcome of binary scenarios, e.g. toss of a coin, it will either be head or tails.**<br>\n",
    "\n",
    "**It has three parameters:**<br>\n",
    "\n",
    "**n - number of trials.**<br>\n",
    "\n",
    "**p - probability of occurence of each trial (e.g. for toss of a coin 0.5 each)**.<br>\n",
    "\n",
    "**size - The shape of the returned array**.<br>"
   ]
  },
  {
   "cell_type": "code",
   "execution_count": 5,
   "metadata": {},
   "outputs": [
    {
     "data": {
      "text/plain": [
       "array([8, 7, 6, 4, 5, 4, 5, 6, 6, 8])"
      ]
     },
     "execution_count": 5,
     "metadata": {},
     "output_type": "execute_result"
    }
   ],
   "source": [
    "x = random.binomial(n=10, p=0.5, size=(10))\n",
    "x"
   ]
  },
  {
   "cell_type": "code",
   "execution_count": 12,
   "metadata": {},
   "outputs": [
    {
     "data": {
      "image/png": "[encoded data removed]",
      "text/plain": [
       "<Figure size 432x288 with 1 Axes>"
      ]
     },
     "metadata": {
      "needs_background": "light"
     },
     "output_type": "display_data"
    }
   ],
   "source": [
    "#visualize\n",
    "\n",
    "sns.distplot(random.binomial(n=10, p=0.5, size=1000), kde=False)\n",
    "plt.show()"
   ]
  },
  {
   "cell_type": "code",
   "execution_count": 13,
   "metadata": {},
   "outputs": [
    {
     "data": {
      "image/png": "[encoded data removed]",
      "text/plain": [
       "<Figure size 432x288 with 1 Axes>"
      ]
     },
     "metadata": {
      "needs_background": "light"
     },
     "output_type": "display_data"
    }
   ],
   "source": [
    "sns.distplot(random.normal(loc=50, scale=5, size=1000),hist=False, label='Normal')   #scale = standard deviation, loc = mean\n",
    "sns.distplot(random.binomial(n=100, p=0.5, size=1000), hist=False, label='Binomial')  \n",
    "\n",
    "plt.show()"
   ]
  },
  {
   "cell_type": "markdown",
   "metadata": {},
   "source": [
    "## Poisson Distribution\n",
    "**lam = rate or known number of occurences e.g. 2 for above problem.**<br>\n",
    "**size = The shape of the returned array**.<br>"
   ]
  },
  {
   "cell_type": "code",
   "execution_count": 15,
   "metadata": {},
   "outputs": [
    {
     "data": {
      "text/plain": [
       "array([1, 3, 3, 2, 2, 2, 1, 1, 1, 5])"
      ]
     },
     "execution_count": 15,
     "metadata": {},
     "output_type": "execute_result"
    }
   ],
   "source": [
    "x = random.poisson(lam =2, size=10)\n",
    "x"
   ]
  },
  {
   "cell_type": "code",
   "execution_count": 29,
   "metadata": {},
   "outputs": [
    {
     "data": {
      "image/png": "[encoded data removed]",
      "text/plain": [
       "<Figure size 432x288 with 1 Axes>"
      ]
     },
     "metadata": {
      "needs_background": "light"
     },
     "output_type": "display_data"
    }
   ],
   "source": [
    "sns.distplot(random.poisson(lam = 2, size = 1000), kde=False)\n",
    "plt.show()"
   ]
  },
  {
   "cell_type": "code",
   "execution_count": 24,
   "metadata": {},
   "outputs": [
    {
     "data": {
      "image/png": "[encoded data removed]",
      "text/plain": [
       "<Figure size 432x288 with 1 Axes>"
      ]
     },
     "metadata": {
      "needs_background": "light"
     },
     "output_type": "display_data"
    }
   ],
   "source": [
    "sns.distplot(random.normal(loc=50, size=1000, scale=5), hist=False, label='normal')\n",
    "sns.distplot(random.poisson(lam=50, size=1000), hist=False, label='poisson')\n",
    "\n",
    "plt.show()"
   ]
  },
  {
   "cell_type": "code",
   "execution_count": 34,
   "metadata": {},
   "outputs": [
    {
     "data": {
      "image/png": "[encoded data removed]",
      "text/plain": [
       "<Figure size 432x288 with 1 Axes>"
      ]
     },
     "metadata": {
      "needs_background": "light"
     },
     "output_type": "display_data"
    }
   ],
   "source": [
    "sns.distplot(random.binomial(n=1000, size=1000, p=0.01), hist=False, label='binomial')\n",
    "sns.distplot(random.poisson(lam=10, size=1000), hist=False, label='poisson')\n",
    "\n",
    "#when n*p ~ lam, it collides\n",
    "plt.show()"
   ]
  },
  {
   "cell_type": "markdown",
   "metadata": {},
   "source": [
    "## Uniform Distribution\n",
    "\n",
    "**Used to describe probability where every event has equal chances of occuring**.<br>\n",
    "\n",
    "E.g. Generation of random number.<br>\n",
    "\n",
    "**It has three parameters**:<br>\n",
    "\n",
    "**a - lower bound - default 0 .0.**<br>\n",
    "\n",
    "**b - upper bound - default 1.0.**<br>\n",
    "\n",
    "**size - The shape of the returned array**.<br>"
   ]
  },
  {
   "cell_type": "code",
   "execution_count": 35,
   "metadata": {},
   "outputs": [
    {
     "data": {
      "text/plain": [
       "array([[0.32692105, 0.17164437, 0.61882478],\n",
       "       [0.37520556, 0.62075981, 0.76372286]])"
      ]
     },
     "execution_count": 35,
     "metadata": {},
     "output_type": "execute_result"
    }
   ],
   "source": [
    "x = random.uniform(size=(2,3))\n",
    "x"
   ]
  },
  {
   "cell_type": "code",
   "execution_count": 37,
   "metadata": {},
   "outputs": [
    {
     "data": {
      "image/png": "[encoded data removed]",
      "text/plain": [
       "<Figure size 432x288 with 1 Axes>"
      ]
     },
     "metadata": {
      "needs_background": "light"
     },
     "output_type": "display_data"
    }
   ],
   "source": [
    "sns.distplot(random.uniform(size=1000), hist=False)\n",
    "plt.show()"
   ]
  },
  {
   "cell_type": "markdown",
   "metadata": {},
   "source": [
    "## Logistic Distribution\n",
    "**Logistic Distribution is used to describe growth.**<br>\n",
    "\n",
    "**Used extensively in machine learning in logistic regression, neural networks etc.**<br>\n",
    "\n",
    "**It has three parameters:**<br>\n",
    "\n",
    "**loc - mean, where the peak is. Default 0.**<br>\n",
    "\n",
    "**scale - standard deviation, the flatness of distribution. Default 1.**<br>\n",
    "\n",
    "**size - The shape of the returned array.**<br>"
   ]
  },
  {
   "cell_type": "code",
   "execution_count": 43,
   "metadata": {},
   "outputs": [
    {
     "name": "stdout",
     "output_type": "stream",
     "text": [
      "[[ 2.05409806  2.90584716 -4.53424503]\n",
      " [ 0.19833484  1.35293414 -0.31461784]]\n"
     ]
    }
   ],
   "source": [
    "x = random.logistic(loc=1, scale=2, size=(2, 3))\n",
    "\n",
    "print(x)"
   ]
  },
  {
   "cell_type": "code",
   "execution_count": 42,
   "metadata": {},
   "outputs": [
    {
     "data": {
      "image/png": "[encoded data removed]",
      "text/plain": [
       "<Figure size 432x288 with 1 Axes>"
      ]
     },
     "metadata": {
      "needs_background": "light"
     },
     "output_type": "display_data"
    }
   ],
   "source": [
    "sns.distplot(random.logistic(loc=500, scale=50, size=1000),hist=False)\n",
    "plt.show()"
   ]
  },
  {
   "cell_type": "code",
   "execution_count": 45,
   "metadata": {},
   "outputs": [
    {
     "data": {
      "image/png": "[encoded data removed]",
      "text/plain": [
       "<Figure size 432x288 with 1 Axes>"
      ]
     },
     "metadata": {
      "needs_background": "light"
     },
     "output_type": "display_data"
    }
   ],
   "source": [
    "sns.distplot(random.normal(scale=2, size=1000), hist=False, label='normal')\n",
    "sns.distplot(random.logistic(scale=2,size=1000), hist=False, label='logistic')\n",
    "\n",
    "plt.show()"
   ]
  },
  {
   "cell_type": "markdown",
   "metadata": {},
   "source": [
    "## Multinomial Distribution"
   ]
  },
  {
   "cell_type": "markdown",
   "metadata": {},
   "source": [
    "**Multinomial distribution is a generalization of binomial distribution.**<br>\n",
    "**It describes outcomes of multi-nomial scenarios unlike binomial where scenarios must be only one of two. e.g. Blood type of a** # **population, dice roll outcome**.<br>\n",
    "**It has three parameters:**<br>\n",
    "**n - number of possible outcomes (e.g. 6 for dice roll)**.<br>\n",
    "**pvals - list of probabilties of outcomes (e.g. [1/6, 1/6, 1/6, 1/6, 1/6, 1/6] for dice roll).**<br>\n",
    "**size - The shape of the returned array.**<br>"
   ]
  },
  {
   "cell_type": "code",
   "execution_count": 48,
   "metadata": {},
   "outputs": [
    {
     "data": {
      "text/plain": [
       "array([[1, 1, 0, 1, 2, 1],\n",
       "       [3, 0, 0, 2, 0, 1],\n",
       "       [1, 2, 0, 2, 1, 0],\n",
       "       [0, 1, 0, 2, 0, 3],\n",
       "       [1, 2, 0, 0, 1, 2]])"
      ]
     },
     "execution_count": 48,
     "metadata": {},
     "output_type": "execute_result"
    }
   ],
   "source": [
    "x = random.multinomial(n=6, pvals=[1/6, 1/6, 1/6, 1/6, 1/6, 1/6], size=5)\n",
    "x"
   ]
  },
  {
   "cell_type": "code",
   "execution_count": 52,
   "metadata": {},
   "outputs": [
    {
     "data": {
      "image/png": "[encoded data removed]",
      "text/plain": [
       "<Figure size 432x288 with 1 Axes>"
      ]
     },
     "metadata": {
      "needs_background": "light"
     },
     "output_type": "display_data"
    }
   ],
   "source": [
    "sns.distplot(random.multinomial(n=6, pvals=[1/6,1/6,1/6,1/6,1/6,1/6],size=1000),kde=False)\n",
    "plt.show()"
   ]
  },
  {
   "cell_type": "markdown",
   "metadata": {},
   "source": [
    "## Exponential Distribution\n",
    "**Exponential distribution is used for describing time till next event e.g. failure/success etc.**<br>\n",
    "\n",
    "**It has two parameters:**<br>\n",
    "\n",
    "**scale - inverse of rate ( see lam in poisson distribution ) defaults to 1.0**.<br>\n",
    "\n",
    "**size - The shape of the returned array**.<br>"
   ]
  },
  {
   "cell_type": "code",
   "execution_count": 53,
   "metadata": {},
   "outputs": [
    {
     "data": {
      "text/plain": [
       "array([[0.19031599, 2.29333457, 9.30103727],\n",
       "       [0.59756501, 1.20630147, 0.06547629]])"
      ]
     },
     "execution_count": 53,
     "metadata": {},
     "output_type": "execute_result"
    }
   ],
   "source": [
    "x = random.exponential(scale=2,size=(2,3))\n",
    "x"
   ]
  },
  {
   "cell_type": "code",
   "execution_count": 54,
   "metadata": {},
   "outputs": [
    {
     "data": {
      "image/png": "[encoded data removed]",
      "text/plain": [
       "<Figure size 432x288 with 1 Axes>"
      ]
     },
     "metadata": {
      "needs_background": "light"
     },
     "output_type": "display_data"
    }
   ],
   "source": [
    "sns.distplot(random.exponential(size=1000), hist=False)\n",
    "plt.show()"
   ]
  },
  {
   "cell_type": "markdown",
   "metadata": {},
   "source": [
    "## Chi Square Distribution\n",
    "\n",
    "**Chi Square distribution is used as a basis to verify the hypothesis.**<br>\n",
    "\n",
    "**It has two parameters:**<br>\n",
    "\n",
    "**df - (degree of freedom).**<br>\n",
    "\n",
    "**size - The shape of the returned array.**<br>"
   ]
  },
  {
   "cell_type": "code",
   "execution_count": 55,
   "metadata": {},
   "outputs": [
    {
     "data": {
      "text/plain": [
       "array([[2.85382018, 0.21743321, 0.58158962],\n",
       "       [5.13681784, 0.02197275, 2.72733439]])"
      ]
     },
     "execution_count": 55,
     "metadata": {},
     "output_type": "execute_result"
    }
   ],
   "source": [
    "x = random.chisquare(df=2, size=(2,3))\n",
    "x"
   ]
  },
  {
   "cell_type": "code",
   "execution_count": 56,
   "metadata": {},
   "outputs": [
    {
     "data": {
      "image/png": "[encoded data removed]",
      "text/plain": [
       "<Figure size 432x288 with 1 Axes>"
      ]
     },
     "metadata": {
      "needs_background": "light"
     },
     "output_type": "display_data"
    }
   ],
   "source": [
    "sns.distplot(random.chisquare(df=1, size=1000),hist=False)\n",
    "plt.show()"
   ]
  },
  {
   "cell_type": "code",
   "execution_count": 59,
   "metadata": {},
   "outputs": [
    {
     "data": {
      "image/png": "[encoded data removed]",
      "text/plain": [
       "<Figure size 432x288 with 1 Axes>"
      ]
     },
     "metadata": {
      "needs_background": "light"
     },
     "output_type": "display_data"
    }
   ],
   "source": [
    "sns.distplot(random.chisquare(df=10, size=1000),hist=False)\n",
    "plt.show()"
   ]
  },
  {
   "cell_type": "markdown",
   "metadata": {},
   "source": [
    "## Rayleigh Distribution\n",
    "**Rayleigh distribution is used in signal processing.**<br>\n",
    "\n",
    "**It has two parameters:**<br>\n",
    "\n",
    "**scale - (standard deviation) decides how flat the distribution will be default 1.0).**<br>\n",
    "\n",
    "**size - The shape of the returned array.**<br>"
   ]
  },
  {
   "cell_type": "code",
   "execution_count": 60,
   "metadata": {},
   "outputs": [
    {
     "data": {
      "text/plain": [
       "array([[1.15583395, 1.71453754, 0.91155625],\n",
       "       [2.87118334, 3.20370469, 2.69201382]])"
      ]
     },
     "execution_count": 60,
     "metadata": {},
     "output_type": "execute_result"
    }
   ],
   "source": [
    "x = random.rayleigh(scale = 2 ,size=(2,3))\n",
    "x"
   ]
  },
  {
   "cell_type": "code",
   "execution_count": 64,
   "metadata": {},
   "outputs": [
    {
     "data": {
      "image/png": "[encoded data removed]",
      "text/plain": [
       "<Figure size 432x288 with 1 Axes>"
      ]
     },
     "metadata": {
      "needs_background": "light"
     },
     "output_type": "display_data"
    }
   ],
   "source": [
    "sns.distplot(random.rayleigh(size=1000), hist=False)  #scale=1\n",
    "plt.show()"
   ]
  },
  {
   "cell_type": "markdown",
   "metadata": {},
   "source": [
    "## Pareto Distribution\n",
    "**A distribution following Pareto's law i.e. 80-20 distribution (20% factors cause 80% outcome).**<br>\n",
    "\n",
    "**It has two parameter:**<br>\n",
    "\n",
    "**a - shape parameter.**<br>\n",
    "\n",
    "**size - The shape of the returned array.**<br>"
   ]
  },
  {
   "cell_type": "code",
   "execution_count": 65,
   "metadata": {},
   "outputs": [
    {
     "data": {
      "text/plain": [
       "array([[0.75564427, 7.90137495, 0.5821265 ],\n",
       "       [5.0012257 , 0.63529329, 0.39348108]])"
      ]
     },
     "execution_count": 65,
     "metadata": {},
     "output_type": "execute_result"
    }
   ],
   "source": [
    "x = random.pareto(a=2, size=(2,3))\n",
    "x"
   ]
  },
  {
   "cell_type": "code",
   "execution_count": 72,
   "metadata": {},
   "outputs": [
    {
     "data": {
      "image/png": "[encoded data removed]",
      "text/plain": [
       "<Figure size 432x288 with 1 Axes>"
      ]
     },
     "metadata": {
      "needs_background": "light"
     },
     "output_type": "display_data"
    }
   ],
   "source": [
    "sns.distplot(random.pareto(a=2, size=1000),kde=False)\n",
    "plt.show()"
   ]
  },
  {
   "cell_type": "markdown",
   "metadata": {},
   "source": [
    "## Zipf Distribution\n",
    "**Zipf distritutions are used to sample data based on zipf's law**.<br>\n",
    "\n",
    "**Zipf's Law: In a collection the nth common term is 1/n times of the most common term. E.g. 5th common word in english has**<br> **occurs nearly 1/5th times as of the most used word**.<br>\n",
    "\n",
    "**It has two parameters**:<br>\n",
    "\n",
    "**a - distribution parameter**.<br>\n",
    "\n",
    "**size - The shape of the returned array**.<br>"
   ]
  },
  {
   "cell_type": "code",
   "execution_count": 73,
   "metadata": {},
   "outputs": [
    {
     "data": {
      "text/plain": [
       "array([[3, 1, 1],\n",
       "       [1, 1, 1]])"
      ]
     },
     "execution_count": 73,
     "metadata": {},
     "output_type": "execute_result"
    }
   ],
   "source": [
    "x = random.zipf(a=2, size=(2,3))\n",
    "x"
   ]
  },
  {
   "cell_type": "code",
   "execution_count": 74,
   "metadata": {},
   "outputs": [
    {
     "data": {
      "image/png": "[encoded data removed]",
      "text/plain": [
       "<Figure size 432x288 with 1 Axes>"
      ]
     },
     "metadata": {
      "needs_background": "light"
     },
     "output_type": "display_data"
    }
   ],
   "source": [
    "x = random.zipf(a=2, size=1000)\n",
    "sns.distplot(x[x<10], kde=False)\n",
    "\n",
    "plt.show()"
   ]
  },
  {
   "cell_type": "markdown",
   "metadata": {},
   "source": [
    "# UFUNCs"
   ]
  },
  {
   "cell_type": "code",
   "execution_count": 3,
   "metadata": {},
   "outputs": [
    {
     "name": "stdout",
     "output_type": "stream",
     "text": [
      "[5, 7, 9, 11]\n"
     ]
    }
   ],
   "source": [
    "#adding elements of both arrays = without using ufuncs\n",
    "x = [1,2,3,4]\n",
    "y = [4,5,6,7]\n",
    "z = []\n",
    "\n",
    "for i, j in zip(x, y):\n",
    "    z.append(i + j)\n",
    "print(z)"
   ]
  },
  {
   "cell_type": "code",
   "execution_count": 5,
   "metadata": {},
   "outputs": [
    {
     "name": "stdout",
     "output_type": "stream",
     "text": [
      "[1, 2, 3, 4]  +  [4, 5, 6, 7]\n",
      "[ 5  7  9 11]\n"
     ]
    }
   ],
   "source": [
    "#using ufuncs\n",
    "print(x,\" + \",y)\n",
    "z = np.add(x, y)\n",
    "print(z)"
   ]
  },
  {
   "cell_type": "code",
   "execution_count": 6,
   "metadata": {},
   "outputs": [
    {
     "name": "stdout",
     "output_type": "stream",
     "text": [
      "[5 7 9 11]\n"
     ]
    }
   ],
   "source": [
    "#creating own ufunc\n",
    "def addarr(x, y):\n",
    "    return x+y\n",
    "\n",
    "addarr = np.frompyfunc(addarr, 2, 1)\n",
    "\n",
    "print(addarr([1,2,3,4],[4,5,6,7]))"
   ]
  },
  {
   "cell_type": "code",
   "execution_count": 7,
   "metadata": {},
   "outputs": [
    {
     "name": "stdout",
     "output_type": "stream",
     "text": [
      "<class 'numpy.ufunc'>\n"
     ]
    }
   ],
   "source": [
    "print(type(addarr))"
   ]
  },
  {
   "cell_type": "code",
   "execution_count": 10,
   "metadata": {},
   "outputs": [
    {
     "name": "stdout",
     "output_type": "stream",
     "text": [
      "<class 'function'>\n"
     ]
    }
   ],
   "source": [
    "print(type(np.concatenate))"
   ]
  },
  {
   "cell_type": "code",
   "execution_count": 12,
   "metadata": {},
   "outputs": [
    {
     "name": "stdout",
     "output_type": "stream",
     "text": [
      "Yes\n"
     ]
    }
   ],
   "source": [
    "if type(addarr)==np.ufunc:\n",
    "    print(\"Yes\")\n",
    "else:\n",
    "    print(\"No\")"
   ]
  },
  {
   "cell_type": "code",
   "execution_count": 13,
   "metadata": {},
   "outputs": [
    {
     "name": "stdout",
     "output_type": "stream",
     "text": [
      "[1, 2, 3, 4] [4, 5, 6, 7]\n"
     ]
    }
   ],
   "source": [
    "print(x,y)"
   ]
  },
  {
   "cell_type": "code",
   "execution_count": 14,
   "metadata": {},
   "outputs": [
    {
     "name": "stdout",
     "output_type": "stream",
     "text": [
      "[ 4 10 18 28]\n"
     ]
    }
   ],
   "source": [
    "new_arr = np.multiply(x,y)\n",
    "print(new_arr)"
   ]
  },
  {
   "cell_type": "code",
   "execution_count": 15,
   "metadata": {},
   "outputs": [
    {
     "name": "stdout",
     "output_type": "stream",
     "text": [
      "[-3 -3 -3 -3]\n"
     ]
    }
   ],
   "source": [
    "new_arr = np.subtract(x, y)\n",
    "print(new_arr)"
   ]
  },
  {
   "cell_type": "code",
   "execution_count": 16,
   "metadata": {},
   "outputs": [
    {
     "name": "stdout",
     "output_type": "stream",
     "text": [
      "[0.25       0.4        0.5        0.57142857]\n"
     ]
    }
   ],
   "source": [
    "new_arr = np.divide(x, y)\n",
    "print(new_arr)"
   ]
  },
  {
   "cell_type": "code",
   "execution_count": 4,
   "metadata": {},
   "outputs": [
    {
     "data": {
      "text/plain": [
       "array([    1,    32,   729, 16384], dtype=int32)"
      ]
     },
     "execution_count": 4,
     "metadata": {},
     "output_type": "execute_result"
    }
   ],
   "source": [
    "np.power(x, y)"
   ]
  },
  {
   "cell_type": "code",
   "execution_count": 7,
   "metadata": {},
   "outputs": [
    {
     "name": "stdout",
     "output_type": "stream",
     "text": [
      "[0 0 1 0]\n",
      "[0 0 1 0]\n"
     ]
    }
   ],
   "source": [
    "x = [10,12,13,15]\n",
    "y = [2,3,2,5]\n",
    "print(np.mod(x,y))\n",
    "print(np.remainder(x, y))"
   ]
  },
  {
   "cell_type": "code",
   "execution_count": 10,
   "metadata": {},
   "outputs": [
    {
     "name": "stdout",
     "output_type": "stream",
     "text": [
      "(array([5, 4, 6, 3], dtype=int32), array([0, 0, 1, 0], dtype=int32))\n",
      "First shows quotient and second one shows remainder\n"
     ]
    }
   ],
   "source": [
    "print(np.divmod(x, y))\n",
    "print(\"First shows quotient and second one shows remainder\")"
   ]
  },
  {
   "cell_type": "code",
   "execution_count": 11,
   "metadata": {},
   "outputs": [
    {
     "name": "stdout",
     "output_type": "stream",
     "text": [
      "[10 20 12 32]\n"
     ]
    }
   ],
   "source": [
    "x = [-10,20,-12,32]\n",
    "print(np.absolute(x))"
   ]
  },
  {
   "cell_type": "markdown",
   "metadata": {},
   "source": [
    "## Rounding decimels"
   ]
  },
  {
   "cell_type": "code",
   "execution_count": 15,
   "metadata": {},
   "outputs": [
    {
     "data": {
      "text/plain": [
       "array([-3.,  3.])"
      ]
     },
     "execution_count": 15,
     "metadata": {},
     "output_type": "execute_result"
    }
   ],
   "source": [
    "#closest to zero\n",
    "np.trunc([-3.167,3.667])"
   ]
  },
  {
   "cell_type": "code",
   "execution_count": 16,
   "metadata": {},
   "outputs": [
    {
     "data": {
      "text/plain": [
       "array([-3.,  3.])"
      ]
     },
     "execution_count": 16,
     "metadata": {},
     "output_type": "execute_result"
    }
   ],
   "source": [
    "np.fix([-3.167,3.667])"
   ]
  },
  {
   "cell_type": "code",
   "execution_count": 25,
   "metadata": {},
   "outputs": [
    {
     "name": "stdout",
     "output_type": "stream",
     "text": [
      "3.668\n",
      "3.67\n",
      "3.7\n",
      "4.0\n"
     ]
    }
   ],
   "source": [
    "#rounding off\n",
    "print(np.around(3.6678, 3))\n",
    "print(np.around(3.6678, 2))\n",
    "print(np.around(3.6678, 1))\n",
    "print(np.around(3.6678))"
   ]
  },
  {
   "cell_type": "code",
   "execution_count": 27,
   "metadata": {},
   "outputs": [
    {
     "data": {
      "text/plain": [
       "array([3.6, 4.6])"
      ]
     },
     "execution_count": 27,
     "metadata": {},
     "output_type": "execute_result"
    }
   ],
   "source": [
    "np.around([3.65, 4.56],1)"
   ]
  },
  {
   "cell_type": "code",
   "execution_count": 28,
   "metadata": {},
   "outputs": [
    {
     "name": "stdout",
     "output_type": "stream",
     "text": [
      "[-4.  3.]\n"
     ]
    }
   ],
   "source": [
    "#floor\n",
    "print(np.floor([-3.1666, 3.6667]))"
   ]
  },
  {
   "cell_type": "code",
   "execution_count": 29,
   "metadata": {},
   "outputs": [
    {
     "name": "stdout",
     "output_type": "stream",
     "text": [
      "[-3.  4.]\n"
     ]
    }
   ],
   "source": [
    "#ceil\n",
    "print(np.ceil([-3.1666, 3.6667]))"
   ]
  },
  {
   "cell_type": "markdown",
   "metadata": {},
   "source": [
    "## Log"
   ]
  },
  {
   "cell_type": "code",
   "execution_count": 35,
   "metadata": {},
   "outputs": [
    {
     "name": "stdout",
     "output_type": "stream",
     "text": [
      "[0.         1.         1.5849625  2.         2.32192809 2.5849625\n",
      " 2.80735492 3.         3.169925  ]\n"
     ]
    }
   ],
   "source": [
    "#log base 2\n",
    "print(np.log2(np.arange(1,10)))"
   ]
  },
  {
   "cell_type": "code",
   "execution_count": 36,
   "metadata": {},
   "outputs": [
    {
     "name": "stdout",
     "output_type": "stream",
     "text": [
      "[0.         0.30103    0.47712125 0.60205999 0.69897    0.77815125\n",
      " 0.84509804 0.90308999 0.95424251]\n"
     ]
    }
   ],
   "source": [
    "#log base 10\n",
    "print(np.log10(np.arange(1,10)))"
   ]
  },
  {
   "cell_type": "code",
   "execution_count": 38,
   "metadata": {},
   "outputs": [
    {
     "name": "stdout",
     "output_type": "stream",
     "text": [
      "[0.         0.69314718 1.09861229 1.38629436 1.60943791 1.79175947\n",
      " 1.94591015 2.07944154 2.19722458]\n"
     ]
    }
   ],
   "source": [
    "#log base e\n",
    "print(np.log(np.arange(1,10)))"
   ]
  },
  {
   "cell_type": "markdown",
   "metadata": {},
   "source": [
    "## Summation"
   ]
  },
  {
   "cell_type": "code",
   "execution_count": 43,
   "metadata": {},
   "outputs": [
    {
     "data": {
      "text/plain": [
       "array([2, 4, 6])"
      ]
     },
     "execution_count": 43,
     "metadata": {},
     "output_type": "execute_result"
    }
   ],
   "source": [
    "x = np.array([1,2,3])\n",
    "y = np.array([1,2,3])\n",
    "np.add(x,y)"
   ]
  },
  {
   "cell_type": "code",
   "execution_count": 44,
   "metadata": {},
   "outputs": [
    {
     "data": {
      "text/plain": [
       "12"
      ]
     },
     "execution_count": 44,
     "metadata": {},
     "output_type": "execute_result"
    }
   ],
   "source": [
    "np.sum([x,y])"
   ]
  },
  {
   "cell_type": "code",
   "execution_count": 46,
   "metadata": {},
   "outputs": [
    {
     "data": {
      "text/plain": [
       "array([6, 6])"
      ]
     },
     "execution_count": 46,
     "metadata": {},
     "output_type": "execute_result"
    }
   ],
   "source": [
    "np.sum([x,y] ,axis=1)"
   ]
  },
  {
   "cell_type": "code",
   "execution_count": 47,
   "metadata": {},
   "outputs": [
    {
     "data": {
      "text/plain": [
       "array([1, 3, 6], dtype=int32)"
      ]
     },
     "execution_count": 47,
     "metadata": {},
     "output_type": "execute_result"
    }
   ],
   "source": [
    "#cummulative summation\n",
    "np.cumsum(x)"
   ]
  },
  {
   "cell_type": "markdown",
   "metadata": {},
   "source": [
    "## Product"
   ]
  },
  {
   "cell_type": "code",
   "execution_count": 48,
   "metadata": {},
   "outputs": [
    {
     "data": {
      "text/plain": [
       "24"
      ]
     },
     "execution_count": 48,
     "metadata": {},
     "output_type": "execute_result"
    }
   ],
   "source": [
    "x = [1,2,3,4]\n",
    "np.prod(x)"
   ]
  },
  {
   "cell_type": "code",
   "execution_count": 50,
   "metadata": {},
   "outputs": [
    {
     "data": {
      "text/plain": [
       "20160"
      ]
     },
     "execution_count": 50,
     "metadata": {},
     "output_type": "execute_result"
    }
   ],
   "source": [
    "x = [1,2,3,4]\n",
    "y = [4,5,6,7]\n",
    "np.prod([x, y])"
   ]
  },
  {
   "cell_type": "code",
   "execution_count": 51,
   "metadata": {},
   "outputs": [
    {
     "data": {
      "text/plain": [
       "array([ 24, 840])"
      ]
     },
     "execution_count": 51,
     "metadata": {},
     "output_type": "execute_result"
    }
   ],
   "source": [
    "x = np.array([1,2,3,4])\n",
    "y = np.array([4,5,6,7])\n",
    "np.prod([x,y], axis=1)"
   ]
  },
  {
   "cell_type": "code",
   "execution_count": 52,
   "metadata": {},
   "outputs": [
    {
     "data": {
      "text/plain": [
       "array([ 1,  2,  6, 24], dtype=int32)"
      ]
     },
     "execution_count": 52,
     "metadata": {},
     "output_type": "execute_result"
    }
   ],
   "source": [
    "np.cumprod(x)"
   ]
  },
  {
   "cell_type": "markdown",
   "metadata": {},
   "source": [
    "## Differences"
   ]
  },
  {
   "cell_type": "code",
   "execution_count": 53,
   "metadata": {},
   "outputs": [
    {
     "data": {
      "text/plain": [
       "array([-3,  1, -2,  2])"
      ]
     },
     "execution_count": 53,
     "metadata": {},
     "output_type": "execute_result"
    }
   ],
   "source": [
    "x = [1,2,3,4]\n",
    "y = [4,1,5,2]\n",
    "np.subtract(x,y)"
   ]
  },
  {
   "cell_type": "code",
   "execution_count": 54,
   "metadata": {},
   "outputs": [
    {
     "data": {
      "text/plain": [
       "array([1, 1, 1])"
      ]
     },
     "execution_count": 54,
     "metadata": {},
     "output_type": "execute_result"
    }
   ],
   "source": [
    "#discreter difference\n",
    "np.diff(x)  #[1-2,2-3,3-4]"
   ]
  },
  {
   "cell_type": "code",
   "execution_count": 55,
   "metadata": {},
   "outputs": [
    {
     "data": {
      "text/plain": [
       "array([0, 0])"
      ]
     },
     "execution_count": 55,
     "metadata": {},
     "output_type": "execute_result"
    }
   ],
   "source": [
    "np.diff(x, n=2)  #[1-1,1-1]"
   ]
  },
  {
   "cell_type": "markdown",
   "metadata": {},
   "source": [
    "## LCM"
   ]
  },
  {
   "cell_type": "code",
   "execution_count": 2,
   "metadata": {},
   "outputs": [
    {
     "data": {
      "text/plain": [
       "12"
      ]
     },
     "execution_count": 2,
     "metadata": {},
     "output_type": "execute_result"
    }
   ],
   "source": [
    "np.lcm(6,12)"
   ]
  },
  {
   "cell_type": "code",
   "execution_count": 5,
   "metadata": {},
   "outputs": [
    {
     "data": {
      "text/plain": [
       "60"
      ]
     },
     "execution_count": 5,
     "metadata": {},
     "output_type": "execute_result"
    }
   ],
   "source": [
    "arr = np.array([2,5,3,4])\n",
    "np.lcm.reduce(arr)"
   ]
  },
  {
   "cell_type": "code",
   "execution_count": 6,
   "metadata": {},
   "outputs": [
    {
     "data": {
      "text/plain": [
       "2520"
      ]
     },
     "execution_count": 6,
     "metadata": {},
     "output_type": "execute_result"
    }
   ],
   "source": [
    "np.lcm.reduce(range(1,10))"
   ]
  },
  {
   "cell_type": "markdown",
   "metadata": {},
   "source": [
    "## Greatest Common Denominator"
   ]
  },
  {
   "cell_type": "code",
   "execution_count": 11,
   "metadata": {},
   "outputs": [
    {
     "name": "stdout",
     "output_type": "stream",
     "text": [
      "2\n",
      "4\n"
     ]
    }
   ],
   "source": [
    "print(np.gcd(4,6))\n",
    "print(np.gcd(4,12))"
   ]
  },
  {
   "cell_type": "code",
   "execution_count": 12,
   "metadata": {},
   "outputs": [
    {
     "name": "stdout",
     "output_type": "stream",
     "text": [
      "1\n"
     ]
    }
   ],
   "source": [
    "arr = np.array([2,4,3,5])\n",
    "print(np.gcd.reduce(arr))"
   ]
  },
  {
   "cell_type": "markdown",
   "metadata": {},
   "source": [
    "## Trignometric Function"
   ]
  },
  {
   "cell_type": "code",
   "execution_count": 14,
   "metadata": {},
   "outputs": [
    {
     "name": "stdout",
     "output_type": "stream",
     "text": [
      "0.8660254037844386\n"
     ]
    }
   ],
   "source": [
    "#Takes input in radian\n",
    "print(np.sin(np.pi/3))"
   ]
  },
  {
   "cell_type": "code",
   "execution_count": 15,
   "metadata": {},
   "outputs": [
    {
     "name": "stdout",
     "output_type": "stream",
     "text": [
      "6.123233995736766e-17\n"
     ]
    }
   ],
   "source": [
    "print(np.cos(np.pi/2))"
   ]
  },
  {
   "cell_type": "code",
   "execution_count": 16,
   "metadata": {},
   "outputs": [
    {
     "name": "stdout",
     "output_type": "stream",
     "text": [
      "-1.2246467991473532e-16\n"
     ]
    }
   ],
   "source": [
    "print(np.tan(np.pi))"
   ]
  },
  {
   "cell_type": "code",
   "execution_count": 20,
   "metadata": {},
   "outputs": [
    {
     "name": "stdout",
     "output_type": "stream",
     "text": [
      "[2 4 3 5]  =  [0.03490659 0.06981317 0.05235988 0.08726646]\n"
     ]
    }
   ],
   "source": [
    "#convert degree to radian\n",
    "print(arr,\" = \", np.deg2rad(arr))"
   ]
  },
  {
   "cell_type": "code",
   "execution_count": 22,
   "metadata": {},
   "outputs": [
    {
     "name": "stdout",
     "output_type": "stream",
     "text": [
      "[1.5707963267948966, 1.0471975511965976, 0.7853981633974483]  =  [90. 60. 45.]\n"
     ]
    }
   ],
   "source": [
    "arr = [np.pi/2 , np.pi/3 , np.pi/4]\n",
    "print(arr,\" = \",np.rad2deg(arr))"
   ]
  },
  {
   "cell_type": "code",
   "execution_count": 25,
   "metadata": {},
   "outputs": [
    {
     "name": "stdout",
     "output_type": "stream",
     "text": [
      "1.5707963267948966\n",
      "0.0\n",
      "0.7853981633974483\n"
     ]
    }
   ],
   "source": [
    "#angles\n",
    "print(np.arcsin(1.0))\n",
    "print(np.arccos(1.0))\n",
    "print(np.arctan(1.0))"
   ]
  },
  {
   "cell_type": "code",
   "execution_count": 26,
   "metadata": {},
   "outputs": [
    {
     "name": "stdout",
     "output_type": "stream",
     "text": [
      "[ 1.57079633  0.         -1.57079633]\n"
     ]
    }
   ],
   "source": [
    "arr = np.array([1,0,-1])\n",
    "print(np.arcsin(arr))"
   ]
  },
  {
   "cell_type": "code",
   "execution_count": 27,
   "metadata": {},
   "outputs": [
    {
     "name": "stdout",
     "output_type": "stream",
     "text": [
      "5.0\n"
     ]
    }
   ],
   "source": [
    "#hypotenuse\n",
    "print(np.hypot(3,4))"
   ]
  },
  {
   "cell_type": "markdown",
   "metadata": {},
   "source": [
    "## Hyperbolic Function"
   ]
  },
  {
   "cell_type": "code",
   "execution_count": 28,
   "metadata": {},
   "outputs": [
    {
     "name": "stdout",
     "output_type": "stream",
     "text": [
      "2.3012989023072947\n"
     ]
    }
   ],
   "source": [
    "print(np.sinh(np.pi/2))"
   ]
  },
  {
   "cell_type": "code",
   "execution_count": 29,
   "metadata": {},
   "outputs": [
    {
     "name": "stdout",
     "output_type": "stream",
     "text": [
      "[2.50917848 1.60028686 1.32460909]\n"
     ]
    }
   ],
   "source": [
    "arr = np.array([np.pi/2 , np.pi/3 , np.pi/4])\n",
    "print(np.cosh(arr))"
   ]
  },
  {
   "cell_type": "code",
   "execution_count": 30,
   "metadata": {},
   "outputs": [
    {
     "name": "stdout",
     "output_type": "stream",
     "text": [
      "0.881373587019543\n"
     ]
    }
   ],
   "source": [
    "print(np.arcsinh(1.0))"
   ]
  },
  {
   "cell_type": "code",
   "execution_count": 31,
   "metadata": {},
   "outputs": [
    {
     "name": "stdout",
     "output_type": "stream",
     "text": [
      "[0.10033535 0.20273255 0.54930614]\n"
     ]
    }
   ],
   "source": [
    "arr = np.array([0.1, 0.2, 0.5])\n",
    "\n",
    "print(np.arctanh(arr))"
   ]
  },
  {
   "cell_type": "markdown",
   "metadata": {},
   "source": [
    "## Set Operation"
   ]
  },
  {
   "cell_type": "code",
   "execution_count": 32,
   "metadata": {},
   "outputs": [
    {
     "data": {
      "text/plain": [
       "array([2, 3, 4])"
      ]
     },
     "execution_count": 32,
     "metadata": {},
     "output_type": "execute_result"
    }
   ],
   "source": [
    "arr = np.array([2,3,4,2])\n",
    "np.unique(arr)"
   ]
  },
  {
   "cell_type": "code",
   "execution_count": 34,
   "metadata": {},
   "outputs": [
    {
     "data": {
      "text/plain": [
       "array([1, 2, 3, 4, 5, 6])"
      ]
     },
     "execution_count": 34,
     "metadata": {},
     "output_type": "execute_result"
    }
   ],
   "source": [
    "arr1 = np.array([1,3,2,1,4])\n",
    "arr2 = np.array([5,2,6,2,3])\n",
    "\n",
    "np.union1d(arr1,arr2)"
   ]
  },
  {
   "cell_type": "code",
   "execution_count": 37,
   "metadata": {},
   "outputs": [
    {
     "data": {
      "text/plain": [
       "array([2, 3])"
      ]
     },
     "execution_count": 37,
     "metadata": {},
     "output_type": "execute_result"
    }
   ],
   "source": [
    "arr1 = np.array([1,3,2,4])\n",
    "arr2 = np.array([5,2,6,3])\n",
    "\n",
    "np.intersect1d(arr1, arr2, assume_unique=True)"
   ]
  },
  {
   "cell_type": "code",
   "execution_count": 39,
   "metadata": {},
   "outputs": [
    {
     "data": {
      "text/plain": [
       "array([1, 4])"
      ]
     },
     "execution_count": 39,
     "metadata": {},
     "output_type": "execute_result"
    }
   ],
   "source": [
    "#To find only the values in the first set that is NOT present in the seconds set\n",
    "np.setdiff1d(arr1, arr2, assume_unique=True)"
   ]
  },
  {
   "cell_type": "code",
   "execution_count": 40,
   "metadata": {},
   "outputs": [
    {
     "data": {
      "text/plain": [
       "array([1, 4, 5, 6])"
      ]
     },
     "execution_count": 40,
     "metadata": {},
     "output_type": "execute_result"
    }
   ],
   "source": [
    "# To find only the values that are NOT present in BOTH sets\n",
    "np.setxor1d(arr1, arr2, assume_unique=True)\n",
    "#not common"
   ]
  },
  {
   "cell_type": "code",
   "execution_count": null,
   "metadata": {},
   "outputs": [],
   "source": []
  }
 ],
 "metadata": {
  "kernelspec": {
   "display_name": "Python 3",
   "language": "python",
   "name": "python3"
  },
  "language_info": {
   "codemirror_mode": {
    "name": "ipython",
    "version": 3
   },
   "file_extension": ".py",
   "mimetype": "text/x-python",
   "name": "python",
   "nbconvert_exporter": "python",
   "pygments_lexer": "ipython3",
   "version": "3.8.3"
  }
 },
 "nbformat": 4,
 "nbformat_minor": 4
}
