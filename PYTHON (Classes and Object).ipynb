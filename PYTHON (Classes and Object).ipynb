{
 "cells": [
  {
   "cell_type": "markdown",
   "metadata": {},
   "source": [
    "# Classes and Object"
   ]
  },
  {
   "cell_type": "markdown",
   "metadata": {},
   "source": [
    "Python is an object oriented programming language.\n",
    "\n",
    "Almost everything in Python is an object, with its properties and methods.\n",
    "\n",
    "A Class is like an object constructor, or a \"blueprint\" for creating objects."
   ]
  },
  {
   "cell_type": "code",
   "execution_count": 1,
   "metadata": {},
   "outputs": [],
   "source": [
    "class MyClass:\n",
    "    x=5"
   ]
  },
  {
   "cell_type": "code",
   "execution_count": 2,
   "metadata": {},
   "outputs": [
    {
     "name": "stdout",
     "output_type": "stream",
     "text": [
      "5\n"
     ]
    }
   ],
   "source": [
    "p1 = MyClass()\n",
    "print(p1.x)"
   ]
  },
  {
   "cell_type": "code",
   "execution_count": 5,
   "metadata": {},
   "outputs": [
    {
     "name": "stdout",
     "output_type": "stream",
     "text": [
      "6\n"
     ]
    }
   ],
   "source": [
    "p1.x = 6\n",
    "print(p1.x)"
   ]
  },
  {
   "cell_type": "code",
   "execution_count": 30,
   "metadata": {},
   "outputs": [],
   "source": [
    "#dir(a)"
   ]
  },
  {
   "cell_type": "code",
   "execution_count": 20,
   "metadata": {},
   "outputs": [
    {
     "name": "stdout",
     "output_type": "stream",
     "text": [
      "Name :  Prem\n"
     ]
    }
   ],
   "source": [
    "class Name:\n",
    "    def set_name(self, new_name):\n",
    "        self.name = new_name\n",
    "        \n",
    "    def print_name(self):\n",
    "        print(\"Name : \",self.name)\n",
    "        \n",
    "n1 = Name()\n",
    "n1.set_name(\"Prem\")\n",
    "n1.print_name()"
   ]
  },
  {
   "cell_type": "code",
   "execution_count": 31,
   "metadata": {},
   "outputs": [
    {
     "name": "stdout",
     "output_type": "stream",
     "text": [
      "6\n"
     ]
    }
   ],
   "source": [
    "class Print:\n",
    "    def addval(self, num):\n",
    "        self.num = num\n",
    "        \n",
    "p1 = Print()\n",
    "p1.addval(5)\n",
    "p1.num = p1.num + 1\n",
    "print(p1.num)"
   ]
  },
  {
   "cell_type": "code",
   "execution_count": 37,
   "metadata": {},
   "outputs": [
    {
     "name": "stdout",
     "output_type": "stream",
     "text": [
      "Prem\n",
      "120000\n",
      "10000.0\n",
      "\n",
      "After raise:\n",
      "Prem\n",
      "130000\n",
      "10833.333333333334\n"
     ]
    }
   ],
   "source": [
    "class Employee:\n",
    "    def set_name(self, name):\n",
    "        self.name = name\n",
    "        \n",
    "    def set_salary(self, sal):\n",
    "        self.salary = sal\n",
    "    \n",
    "    def give_raise(self, sal_raise):\n",
    "        self.salary = self.salary + sal_raise\n",
    "        \n",
    "    def monthly(self):\n",
    "        return (self.salary/12)\n",
    "    \n",
    "emp = Employee()\n",
    "emp.set_name(\"Prem\")\n",
    "emp.set_salary(120000)\n",
    "\n",
    "print(emp.name)\n",
    "print(emp.salary)\n",
    "print(emp.monthly())\n",
    "\n",
    "emp.give_raise(10000)\n",
    "\n",
    "print(\"\\nAfter raise:\")\n",
    "print(emp.name)\n",
    "print(emp.salary)\n",
    "print(emp.monthly())"
   ]
  },
  {
   "cell_type": "code",
   "execution_count": 1,
   "metadata": {},
   "outputs": [
    {
     "name": "stdout",
     "output_type": "stream",
     "text": [
      "init is called\n"
     ]
    }
   ],
   "source": [
    "class Customer:\n",
    "    def __init__(self):\n",
    "        print(\"init is called\")\n",
    "        \n",
    "cust = Customer()\n"
   ]
  },
  {
   "cell_type": "code",
   "execution_count": 6,
   "metadata": {},
   "outputs": [
    {
     "name": "stdout",
     "output_type": "stream",
     "text": [
      "init is called\n",
      "Prem\n",
      "100\n",
      "init is called\n",
      "Sipun\n",
      "0\n"
     ]
    }
   ],
   "source": [
    "class Customer:\n",
    "    def __init__(self, name, balance=0):\n",
    "        self.name = name\n",
    "        self.balance = balance\n",
    "        print(\"init is called\")\n",
    "        \n",
    "cust = Customer(\"Prem\",100)\n",
    "print(cust.name)\n",
    "print(cust.balance)\n",
    "\n",
    "cust2 = Customer(\"Sipun\")\n",
    "print(cust2.name)\n",
    "print(cust2.balance)"
   ]
  },
  {
   "cell_type": "code",
   "execution_count": 18,
   "metadata": {},
   "outputs": [
    {
     "name": "stdout",
     "output_type": "stream",
     "text": [
      "3\n",
      "4\n",
      "5.0\n",
      "\n",
      "After:\n",
      "3\n",
      "-4\n",
      "5.0\n"
     ]
    }
   ],
   "source": [
    "import numpy as np\n",
    "\n",
    "class Point:\n",
    "    def __init__(self, x=0.0, y=0.0):\n",
    "        self.x = x\n",
    "        self.y = y\n",
    "    \n",
    "    def distance_to_origin(self):\n",
    "        return np.sqrt((self.x**2) + (self.y**2))\n",
    "    \n",
    "    def reflect(self, axis):\n",
    "        if axis == 'x':\n",
    "            self.y = -self.y\n",
    "        elif axis == 'y':\n",
    "            self.x = -self.x\n",
    "        else: \n",
    "            print(\"Error!!\")\n",
    "            \n",
    "            \n",
    "p = Point(3,4)\n",
    "print(p.x)\n",
    "print(p.y)\n",
    "print(p.distance_to_origin())\n",
    "\n",
    "print('\\nAfter:')\n",
    "p.reflect('x')\n",
    "print(p.x)\n",
    "print(p.y)\n",
    "print(p.distance_to_origin())"
   ]
  },
  {
   "cell_type": "code",
   "execution_count": 19,
   "metadata": {},
   "outputs": [
    {
     "name": "stdout",
     "output_type": "stream",
     "text": [
      "3\n",
      "2\n"
     ]
    }
   ],
   "source": [
    "#change class attributes values\n",
    "print(p.x)\n",
    "p.x = 2\n",
    "print(p.x)"
   ]
  },
  {
   "cell_type": "code",
   "execution_count": 20,
   "metadata": {},
   "outputs": [],
   "source": [
    "#we can delete object and also object variable using del keyword\n",
    "del p.x\n",
    "# p.x   shows error\n",
    "del p\n",
    "# p.y    shows error"
   ]
  },
  {
   "cell_type": "markdown",
   "metadata": {},
   "source": [
    "## Inheritance"
   ]
  },
  {
   "cell_type": "code",
   "execution_count": 21,
   "metadata": {},
   "outputs": [
    {
     "name": "stdout",
     "output_type": "stream",
     "text": [
      "Prem Sipun\n"
     ]
    }
   ],
   "source": [
    "#created Parent Class\n",
    "class Parent:\n",
    "    def __init__(self, lname, fname):\n",
    "        self.lname = lname\n",
    "        self.fname = fname\n",
    "        print(\"Parent called!\")\n",
    "        \n",
    "    def printname(self):\n",
    "        print(self.lname, self.fname)\n",
    "        \n",
    "p = Parent(\"Prem\", \"Sipun\")\n",
    "p.printname()"
   ]
  },
  {
   "cell_type": "code",
   "execution_count": 23,
   "metadata": {},
   "outputs": [
    {
     "name": "stdout",
     "output_type": "stream",
     "text": [
      "Megha Prerna\n"
     ]
    }
   ],
   "source": [
    "#Child class inherting Parent class\n",
    "class Child(Parent):\n",
    "    pass\n",
    "\n",
    "c = Child(\"Megha\" , \"Prerna\")\n",
    "c.printname()"
   ]
  },
  {
   "cell_type": "code",
   "execution_count": 25,
   "metadata": {},
   "outputs": [
    {
     "name": "stdout",
     "output_type": "stream",
     "text": [
      "Child2 called!\n",
      "Megha Prerna\n"
     ]
    }
   ],
   "source": [
    "class Child2(Parent):\n",
    "    def __init__(self, lname, fname):\n",
    "        self.lname = lname\n",
    "        self.fname = fname\n",
    "        print(\"Child2 called!\")\n",
    "        \n",
    "c = Child2(\"Megha\", \"Prerna\")\n",
    "c.printname()"
   ]
  },
  {
   "cell_type": "code",
   "execution_count": 30,
   "metadata": {},
   "outputs": [
    {
     "name": "stdout",
     "output_type": "stream",
     "text": [
      "Child2 called!\n"
     ]
    }
   ],
   "source": [
    "#just checking if possible\n",
    "class Child2(Parent):\n",
    "    def __init__(self, lname):\n",
    "        self.lname = lname\n",
    "        print(\"Child2 called!\")\n",
    "        \n",
    "c = Child2(\"Megha\")\n",
    "# c2 = Child2(\"Megha\", \"Prerna\") will not work"
   ]
  },
  {
   "cell_type": "code",
   "execution_count": 32,
   "metadata": {},
   "outputs": [
    {
     "name": "stdout",
     "output_type": "stream",
     "text": [
      "Child2 called!\n",
      "Lipun Biswa\n"
     ]
    }
   ],
   "source": [
    "class Child2(Parent):\n",
    "    def __init__(self, lname,fname):\n",
    "        Parent.__init__(self,lname, fname)\n",
    "        print(\"Child2 called!\")\n",
    "        \n",
    "c = Child2(\"Lipun\",\"Biswa\")\n",
    "c.printname()"
   ]
  },
  {
   "cell_type": "code",
   "execution_count": 34,
   "metadata": {},
   "outputs": [
    {
     "name": "stdout",
     "output_type": "stream",
     "text": [
      "Child2 called!\n",
      "Lipun Biswa\n"
     ]
    }
   ],
   "source": [
    "# By using the super() function, you do not have to use the name of the parent element, \n",
    "# it will automatically inherit the methods and properties from its parent.\n",
    "\n",
    "\n",
    "class Child2(Parent):\n",
    "    def __init__(self, lname,fname):\n",
    "        super().__init__(lname, fname)  #super does not require self argument\n",
    "        print(\"Child2 called!\")\n",
    "        \n",
    "c = Child2(\"Lipun\",\"Biswa\")\n",
    "c.printname()"
   ]
  },
  {
   "cell_type": "code",
   "execution_count": 35,
   "metadata": {},
   "outputs": [
    {
     "name": "stdout",
     "output_type": "stream",
     "text": [
      "Child2 called!\n",
      "Lipun Biswa\n"
     ]
    },
    {
     "data": {
      "text/plain": [
       "2019"
      ]
     },
     "execution_count": 35,
     "metadata": {},
     "output_type": "execute_result"
    }
   ],
   "source": [
    "class Child2(Parent):\n",
    "    def __init__(self, lname,fname,year):\n",
    "        super().__init__(lname, fname)  #super does not require self argument\n",
    "        self.year = year\n",
    "        print(\"Child2 called!\")\n",
    "        \n",
    "c = Child2(\"Lipun\",\"Biswa\", 2019)\n",
    "c.printname()\n",
    "c.year"
   ]
  },
  {
   "cell_type": "code",
   "execution_count": 40,
   "metadata": {},
   "outputs": [
    {
     "name": "stdout",
     "output_type": "stream",
     "text": [
      "Child2 called!\n",
      "Lipun Biswa\n",
      "\n",
      "Name: Biswa Lipun \n",
      "Year: 2019\n"
     ]
    }
   ],
   "source": [
    "class Child2(Parent):\n",
    "    def __init__(self, lname,fname,year):\n",
    "        super().__init__(lname, fname)  #super does not require self argument\n",
    "        self.year = year\n",
    "        print(\"Child2 called!\")\n",
    "        \n",
    "    def printChild(self):\n",
    "        print(\"\\nName:\", self.fname, self.lname, \"\\nYear:\", self.year)\n",
    "        \n",
    "c = Child2(\"Lipun\",\"Biswa\", 2019)\n",
    "c.printname()\n",
    "c.year\n",
    "\n",
    "c.printChild()"
   ]
  },
  {
   "cell_type": "markdown",
   "metadata": {},
   "source": [
    "### Multiple Inheritance"
   ]
  },
  {
   "cell_type": "code",
   "execution_count": 43,
   "metadata": {},
   "outputs": [
    {
     "name": "stdout",
     "output_type": "stream",
     "text": [
      "Base2\n",
      "Base1\n",
      "Derived\n",
      "geek1 geek2\n"
     ]
    }
   ],
   "source": [
    "class Base1:\n",
    "    def __init__(self):\n",
    "        self.geek1 = 'geek1'\n",
    "        print('Base1')\n",
    "        \n",
    "class Base2:\n",
    "    def __init__(self):\n",
    "        self.geek2 = \"geek2\"\n",
    "        print('Base2')\n",
    "        \n",
    "class Derived(Base1, Base2):\n",
    "    def __init__(self):\n",
    "        Base2.__init__(self)\n",
    "        Base1.__init__(self)\n",
    "        print('Derived')\n",
    "        \n",
    "    def Printgeek(self):\n",
    "        print(self.geek1,self.geek2)\n",
    "\n",
    "d = Derived()\n",
    "d.Printgeek()"
   ]
  },
  {
   "cell_type": "markdown",
   "metadata": {},
   "source": [
    "### Multi-level Inheritance"
   ]
  },
  {
   "cell_type": "code",
   "execution_count": 47,
   "metadata": {},
   "outputs": [
    {
     "name": "stdout",
     "output_type": "stream",
     "text": [
      "Name:  Prem\n",
      "Age:  20\n",
      "Address:  Faridabad\n"
     ]
    }
   ],
   "source": [
    "class Parent:\n",
    "    def __init__(self,name):\n",
    "        self.name = name\n",
    "        \n",
    "    def getname(self):\n",
    "        print(\"Name: \", self.name)\n",
    "        \n",
    "class Child(Parent):\n",
    "    def __init__(self,name,age):\n",
    "        self.age = age\n",
    "        Parent.__init__(self,name)\n",
    "        \n",
    "    def getage(self):\n",
    "        print(\"Age: \",self.age)\n",
    "        \n",
    "class GrandChild(Child):\n",
    "    def __init__(self,name,age,address):\n",
    "        Child.__init__(self,name,age)\n",
    "        self.address = address\n",
    "        \n",
    "    def getaddress(self):\n",
    "        print(\"Address: \", self.address)\n",
    "        \n",
    "g = GrandChild(\"Prem\" , 20 , \"Faridabad\")\n",
    "g.getname()\n",
    "g.getage()\n",
    "g.getaddress()"
   ]
  },
  {
   "cell_type": "markdown",
   "metadata": {},
   "source": [
    "### Making attributes private"
   ]
  },
  {
   "cell_type": "code",
   "execution_count": 57,
   "metadata": {},
   "outputs": [
    {
     "name": "stdout",
     "output_type": "stream",
     "text": [
      "1\n",
      "2\n",
      "21\n",
      "2\n",
      "3\n"
     ]
    }
   ],
   "source": [
    "class B:\n",
    "    def __init__(self, a):\n",
    "        self.a = a\n",
    "        self.b = 2\n",
    "        self.__e = 3  #private member\n",
    "        \n",
    "    def access_e(self):\n",
    "        print(self.__e)\n",
    "    \n",
    "class C(B):\n",
    "    pass\n",
    "\n",
    "c = C(1)\n",
    "print(c.a)\n",
    "print(c.b)\n",
    "# print(c.__e)  #shows error\n",
    "\n",
    "b = B(21)\n",
    "print(b.a)\n",
    "print(b.b)\n",
    "# print(b.__e)    #shows error\n",
    "b.access_e()     #private member can only be accessible through function\n"
   ]
  },
  {
   "cell_type": "code",
   "execution_count": null,
   "metadata": {},
   "outputs": [],
   "source": []
  }
 ],
 "metadata": {
  "kernelspec": {
   "display_name": "Python 3",
   "language": "python",
   "name": "python3"
  },
  "language_info": {
   "codemirror_mode": {
    "name": "ipython",
    "version": 3
   },
   "file_extension": ".py",
   "mimetype": "text/x-python",
   "name": "python",
   "nbconvert_exporter": "python",
   "pygments_lexer": "ipython3",
   "version": "3.8.3"
  }
 },
 "nbformat": 4,
 "nbformat_minor": 4
}
