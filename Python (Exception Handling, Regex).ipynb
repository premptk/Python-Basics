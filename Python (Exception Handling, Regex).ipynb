{
 "cells": [
  {
   "cell_type": "markdown",
   "metadata": {},
   "source": [
    "## Iterables"
   ]
  },
  {
   "cell_type": "markdown",
   "metadata": {},
   "source": [
    "Strings, Lists, tuples, dictionaries, and sets are all iterable objects. "
   ]
  },
  {
   "cell_type": "code",
   "execution_count": 5,
   "metadata": {},
   "outputs": [
    {
     "name": "stdout",
     "output_type": "stream",
     "text": [
      "<tuple_iterator object at 0x00000113A3E4D3D0>\n",
      "1\n",
      "2\n",
      "3\n",
      "4\n"
     ]
    }
   ],
   "source": [
    "mytuple = (1,2,3,4)\n",
    "it = iter(mytuple)\n",
    "\n",
    "print(it)\n",
    "print(next(it))\n",
    "print(next(it))\n",
    "print(next(it))\n",
    "print(next(it))"
   ]
  },
  {
   "cell_type": "code",
   "execution_count": 6,
   "metadata": {},
   "outputs": [
    {
     "name": "stdout",
     "output_type": "stream",
     "text": [
      "B\n",
      "a\n",
      "n\n",
      "a\n"
     ]
    }
   ],
   "source": [
    "str1 = \"Banana\"\n",
    "it = iter(str1)\n",
    "\n",
    "print(next(it))\n",
    "print(next(it))\n",
    "print(next(it))\n",
    "print(next(it))"
   ]
  },
  {
   "cell_type": "code",
   "execution_count": 7,
   "metadata": {},
   "outputs": [
    {
     "name": "stdout",
     "output_type": "stream",
     "text": [
      "Prem\n",
      "banana\n",
      "apple\n"
     ]
    }
   ],
   "source": [
    "mylist = [\"Prem\" , \"banana\" , \"apple\"]\n",
    "it = iter(mylist)\n",
    "\n",
    "print(next(it))\n",
    "print(next(it))\n",
    "print(next(it))"
   ]
  },
  {
   "cell_type": "code",
   "execution_count": 11,
   "metadata": {},
   "outputs": [
    {
     "name": "stdout",
     "output_type": "stream",
     "text": [
      "1\n",
      "2\n",
      "3\n",
      "4\n",
      "5\n",
      "6\n"
     ]
    }
   ],
   "source": [
    "#creating an iterator using class\n",
    "class MyNumber:\n",
    "    def __iter__(self):\n",
    "        self.a=1\n",
    "        return self\n",
    "    \n",
    "    def __next__(self):\n",
    "        x = self.a\n",
    "        self.a+=1\n",
    "        return x\n",
    "\n",
    "num = MyNumber()\n",
    "it = iter(num)\n",
    "print(next(it))\n",
    "print(next(it))\n",
    "print(next(it))\n",
    "print(next(it))\n",
    "print(next(it))\n",
    "print(next(it))"
   ]
  },
  {
   "cell_type": "code",
   "execution_count": 10,
   "metadata": {},
   "outputs": [
    {
     "name": "stdout",
     "output_type": "stream",
     "text": [
      "1\n",
      "2\n",
      "3\n",
      "4\n",
      "5\n"
     ]
    }
   ],
   "source": [
    "#creating an iterator using class\n",
    "class MyNumber:\n",
    "    def __iter__(self):\n",
    "        self.a=1\n",
    "        return self\n",
    "    \n",
    "    def __next__(self):\n",
    "        if self.a <=5:\n",
    "            x = self.a\n",
    "            self.a+=1\n",
    "            return x\n",
    "        else:\n",
    "            raise StopIteration\n",
    "\n",
    "num = MyNumber()\n",
    "it = iter(num)\n",
    "\n",
    "for i in it:\n",
    "    print(i)"
   ]
  },
  {
   "cell_type": "markdown",
   "metadata": {},
   "source": [
    "## Scope"
   ]
  },
  {
   "cell_type": "code",
   "execution_count": 15,
   "metadata": {},
   "outputs": [
    {
     "name": "stdout",
     "output_type": "stream",
     "text": [
      "30\n"
     ]
    }
   ],
   "source": [
    "#local scope\n",
    "def local():\n",
    "    x = 30\n",
    "    print(x)\n",
    "    \n",
    "local()\n",
    "# x   shows NameError"
   ]
  },
  {
   "cell_type": "code",
   "execution_count": 20,
   "metadata": {},
   "outputs": [
    {
     "name": "stdout",
     "output_type": "stream",
     "text": [
      "30\n"
     ]
    }
   ],
   "source": [
    "#local scope\n",
    "def local():\n",
    "    x = 30\n",
    "    def innerlocal():\n",
    "        print(x)\n",
    "    innerlocal()\n",
    "    \n",
    "local()"
   ]
  },
  {
   "cell_type": "code",
   "execution_count": 25,
   "metadata": {},
   "outputs": [
    {
     "name": "stdout",
     "output_type": "stream",
     "text": [
      "30\n",
      "30\n"
     ]
    }
   ],
   "source": [
    "#global scope\n",
    "x = 30\n",
    "def local():\n",
    "    print(x)\n",
    "#     x=2\n",
    "#     print(x)  gives UnboundLocalError \n",
    "    \n",
    "\n",
    "print(x)\n",
    "local()"
   ]
  },
  {
   "cell_type": "code",
   "execution_count": 26,
   "metadata": {},
   "outputs": [
    {
     "name": "stdout",
     "output_type": "stream",
     "text": [
      "30\n",
      "200\n"
     ]
    }
   ],
   "source": [
    "#global scope vs local scope\n",
    "x = 30\n",
    "def local():\n",
    "    x =200\n",
    "    print(x)\n",
    "    \n",
    "\n",
    "print(x)\n",
    "local()"
   ]
  },
  {
   "cell_type": "code",
   "execution_count": 29,
   "metadata": {},
   "outputs": [
    {
     "name": "stdout",
     "output_type": "stream",
     "text": [
      "Inside: 10\n",
      "Outside 10\n",
      "Outside after 20\n"
     ]
    }
   ],
   "source": [
    "#making global variable inside func\n",
    "def local():\n",
    "    global x\n",
    "    x =10\n",
    "    print(\"Inside:\",x)\n",
    "    \n",
    "local()\n",
    "print(\"Outside\",x)\n",
    "x=20\n",
    "print(\"Outside after\",x)"
   ]
  },
  {
   "cell_type": "code",
   "execution_count": 30,
   "metadata": {},
   "outputs": [
    {
     "name": "stdout",
     "output_type": "stream",
     "text": [
      "Inside: 20\n",
      "Outside 20\n",
      "Outside after 10\n"
     ]
    }
   ],
   "source": [
    "x = 10\n",
    "def local():\n",
    "    global x\n",
    "    x =20   #changing global variable\n",
    "    print(\"Inside:\",x)\n",
    "    \n",
    "local()\n",
    "print(\"Outside\",x)\n",
    "x=10  #changing outside\n",
    "print(\"Outside after\",x)"
   ]
  },
  {
   "cell_type": "markdown",
   "metadata": {},
   "source": [
    "## Datetime"
   ]
  },
  {
   "cell_type": "code",
   "execution_count": 1,
   "metadata": {},
   "outputs": [
    {
     "data": {
      "text/plain": [
       "['MAXYEAR',\n",
       " 'MINYEAR',\n",
       " '__builtins__',\n",
       " '__cached__',\n",
       " '__doc__',\n",
       " '__file__',\n",
       " '__loader__',\n",
       " '__name__',\n",
       " '__package__',\n",
       " '__spec__',\n",
       " 'date',\n",
       " 'datetime',\n",
       " 'datetime_CAPI',\n",
       " 'sys',\n",
       " 'time',\n",
       " 'timedelta',\n",
       " 'timezone',\n",
       " 'tzinfo']"
      ]
     },
     "execution_count": 1,
     "metadata": {},
     "output_type": "execute_result"
    }
   ],
   "source": [
    "import datetime\n",
    "dir(datetime)"
   ]
  },
  {
   "cell_type": "code",
   "execution_count": 5,
   "metadata": {},
   "outputs": [
    {
     "name": "stdout",
     "output_type": "stream",
     "text": [
      "2021-05-05 18:47:09.002444\n",
      "9999\n",
      "1\n"
     ]
    }
   ],
   "source": [
    "print(datetime.datetime.now())\n",
    "print(datetime.MAXYEAR)\n",
    "print(datetime.MINYEAR)"
   ]
  },
  {
   "cell_type": "code",
   "execution_count": 34,
   "metadata": {},
   "outputs": [
    {
     "name": "stdout",
     "output_type": "stream",
     "text": [
      "<class 'datetime.datetime'>\n",
      "2021\n",
      "5 5 19 1 54 840582\n",
      "Wed Wednesday\n"
     ]
    }
   ],
   "source": [
    "x = datetime.datetime.now()\n",
    "print(type(x))\n",
    "print(x.year)\n",
    "print(x.day,x.month,x.hour,x.minute,x.second,x.microsecond)\n",
    "print(x.strftime(\"%a\"), x.strftime(\"%A\"))"
   ]
  },
  {
   "cell_type": "code",
   "execution_count": 35,
   "metadata": {},
   "outputs": [
    {
     "name": "stdout",
     "output_type": "stream",
     "text": [
      "2020-05-17 00:00:00\n"
     ]
    }
   ],
   "source": [
    "#creating date using constructor\n",
    "x = datetime.datetime(2020,5,17)\n",
    "print(x)"
   ]
  },
  {
   "cell_type": "raw",
   "metadata": {},
   "source": [
    "Strftime Format\n",
    "\n",
    "Directive\tDescription\t                                                            Example\t\n",
    "%a\t        Weekday, short version\t                                                 Wed\t\n",
    "%A\t        Weekday, full version\t                                                 Wednesday\t\n",
    "%w\t        Weekday as a number 0-6, 0 is Sunday\t                                 3\t\n",
    "%d\t        Day of month 01-31\t                                                     31\t\n",
    "%b\t        Month name, short version\t                                             Dec\t\n",
    "%B\t        Month name, full version\t                                             December\t\n",
    "%m\t        Month as a number  01-12\t                                             12\t\n",
    "%y\t        Year, short version, without century\t                                 18\t\n",
    "%Y\t        Year, full version\t                                                     2018\t\n",
    "%H\t        Hour 00-23\t                                                             17\t\n",
    "%I\t        Hour 00-12\t                                                             05\t\n",
    "%p\t        AM/PM\t                                                                 PM\t\n",
    "%M\t        Minute 00-59\t                                                         41\t\n",
    "%S\t        Second 00-59\t                                                         08\t\n",
    "%f\t        Microsecond 000000-999999\t                                             548513\t\n",
    "%z\t        UTC offset\t                                                             +0100\t\n",
    "%Z\t        Timezone\t                                                             CST\t\n",
    "%j\t        Day number of year 001-366\t                                             365\t\n",
    "%U\t        Week number of year, Sunday as the first day of week, 00-53\t             52\t\n",
    "%W\t        Week number of year, Monday as the first day of week, 00-53\t             52\t\n",
    "%c\t        Local version of date and time\tMon Dec 31 17:41:00                      2018\t\n",
    "%x\t        Local version of date\t                                                 12/31/18\t\n",
    "%X\t        Local version of time\t                                                 17:41:00\t\n",
    "%%\t        A % character\t                                                         %\t\n",
    "%G\t        ISO 8601 year\t                                                         2018\t\n",
    "%u\t        ISO 8601 weekday (1-7)\t                                                 1\t\n",
    "%V\t        ISO 8601 weeknumber (01-53)\t                                             01"
   ]
  },
  {
   "cell_type": "code",
   "execution_count": 36,
   "metadata": {},
   "outputs": [],
   "source": [
    "from datetime import date"
   ]
  },
  {
   "cell_type": "code",
   "execution_count": 40,
   "metadata": {},
   "outputs": [
    {
     "name": "stdout",
     "output_type": "stream",
     "text": [
      "2020-12-12\n"
     ]
    }
   ],
   "source": [
    "d = date(2020,12,12)\n",
    "print(d)"
   ]
  },
  {
   "cell_type": "code",
   "execution_count": 46,
   "metadata": {},
   "outputs": [
    {
     "name": "stdout",
     "output_type": "stream",
     "text": [
      "2021-05-05\n",
      "2021\n"
     ]
    }
   ],
   "source": [
    "print(date.today())\n",
    "print(date.today().year)"
   ]
  },
  {
   "cell_type": "raw",
   "metadata": {},
   "source": [
    "Fucntion name\t                                   Description\n",
    "utcnow()\t                                   Return the current UTC date and time, with tzinfo None.\n",
    "\n",
    "fromtimestamp(timestamp, tz=None)\t           Return the local date and time corresponding to the POSIX timestamp.\n",
    "\n",
    "utcfromtimestamp(timestamp)\t                   Return the UTC datetime corresponding to the POSIX timestamp, with tzinfo None.\n",
    "\n",
    "fromordinal(ordinal)\t                       Return the datetime corresponding to the proleptic Gregorian ordinal, where                                                      January 1 of year 1 has ordinal 1.\n",
    "\n",
    "combine(date, time, tzinfo=self.tzinfo)\t       Return a new datetime object whose date components are equal to the given date                                                  object’s, and whose time components are equal to the given time object’s.\n",
    "\n",
    "fromisoformat(date_string)\t                   Return a datetime corresponding to a date_string in one of the formats emitted by                                                date.isoformat() and datetime.isoformat().\n",
    "\n",
    "strptime(date_string, format)\t               Return a datetime corresponding to date_string, parsed according to format."
   ]
  },
  {
   "cell_type": "markdown",
   "metadata": {},
   "source": [
    "### Timedelta"
   ]
  },
  {
   "cell_type": "code",
   "execution_count": 48,
   "metadata": {},
   "outputs": [],
   "source": [
    "from datetime import timedelta"
   ]
  },
  {
   "cell_type": "code",
   "execution_count": 55,
   "metadata": {},
   "outputs": [
    {
     "name": "stdout",
     "output_type": "stream",
     "text": [
      "2021-05-05 20:11:20.266411 \n",
      " 2021-05-08 20:31:20.266411\n"
     ]
    }
   ],
   "source": [
    "ini_time= datetime.datetime.now()\n",
    "\n",
    "final_time = ini_time + timedelta(days=3, minutes = 20)\n",
    "\n",
    "print(ini_time,\"\\n\",final_time)"
   ]
  },
  {
   "cell_type": "code",
   "execution_count": 56,
   "metadata": {},
   "outputs": [
    {
     "name": "stdout",
     "output_type": "stream",
     "text": [
      "3 days, 0:20:00\n"
     ]
    }
   ],
   "source": [
    "timediff = final_time - ini_time\n",
    "print(timediff)"
   ]
  },
  {
   "cell_type": "markdown",
   "metadata": {},
   "source": [
    "## Maths"
   ]
  },
  {
   "cell_type": "code",
   "execution_count": 57,
   "metadata": {},
   "outputs": [
    {
     "name": "stdout",
     "output_type": "stream",
     "text": [
      "3 7\n"
     ]
    }
   ],
   "source": [
    "x = min(5,7,3)\n",
    "y = max(3,7,2)\n",
    "print(x,y)"
   ]
  },
  {
   "cell_type": "code",
   "execution_count": 58,
   "metadata": {},
   "outputs": [
    {
     "data": {
      "text/plain": [
       "7.25"
      ]
     },
     "execution_count": 58,
     "metadata": {},
     "output_type": "execute_result"
    }
   ],
   "source": [
    "abs(-7.25)"
   ]
  },
  {
   "cell_type": "code",
   "execution_count": 59,
   "metadata": {},
   "outputs": [
    {
     "data": {
      "text/plain": [
       "64"
      ]
     },
     "execution_count": 59,
     "metadata": {},
     "output_type": "execute_result"
    }
   ],
   "source": [
    "pow(4,3)"
   ]
  },
  {
   "cell_type": "code",
   "execution_count": 61,
   "metadata": {},
   "outputs": [],
   "source": [
    "import math"
   ]
  },
  {
   "cell_type": "code",
   "execution_count": 62,
   "metadata": {},
   "outputs": [
    {
     "data": {
      "text/plain": [
       "8.0"
      ]
     },
     "execution_count": 62,
     "metadata": {},
     "output_type": "execute_result"
    }
   ],
   "source": [
    "math.sqrt(64)"
   ]
  },
  {
   "cell_type": "code",
   "execution_count": 63,
   "metadata": {},
   "outputs": [
    {
     "name": "stdout",
     "output_type": "stream",
     "text": [
      "2\n",
      "1\n"
     ]
    }
   ],
   "source": [
    "print(math.ceil(1.4))\n",
    "print(math.floor(1.4))"
   ]
  },
  {
   "cell_type": "code",
   "execution_count": 64,
   "metadata": {},
   "outputs": [
    {
     "name": "stdout",
     "output_type": "stream",
     "text": [
      "3.141592653589793\n"
     ]
    }
   ],
   "source": [
    "print(math.pi)"
   ]
  },
  {
   "cell_type": "markdown",
   "metadata": {},
   "source": [
    "### Method\tDescription"
   ]
  },
  {
   "cell_type": "raw",
   "metadata": {},
   "source": [
    "math.acos()       \tReturns the arc cosine of a number\n",
    "math.acosh()\t    Returns the inverse hyperbolic cosine of a number\n",
    "math.asin()\t        Returns the arc sine of a number\n",
    "math.asinh()\t    Returns the inverse hyperbolic sine of a number\n",
    "math.atan()\t        Returns the arc tangent of a number in radians\n",
    "math.atan2()\t    Returns the arc tangent of y/x in radians\n",
    "math.atanh()\t    Returns the inverse hyperbolic tangent of a number\n",
    "math.ceil()\t        Rounds a number up to the nearest integer\n",
    "math.comb()\t        Returns the number of ways to choose k items from n items without repetition and order\n",
    "math.copysign()\t    Returns a float consisting of the value of the first parameter and the sign of the second parameter\n",
    "math.cos()\t        Returns the cosine of a number\n",
    "math.cosh()\t        Returns the hyperbolic cosine of a number\n",
    "math.degrees()\t    Converts an angle from radians to degrees\n",
    "math.dist()\t        Returns the Euclidean distance between two points (p and q), where p and q are the coordinates of that point\n",
    "math.erf()\t        Returns the error function of a number\n",
    "math.erfc()\t        Returns the complementary error function of a number\n",
    "math.exp()\t        Returns E raised to the power of x\n",
    "math.expm1()\t    Returns Ex - 1\n",
    "math.fabs()\t        Returns the absolute value of a number\n",
    "math.factorial()\tReturns the factorial of a number\n",
    "math.floor()\t    Rounds a number down to the nearest integer\n",
    "math.fmod()\t        Returns the remainder of x/y\n",
    "math.frexp()\t    Returns the mantissa and the exponent, of a specified number\n",
    "math.fsum()\t        Returns the sum of all items in any iterable (tuples, arrays, lists, etc.)\n",
    "math.gamma()\t    Returns the gamma function at x\n",
    "math.gcd()\t        Returns the greatest common divisor of two integers\n",
    "math.hypot()\t    Returns the Euclidean norm\n",
    "math.isclose()\t    Checks whether two values are close to each other, or not\n",
    "math.isfinite()\t    Checks whether a number is finite or not\n",
    "math.isinf()\t    Checks whether a number is infinite or not\n",
    "math.isnan()\t    Checks whether a value is NaN (not a number) or not\n",
    "math.isqrt()\t    Rounds a square root number downwards to the nearest integer\n",
    "math.ldexp()\t    Returns the inverse of math.frexp() which is x * (2**i) of the given numbers x and i\n",
    "math.lgamma()\t    Returns the log gamma value of x\n",
    "math.log()\t        Returns the natural logarithm of a number, or the logarithm of number to base\n",
    "math.log10()\t    Returns the base-10 logarithm of x\n",
    "math.log1p()\t    Returns the natural logarithm of 1+x\n",
    "math.log2()\t        Returns the base-2 logarithm of x\n",
    "math.perm()\t        Returns the number of ways to choose k items from n items with order and without repetition\n",
    "math.pow()\t        Returns the value of x to the power of y\n",
    "math.prod()\t        Returns the product of all the elements in an iterable\n",
    "math.radians()\t    Converts a degree value into radians\n",
    "math.remainder()\tReturns the closest value that can make numerator completely divisible by the denominator\n",
    "math.sin()\t        Returns the sine of a number\n",
    "math.sinh()\t        Returns the hyperbolic sine of a number\n",
    "math.sqrt()\t        Returns the square root of a number\n",
    "math.tan()\t        Returns the tangent of a number\n",
    "math.tanh()\t        Returns the hyperbolic tangent of a number\n",
    "math.trunc()\t    Returns the truncated integer parts of a number"
   ]
  },
  {
   "cell_type": "markdown",
   "metadata": {},
   "source": [
    "### Constant"
   ]
  },
  {
   "cell_type": "raw",
   "metadata": {},
   "source": [
    "Constant\tDescription\n",
    "math.e\t    Returns Euler's number (2.7182...)\n",
    "math.inf\tReturns a floating-point positive infinity\n",
    "math.nan\tReturns a floating-point NaN (Not a Number) value\n",
    "math.pi  \tReturns PI (3.1415...)\n",
    "math.tau\tReturns tau (6.2831...)"
   ]
  },
  {
   "cell_type": "markdown",
   "metadata": {},
   "source": [
    "## RegEx"
   ]
  },
  {
   "cell_type": "code",
   "execution_count": 66,
   "metadata": {},
   "outputs": [],
   "source": [
    "import re"
   ]
  },
  {
   "cell_type": "raw",
   "metadata": {},
   "source": [
    "findall\tReturns a list containing all matches\n",
    "search\tReturns a Match object if there is a match anywhere in the string\n",
    "split\tReturns a list where the string has been split at each match\n",
    "sub\t    Replaces one or many matches with a string"
   ]
  },
  {
   "cell_type": "raw",
   "metadata": {},
   "source": [
    "Meta-characters\n",
    "\n",
    "[]\tA set of characters\t                                                        \"[a-m]\"\t\n",
    "\\\tSignals a special sequence (can also be used to escape special characters)\t\"\\d\"\t\n",
    ".\tAny character (except newline character)\t                                \"he..o\"\t\n",
    "^\tStarts with\t                                                                \"^hello\"\t\n",
    "$\tEnds with\t                                                                \"world$\"\t\n",
    "*\tZero or more occurrences\t                                                \"aix*\"\t\n",
    "+\tOne or more occurrences\t                                                    \"aix+\"\t\n",
    "{}\tExactly the specified number of occurrences\t                                \"al{2}\"\t\n",
    "|\tEither or\t                                                                \"falls|stays\"\t\n",
    "()\tCapture and group"
   ]
  },
  {
   "cell_type": "raw",
   "metadata": {},
   "source": [
    "Special Sequences\n",
    "\n",
    "A special sequence is a \\ followed by one of the characters in the list below, and has a special meaning:\n",
    "\n",
    "Character\tDescription\tExample\t\n",
    "\\A\t            Returns a match if the specified characters are at the beginning of the string\t                \"\\AThe\"\t\n",
    "\\b\t            Returns a match where the specified characters are at the beginning or at the end of a word\n",
    "                (the \"r\" in the beginning is making sure that the string is being treated as a \"raw string\")   r\"\\bain\" r\"ain\\b\"\n",
    "\\B\t            Returns a match where the specified characters are present, but NOT at the beginning \n",
    "                (or at the end) of a word                                                                      r\"\\Bain\" r\"ain\\B\"\n",
    "\\d\t            Returns a match where the string contains digits (numbers from 0-9)\t                            \"\\d\"\t\n",
    "\\D\t            Returns a match where the string DOES NOT contain digits\t                                    \"\\D\"\t\n",
    "\\s\t            Returns a match where the string contains a white space character\t                            \"\\s\"\t\n",
    "\\S\t            Returns a match where the string DOES NOT contain a white space character\t                    \"\\S\"\t\n",
    "\\w\t            Returns a match where the string contains any word characters (characters from a to Z, \n",
    "                digits from 0-9, and theunderscore _ character)\t                                                \"\\w\"\t\n",
    "\\W\t            Returns a match where the string DOES NOT contain any word characters\t                        \"\\W\"\t\n",
    "\\Z\t            Returns a match if the specified characters are at the end of the string\t                   \"Spain\\Z\""
   ]
  },
  {
   "cell_type": "raw",
   "metadata": {},
   "source": [
    "Sets\n",
    "\n",
    "A set is a set of characters inside a pair of square brackets [] with a special meaning:\n",
    "\n",
    "Set\tDescription\t\n",
    "[arn]\t                  Returns a match where one of the specified characters (a, r, or n) are present\t\n",
    "[a-n]\t                  Returns a match for any lower case character, alphabetically between a and n\t\n",
    "[^arn]\t                  Returns a match for any character EXCEPT a, r, and n\t\n",
    "[0123]\t                  Returns a match where any of the specified digits (0, 1, 2, or 3) are present\t\n",
    "[0-9]\t                  Returns a match for any digit between 0 and 9\t\n",
    "[0-5][0-9]\t              Returns a match for any two-digit numbers from 00 and 59\t\n",
    "[a-zA-Z]\t              Returns a match for any character alphabetically between a and z, lower case OR upper case\t\n",
    "[+]\t                      In sets, +, *, ., |, (), $,{} has no special meaning, so [+] means: return a match for any + character                           in the string"
   ]
  },
  {
   "cell_type": "code",
   "execution_count": 70,
   "metadata": {},
   "outputs": [
    {
     "name": "stdout",
     "output_type": "stream",
     "text": [
      "<re.Match object; span=(0, 17), match='The rain in Spain'>\n"
     ]
    }
   ],
   "source": [
    "txt = \"The rain in Spain\"\n",
    "x = re.search(\"^The.*Spain$\", txt)\n",
    "print(x)"
   ]
  },
  {
   "cell_type": "code",
   "execution_count": 71,
   "metadata": {},
   "outputs": [
    {
     "name": "stdout",
     "output_type": "stream",
     "text": [
      "['ai', 'ai']\n"
     ]
    }
   ],
   "source": [
    "txt = \"The rain in Spain\"\n",
    "x = re.findall(\"ai\", txt)\n",
    "print(x)"
   ]
  },
  {
   "cell_type": "code",
   "execution_count": 72,
   "metadata": {},
   "outputs": [
    {
     "name": "stdout",
     "output_type": "stream",
     "text": [
      "[]\n"
     ]
    }
   ],
   "source": [
    "txt = \"The rain in Spain\"\n",
    "x = re.findall(\"Portugal\", txt)\n",
    "print(x)"
   ]
  },
  {
   "cell_type": "code",
   "execution_count": 82,
   "metadata": {},
   "outputs": [
    {
     "name": "stdout",
     "output_type": "stream",
     "text": [
      "The first white-space character is located in position: 3\n"
     ]
    }
   ],
   "source": [
    "txt = \"The rain in Spain\"\n",
    "x = re.search(\"\\s\", txt)\n",
    "\n",
    "print(\"The first white-space character is located in position:\", x.start())"
   ]
  },
  {
   "cell_type": "code",
   "execution_count": 74,
   "metadata": {},
   "outputs": [
    {
     "name": "stdout",
     "output_type": "stream",
     "text": [
      "None\n"
     ]
    }
   ],
   "source": [
    "txt = \"The rain in Spain\"\n",
    "x = re.search(\"Portugal\", txt)\n",
    "print(x)"
   ]
  },
  {
   "cell_type": "code",
   "execution_count": 75,
   "metadata": {},
   "outputs": [
    {
     "name": "stdout",
     "output_type": "stream",
     "text": [
      "['The', 'rain', 'in', 'Spain']\n"
     ]
    }
   ],
   "source": [
    "txt = \"The rain in Spain\"\n",
    "x = re.split(\"\\s\", txt)\n",
    "print(x)"
   ]
  },
  {
   "cell_type": "code",
   "execution_count": 76,
   "metadata": {},
   "outputs": [
    {
     "name": "stdout",
     "output_type": "stream",
     "text": [
      "['The', 'rain in Spain']\n"
     ]
    }
   ],
   "source": [
    "#maxsplit\n",
    "txt = \"The rain in Spain\"\n",
    "x = re.split(\"\\s\", txt, 1)\n",
    "print(x)"
   ]
  },
  {
   "cell_type": "code",
   "execution_count": 79,
   "metadata": {},
   "outputs": [
    {
     "name": "stdout",
     "output_type": "stream",
     "text": [
      "The9rain9in9Spain\n"
     ]
    }
   ],
   "source": [
    "#replacing\n",
    "txt = \"The rain in Spain\"\n",
    "x = re.sub(\"\\s\", \"9\", txt)\n",
    "print(x)"
   ]
  },
  {
   "cell_type": "code",
   "execution_count": 80,
   "metadata": {},
   "outputs": [
    {
     "name": "stdout",
     "output_type": "stream",
     "text": [
      "The9rain9in Spain\n"
     ]
    }
   ],
   "source": [
    "txt = \"The rain in Spain\"\n",
    "x = re.sub(\"\\s\", \"9\", txt, 2)\n",
    "print(x)"
   ]
  },
  {
   "cell_type": "raw",
   "metadata": {},
   "source": [
    "The Match object has properties and methods used to retrieve information about the search, and the result:\n",
    "\n",
    ".span()     returns a tuple containing the start-, and end positions of the match.\n",
    ".string     returns the string passed into the function\n",
    ".group()    returns the part of the string where there was a match"
   ]
  },
  {
   "cell_type": "code",
   "execution_count": 83,
   "metadata": {},
   "outputs": [
    {
     "name": "stdout",
     "output_type": "stream",
     "text": [
      "(12, 17)\n"
     ]
    }
   ],
   "source": [
    "txt = \"The rain in Spain\"\n",
    "x = re.search(r\"\\bS\\w+\", txt)\n",
    "print(x.span())"
   ]
  },
  {
   "cell_type": "code",
   "execution_count": 84,
   "metadata": {},
   "outputs": [
    {
     "name": "stdout",
     "output_type": "stream",
     "text": [
      "The rain in Spain\n"
     ]
    }
   ],
   "source": [
    "txt = \"The rain in Spain\"\n",
    "x = re.search(r\"\\bS\\w+\", txt)\n",
    "print(x.string)"
   ]
  },
  {
   "cell_type": "code",
   "execution_count": 85,
   "metadata": {},
   "outputs": [
    {
     "name": "stdout",
     "output_type": "stream",
     "text": [
      "Spain\n"
     ]
    }
   ],
   "source": [
    "txt = \"The rain in Spain\"\n",
    "x = re.search(r\"\\bS\\w+\", txt)\n",
    "print(x.group())"
   ]
  },
  {
   "cell_type": "markdown",
   "metadata": {},
   "source": [
    "## Try-Except-Finally"
   ]
  },
  {
   "cell_type": "code",
   "execution_count": 91,
   "metadata": {},
   "outputs": [
    {
     "name": "stdout",
     "output_type": "stream",
     "text": [
      "An Exception occured!\n"
     ]
    }
   ],
   "source": [
    "try:\n",
    "    print(z)\n",
    "except:\n",
    "    print(\"An Exception occured!\")"
   ]
  },
  {
   "cell_type": "code",
   "execution_count": 92,
   "metadata": {},
   "outputs": [
    {
     "name": "stdout",
     "output_type": "stream",
     "text": [
      "Variable not initialized\n"
     ]
    }
   ],
   "source": [
    "#different Exception \n",
    "try:\n",
    "    print(z)\n",
    "except NameError:\n",
    "    print(\"Variable not initialized\")\n",
    "except:\n",
    "    print(\"Exception occured!\")"
   ]
  },
  {
   "cell_type": "code",
   "execution_count": 93,
   "metadata": {},
   "outputs": [
    {
     "name": "stdout",
     "output_type": "stream",
     "text": [
      "Hello\n",
      "Nothing went wrong\n"
     ]
    }
   ],
   "source": [
    "try:\n",
    "    print(\"Hello\")\n",
    "except:\n",
    "    print(\"Something went wrong\")\n",
    "else:\n",
    "    print(\"Nothing went wrong\")"
   ]
  },
  {
   "cell_type": "code",
   "execution_count": 94,
   "metadata": {},
   "outputs": [
    {
     "name": "stdout",
     "output_type": "stream",
     "text": [
      "Something went wrong\n",
      "The 'try except' is finished\n"
     ]
    }
   ],
   "source": [
    "try:\n",
    "  print(z)\n",
    "except:\n",
    "  print(\"Something went wrong\")\n",
    "finally:\n",
    "  print(\"The 'try except' is finished\")"
   ]
  },
  {
   "cell_type": "code",
   "execution_count": 99,
   "metadata": {},
   "outputs": [
    {
     "name": "stdout",
     "output_type": "stream",
     "text": [
      "File closed!\n"
     ]
    }
   ],
   "source": [
    "try:\n",
    "  f = open(\"demofile.txt\",'a')\n",
    "  f.write(\"Lorum Ipsum\")\n",
    "except:\n",
    "  print(\"Something went wrong when writing to the file\")\n",
    "finally:\n",
    "    print(\"File closed!\")\n",
    "    f.close()"
   ]
  },
  {
   "cell_type": "markdown",
   "metadata": {},
   "source": [
    "### Raise an Exception!"
   ]
  },
  {
   "cell_type": "code",
   "execution_count": 101,
   "metadata": {},
   "outputs": [
    {
     "ename": "Exception",
     "evalue": "Out of range!",
     "output_type": "error",
     "traceback": [
      "\u001b[1;31m---------------------------------------------------------------------------\u001b[0m",
      "\u001b[1;31mException\u001b[0m                                 Traceback (most recent call last)",
      "\u001b[1;32m<ipython-input-101-b0d6bb255de8>\u001b[0m in \u001b[0;36m<module>\u001b[1;34m\u001b[0m\n\u001b[0;32m      3\u001b[0m     \u001b[0mprint\u001b[0m\u001b[1;33m(\u001b[0m\u001b[1;36m1\u001b[0m\u001b[1;33m/\u001b[0m\u001b[0mx\u001b[0m\u001b[1;33m)\u001b[0m\u001b[1;33m\u001b[0m\u001b[1;33m\u001b[0m\u001b[0m\n\u001b[0;32m      4\u001b[0m \u001b[1;32melse\u001b[0m\u001b[1;33m:\u001b[0m\u001b[1;33m\u001b[0m\u001b[1;33m\u001b[0m\u001b[0m\n\u001b[1;32m----> 5\u001b[1;33m     \u001b[1;32mraise\u001b[0m \u001b[0mException\u001b[0m\u001b[1;33m(\u001b[0m\u001b[1;34m\"Out of range!\"\u001b[0m\u001b[1;33m)\u001b[0m\u001b[1;33m\u001b[0m\u001b[1;33m\u001b[0m\u001b[0m\n\u001b[0m",
      "\u001b[1;31mException\u001b[0m: Out of range!"
     ]
    }
   ],
   "source": [
    "x = 0\n",
    "if x != 0:\n",
    "    print(1/x)\n",
    "else:\n",
    "    raise Exception(\"Out of range!\")"
   ]
  },
  {
   "cell_type": "code",
   "execution_count": 108,
   "metadata": {},
   "outputs": [
    {
     "name": "stdout",
     "output_type": "stream",
     "text": [
      "H\n"
     ]
    },
    {
     "ename": "TypeError",
     "evalue": "exceptions must derive from BaseException",
     "output_type": "error",
     "traceback": [
      "\u001b[1;31m---------------------------------------------------------------------------\u001b[0m",
      "\u001b[1;31mTypeError\u001b[0m                                 Traceback (most recent call last)",
      "\u001b[1;32m<ipython-input-108-2a0231db7762>\u001b[0m in \u001b[0;36m<module>\u001b[1;34m\u001b[0m\n\u001b[0;32m      1\u001b[0m \u001b[0mx\u001b[0m \u001b[1;33m=\u001b[0m \u001b[1;34m\"hello\"\u001b[0m\u001b[1;33m\u001b[0m\u001b[1;33m\u001b[0m\u001b[0m\n\u001b[0;32m      2\u001b[0m \u001b[1;32mif\u001b[0m \u001b[1;32mnot\u001b[0m \u001b[0mtype\u001b[0m\u001b[1;33m(\u001b[0m\u001b[0mx\u001b[0m\u001b[1;33m)\u001b[0m \u001b[1;32mis\u001b[0m \u001b[0mint\u001b[0m\u001b[1;33m:\u001b[0m\u001b[1;33m\u001b[0m\u001b[1;33m\u001b[0m\u001b[0m\n\u001b[1;32m----> 3\u001b[1;33m     \u001b[1;32mraise\u001b[0m \u001b[0mprint\u001b[0m\u001b[1;33m(\u001b[0m\u001b[1;34m\"H\"\u001b[0m\u001b[1;33m)\u001b[0m\u001b[1;33m\u001b[0m\u001b[1;33m\u001b[0m\u001b[0m\n\u001b[0m",
      "\u001b[1;31mTypeError\u001b[0m: exceptions must derive from BaseException"
     ]
    }
   ],
   "source": [
    "x = \"hello\"\n",
    "if not type(x) is int:\n",
    "    raise print(\"H\")   #or BaseException(\"H\")"
   ]
  },
  {
   "cell_type": "markdown",
   "metadata": {},
   "source": [
    "## String Formatting"
   ]
  },
  {
   "cell_type": "code",
   "execution_count": 111,
   "metadata": {},
   "outputs": [
    {
     "name": "stdout",
     "output_type": "stream",
     "text": [
      "Price is Rs.49 for cans.\n"
     ]
    }
   ],
   "source": [
    "price = 49\n",
    "txt = \"Price is Rs.{} for cans.\"\n",
    "print(txt.format(price))"
   ]
  },
  {
   "cell_type": "code",
   "execution_count": 112,
   "metadata": {},
   "outputs": [
    {
     "name": "stdout",
     "output_type": "stream",
     "text": [
      "Prem\n",
      "My name is Prem\n"
     ]
    }
   ],
   "source": [
    "#taking user input\n",
    "txt = \"My name is {}\"\n",
    "print(txt.format(str(input())))"
   ]
  },
  {
   "cell_type": "code",
   "execution_count": 113,
   "metadata": {},
   "outputs": [
    {
     "name": "stdout",
     "output_type": "stream",
     "text": [
      "Price is 1.25 dollars\n"
     ]
    }
   ],
   "source": [
    "#formating decimals\n",
    "txt = \"Price is {:.2f} dollars\"\n",
    "print(txt.format(1.2532))"
   ]
  },
  {
   "cell_type": "code",
   "execution_count": 119,
   "metadata": {},
   "outputs": [
    {
     "name": "stdout",
     "output_type": "stream",
     "text": [
      "Multiple values are : price = 4,qty = 2 and price = 911.00\n"
     ]
    }
   ],
   "source": [
    "#multiple values\n",
    "price = 4\n",
    "quantity =2\n",
    "num = 911\n",
    "txt = \"Multiple values are : price = {},qty = {} and price = {:.2f}\"\n",
    "print(txt.format(price,quantity,num))"
   ]
  },
  {
   "cell_type": "code",
   "execution_count": 121,
   "metadata": {},
   "outputs": [
    {
     "name": "stdout",
     "output_type": "stream",
     "text": [
      "Multiple values are : price = 4,qty = 911 and price = 2.00\n",
      "Multiple values are : price = 2,qty = 2 and price = 911.00\n"
     ]
    }
   ],
   "source": [
    "#using indexing\n",
    "#multiple values\n",
    "price = 4\n",
    "quantity =2\n",
    "num = 911\n",
    "txt = \"Multiple values are : price = {0},qty = {2} and price = {1:.2f}\"\n",
    "print(txt.format(price,quantity,num))\n",
    "txt = \"Multiple values are : price = {1},qty = {1} and price = {2:.2f}\"   #using multiple times\n",
    "print(txt.format(price,quantity,num))"
   ]
  },
  {
   "cell_type": "code",
   "execution_count": 123,
   "metadata": {},
   "outputs": [
    {
     "name": "stdout",
     "output_type": "stream",
     "text": [
      "My name is Prem Ranjan\n"
     ]
    }
   ],
   "source": [
    "#named index\n",
    "txt = \"My name is {name} {midname}\"\n",
    "print(txt.format(name=\"Prem\", midname=\"Ranjan\"))"
   ]
  },
  {
   "cell_type": "code",
   "execution_count": null,
   "metadata": {},
   "outputs": [],
   "source": []
  }
 ],
 "metadata": {
  "kernelspec": {
   "display_name": "Python 3",
   "language": "python",
   "name": "python3"
  },
  "language_info": {
   "codemirror_mode": {
    "name": "ipython",
    "version": 3
   },
   "file_extension": ".py",
   "mimetype": "text/x-python",
   "name": "python",
   "nbconvert_exporter": "python",
   "pygments_lexer": "ipython3",
   "version": "3.8.3"
  }
 },
 "nbformat": 4,
 "nbformat_minor": 4
}
